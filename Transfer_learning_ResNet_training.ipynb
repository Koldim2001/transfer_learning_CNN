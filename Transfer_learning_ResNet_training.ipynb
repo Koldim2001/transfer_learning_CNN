{
 "cells": [
  {
   "cell_type": "markdown",
   "id": "cee99c7e",
   "metadata": {},
   "source": [
    "_python notebook №2_"
   ]
  },
  {
   "cell_type": "markdown",
   "id": "543cf7a9",
   "metadata": {},
   "source": [
    "## Стадия обученяи сетей с применением Transfer learning"
   ]
  },
  {
   "cell_type": "code",
   "execution_count": 1,
   "id": "6061bdeb",
   "metadata": {},
   "outputs": [],
   "source": [
    "#pip install nbimporter"
   ]
  },
  {
   "cell_type": "code",
   "execution_count": 2,
   "id": "7ffec6de",
   "metadata": {},
   "outputs": [],
   "source": [
    "import nbimporter\n",
    "import datasets_bilder # загрузка datasets_bilder.py из репозитория"
   ]
  },
  {
   "cell_type": "code",
   "execution_count": 5,
   "id": "d1cdc118",
   "metadata": {},
   "outputs": [],
   "source": [
    "import pandas as pd\n",
    "import numpy as np\n",
    "from torch.utils.data import Dataset, DataLoader\n",
    "import os\n",
    "import random\n",
    "import seaborn as sns\n",
    "import torch,torchvision\n",
    "from  matplotlib import pyplot as plt\n",
    "%matplotlib inline"
   ]
  },
  {
   "cell_type": "code",
   "execution_count": 6,
   "id": "aec5e791",
   "metadata": {},
   "outputs": [],
   "source": [
    "# Для воспроизводимости результатов зафиксируем сиды:\n",
    "random.seed(42)\n",
    "np.random.seed(42)\n",
    "torch.manual_seed(42)\n",
    "torch.cuda.manual_seed(42)\n",
    "torch.backends.cudnn.deterministic = True"
   ]
  },
  {
   "cell_type": "code",
   "execution_count": 17,
   "id": "6650c512",
   "metadata": {},
   "outputs": [
    {
     "name": "stdout",
     "output_type": "stream",
     "text": [
      "В репозитории находятся следующие файлы: ['.git', '.gitignore', '.ipynb_checkpoints', 'chest_xray', 'datasets_bilder.py', 'models', 'Preprocessing_&_custom_DL_model.ipynb', 'README.md', 'Transfer_learning_ResNet_training.ipynb', '__pycache__']\n"
     ]
    }
   ],
   "source": [
    "print('В репозитории находятся следующие файлы:', os.listdir())"
   ]
  },
  {
   "cell_type": "markdown",
   "id": "e86de981",
   "metadata": {},
   "source": [
    "Для реализации предобработки данных я написал отельный файл datasets_bilder.py в котором описал создание класса preprocessing_func, который в методе init генерит 3 датасета: dataset_test, dataset_train, dataset_test и сохраняет их значения в атрибутах test, train, val объекта класса. Атрибуты mean_nums и std_nums дают возможность получить величины средних значений и ско для всего train датасета. <br><br>\n",
    "По сути данный код является полной копией кода из файла Preprocessing_&_custom_DL_model.ipynb, но только представленным в виде функции инициализации объекта класса. Так что для ознакомления с реализацией предобработки советую рассмотреть тот python notebook.<br> <br>\n",
    "Единственным важным дополнением в предобработке, представленной в файле datasets_bilder.py, можно назвать возможность выбора размерности данных, которые мы хотим получать на выходе. Если при задании объекта класса указать значение size, то можно самому выбрать размер получаемых после трасформации Resize изображений (по умолчанию - квадратные изображения размером 224 на 224). <br>Так же если ввести при задании объекта значение RGB_presentation = True, то выходной размер изображений станет равен (3, Size, Size) вместо классического для чб снимков тензора размером (1, Size, Size). По умолчанию RGB_presentation = False. Данная функция будет нужна при Transfer Learning, так как предобученные сети имеют первый сверточный слой трехканальным, так что для использования готовых сетей можно просто сделать дублирование одного канала еще 2 раза чтобы изображение черно-белое можно было считать цветным. При выборе RGB_presentation = True тензоры, хранящиеся в атрибутах mean_nums и std_nums тоже меняют размерность\n"
   ]
  },
  {
   "cell_type": "markdown",
   "id": "f4060ac1",
   "metadata": {},
   "source": [
    "__Пример работы с preprocessing_func:__"
   ]
  },
  {
   "cell_type": "code",
   "execution_count": 9,
   "id": "3ca2b271",
   "metadata": {},
   "outputs": [],
   "source": [
    "data = datasets_bilder.preprocessing_func(size = 200, RGB_presentation = True)"
   ]
  },
  {
   "cell_type": "code",
   "execution_count": 10,
   "id": "798d05bb",
   "metadata": {},
   "outputs": [],
   "source": [
    "dataset_test = data.test\n",
    "dataset_train = data.train\n",
    "dataset_test = data.val\n",
    "mean_nums = data.mean_nums\n",
    "std_nums = data.std_nums"
   ]
  },
  {
   "cell_type": "code",
   "execution_count": 11,
   "id": "4e027ab6",
   "metadata": {},
   "outputs": [
    {
     "data": {
      "text/plain": [
       "(tensor([0.5455, 0.5455, 0.5455]), tensor([0.2587, 0.2587, 0.2587]))"
      ]
     },
     "execution_count": 11,
     "metadata": {},
     "output_type": "execute_result"
    }
   ],
   "source": [
    "mean_nums, std_nums"
   ]
  },
  {
   "cell_type": "code",
   "execution_count": 12,
   "id": "4f2ad102",
   "metadata": {},
   "outputs": [
    {
     "data": {
      "text/plain": [
       "torch.Size([3, 200, 200])"
      ]
     },
     "execution_count": 12,
     "metadata": {},
     "output_type": "execute_result"
    }
   ],
   "source": [
    "a, _ = dataset_test[0]\n",
    "a.shape"
   ]
  },
  {
   "cell_type": "markdown",
   "id": "b99fc3a5",
   "metadata": {},
   "source": [
    "Зададим вычислительное устройство:"
   ]
  },
  {
   "cell_type": "code",
   "execution_count": null,
   "id": "d641d179",
   "metadata": {},
   "outputs": [],
   "source": [
    "device = torch.device(\"cuda\") if torch.cuda.is_available() else torch.device(\"cpu\")"
   ]
  },
  {
   "cell_type": "code",
   "execution_count": null,
   "id": "a51c6d50",
   "metadata": {},
   "outputs": [],
   "source": [
    "batch_size = 8 # зададим размер батча"
   ]
  },
  {
   "cell_type": "markdown",
   "id": "9b1013a9",
   "metadata": {},
   "source": [
    "Проверим правильность загруженных данных:"
   ]
  },
  {
   "cell_type": "code",
   "execution_count": null,
   "id": "1efff0d0",
   "metadata": {},
   "outputs": [],
   "source": [
    "def imshow(img):\n",
    "    img = img *std_nums + mean_nums  \n",
    "    img = img.cpu().numpy()\n",
    "    plt.imshow(np.transpose(img, (1, 2, 0)))  \n",
    "    plt.show()"
   ]
  },
  {
   "cell_type": "code",
   "execution_count": null,
   "id": "1d788ef3",
   "metadata": {},
   "outputs": [],
   "source": [
    "dataloader_test = DataLoader(dataset=dataset_test, batch_size=batch_size, shuffle=True, num_workers=0)"
   ]
  },
  {
   "cell_type": "code",
   "execution_count": null,
   "id": "0a5f9cd8",
   "metadata": {},
   "outputs": [],
   "source": [
    "classes = ['norm','pneumonia']\n",
    "image_batch, label_batch = next(iter(dataloader_test))\n",
    "image_batch, label_batch = image_batch.to(device), label_batch.to(device)\n",
    "print('test:')\n",
    "plt.figure(figsize=(15, 9), dpi=80)\n",
    "# выводим изображения в батче\n",
    "imshow(torchvision.utils.make_grid(image_batch))\n",
    "print('GroundTruth: ', ',  '.join( classes[int(label_batch[j])] for j in range(batch_size)))"
   ]
  },
  {
   "cell_type": "code",
   "execution_count": null,
   "id": "476f3c3d",
   "metadata": {},
   "outputs": [],
   "source": [
    "dataloader_train = DataLoader(dataset=dataset_train, batch_size=batch_size, shuffle=True, num_workers=0)"
   ]
  },
  {
   "cell_type": "code",
   "execution_count": null,
   "id": "292f2db8",
   "metadata": {},
   "outputs": [],
   "source": [
    "image_batch, label_batch = next(iter(dataloader_test))\n",
    "image_batch, label_batch = image_batch.to(device), label_batch.to(device)\n",
    "print('train:')\n",
    "plt.figure(figsize=(15, 9), dpi=80)\n",
    "# выводим изображения в батче\n",
    "imshow(torchvision.utils.make_grid(image_batch))\n",
    "print('GroundTruth: ', ',  '.join( classes[int(label_batch[j])] for j in range(batch_size)))"
   ]
  },
  {
   "cell_type": "code",
   "execution_count": null,
   "id": "8e96f6b5",
   "metadata": {},
   "outputs": [],
   "source": [
    "dataloader_val = DataLoader(dataset=dataset_val, batch_size=batch_size, shuffle=True, num_workers=0)"
   ]
  },
  {
   "cell_type": "code",
   "execution_count": 18,
   "id": "681a8fd9",
   "metadata": {},
   "outputs": [],
   "source": [
    "#продолжение следует ..."
   ]
  },
  {
   "cell_type": "code",
   "execution_count": null,
   "id": "728cc0cc",
   "metadata": {},
   "outputs": [],
   "source": []
  },
  {
   "cell_type": "code",
   "execution_count": null,
   "id": "e74126eb",
   "metadata": {},
   "outputs": [],
   "source": []
  },
  {
   "cell_type": "code",
   "execution_count": null,
   "id": "56494d22",
   "metadata": {},
   "outputs": [],
   "source": []
  }
 ],
 "metadata": {
  "kernelspec": {
   "display_name": "Python 3 (ipykernel)",
   "language": "python",
   "name": "python3"
  },
  "language_info": {
   "codemirror_mode": {
    "name": "ipython",
    "version": 3
   },
   "file_extension": ".py",
   "mimetype": "text/x-python",
   "name": "python",
   "nbconvert_exporter": "python",
   "pygments_lexer": "ipython3",
   "version": "3.9.7"
  }
 },
 "nbformat": 4,
 "nbformat_minor": 5
}
