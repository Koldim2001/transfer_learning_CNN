{
 "cells": [
  {
   "cell_type": "markdown",
   "id": "543cf7a9",
   "metadata": {},
   "source": [
    "### Стадия инициализации и обучения нейронных сетей"
   ]
  },
  {
   "cell_type": "code",
   "execution_count": 1,
   "id": "7ffec6de",
   "metadata": {},
   "outputs": [],
   "source": [
    "import nbimporter\n",
    "import datasets_bilder"
   ]
  },
  {
   "cell_type": "code",
   "execution_count": 2,
   "id": "d1cdc118",
   "metadata": {},
   "outputs": [],
   "source": [
    "import pandas as pd\n",
    "import numpy as np\n",
    "from torch.utils.data import Dataset, DataLoader\n",
    "import os\n",
    "import random\n",
    "import seaborn as sns\n",
    "import torch,torchvision\n",
    "from  matplotlib import pyplot as plt\n",
    "%matplotlib inline"
   ]
  },
  {
   "cell_type": "code",
   "execution_count": 3,
   "id": "aec5e791",
   "metadata": {},
   "outputs": [],
   "source": [
    "# Для воспроизводимости результатов зафиксируем сиды:\n",
    "random.seed(42)\n",
    "np.random.seed(42)\n",
    "torch.manual_seed(42)\n",
    "torch.cuda.manual_seed(42)\n",
    "torch.backends.cudnn.deterministic = True"
   ]
  },
  {
   "cell_type": "code",
   "execution_count": 4,
   "id": "307ac8ec",
   "metadata": {},
   "outputs": [
    {
     "name": "stdout",
     "output_type": "stream",
     "text": [
      "Текущее расположение репозитория D:\\Python_notebooks\\repository_Koldim2001\\transfer_learning_CNN\n"
     ]
    }
   ],
   "source": [
    "pwd = os.getcwd()\n",
    "print('Текущее расположение репозитория', pwd)"
   ]
  },
  {
   "cell_type": "code",
   "execution_count": 5,
   "id": "3ca2b271",
   "metadata": {},
   "outputs": [],
   "source": [
    "data = datasets_bilder.preprocessing_func()"
   ]
  },
  {
   "cell_type": "code",
   "execution_count": 7,
   "id": "798d05bb",
   "metadata": {},
   "outputs": [],
   "source": [
    "dataset_test = data.test\n",
    "dataset_train = data.train\n",
    "dataset_test = data.val\n",
    "mean_nums = data.mean_nums\n",
    "std_nums = data.std_nums"
   ]
  },
  {
   "cell_type": "markdown",
   "id": "b99fc3a5",
   "metadata": {},
   "source": [
    "Зададим вычислительное устройство:"
   ]
  },
  {
   "cell_type": "code",
   "execution_count": null,
   "id": "d641d179",
   "metadata": {},
   "outputs": [],
   "source": [
    "device = torch.device(\"cuda\") if torch.cuda.is_available() else torch.device(\"cpu\")"
   ]
  },
  {
   "cell_type": "code",
   "execution_count": null,
   "id": "a51c6d50",
   "metadata": {},
   "outputs": [],
   "source": [
    "batch_size = 8 # зададим размер батча"
   ]
  },
  {
   "cell_type": "markdown",
   "id": "9b1013a9",
   "metadata": {},
   "source": [
    "Проверим правильность загруженных данных:"
   ]
  },
  {
   "cell_type": "code",
   "execution_count": null,
   "id": "1efff0d0",
   "metadata": {},
   "outputs": [],
   "source": [
    "def imshow(img):\n",
    "    img = img *std_nums + mean_nums  \n",
    "    img = img.cpu().numpy()\n",
    "    plt.imshow(np.transpose(img, (1, 2, 0)))  \n",
    "    plt.show()"
   ]
  },
  {
   "cell_type": "code",
   "execution_count": null,
   "id": "1d788ef3",
   "metadata": {},
   "outputs": [],
   "source": [
    "dataloader_test = DataLoader(dataset=dataset_test, batch_size=batch_size, shuffle=True, num_workers=0)"
   ]
  },
  {
   "cell_type": "code",
   "execution_count": null,
   "id": "a361d114",
   "metadata": {},
   "outputs": [],
   "source": [
    "mean_nums, std_nums = torch.tensor([0.5455]), torch.tensor([0.2587])"
   ]
  },
  {
   "cell_type": "code",
   "execution_count": null,
   "id": "0a5f9cd8",
   "metadata": {},
   "outputs": [],
   "source": [
    "classes = ['norm','pneumonia']\n",
    "image_batch, label_batch = next(iter(dataloader_test))\n",
    "image_batch, label_batch = image_batch.to(device), label_batch.to(device)\n",
    "print('test:')\n",
    "plt.figure(figsize=(15, 9), dpi=80)\n",
    "# выводим изображения в батче\n",
    "imshow(torchvision.utils.make_grid(image_batch))\n",
    "print('GroundTruth: ', ',  '.join( classes[int(label_batch[j])] for j in range(batch_size)))"
   ]
  },
  {
   "cell_type": "code",
   "execution_count": null,
   "id": "476f3c3d",
   "metadata": {},
   "outputs": [],
   "source": [
    "dataloader_train = DataLoader(dataset=dataset_train, batch_size=batch_size, shuffle=True, num_workers=0)"
   ]
  },
  {
   "cell_type": "code",
   "execution_count": null,
   "id": "292f2db8",
   "metadata": {},
   "outputs": [],
   "source": [
    "image_batch, label_batch = next(iter(dataloader_test))\n",
    "image_batch, label_batch = image_batch.to(device), label_batch.to(device)\n",
    "print('train:')\n",
    "plt.figure(figsize=(15, 9), dpi=80)\n",
    "# выводим изображения в батче\n",
    "imshow(torchvision.utils.make_grid(image_batch))\n",
    "print('GroundTruth: ', ',  '.join( classes[int(label_batch[j])] for j in range(batch_size)))"
   ]
  },
  {
   "cell_type": "code",
   "execution_count": null,
   "id": "8e96f6b5",
   "metadata": {},
   "outputs": [],
   "source": [
    " "
   ]
  }
 ],
 "metadata": {
  "kernelspec": {
   "display_name": "Python 3 (ipykernel)",
   "language": "python",
   "name": "python3"
  },
  "language_info": {
   "codemirror_mode": {
    "name": "ipython",
    "version": 3
   },
   "file_extension": ".py",
   "mimetype": "text/x-python",
   "name": "python",
   "nbconvert_exporter": "python",
   "pygments_lexer": "ipython3",
   "version": "3.9.7"
  }
 },
 "nbformat": 4,
 "nbformat_minor": 5
}
