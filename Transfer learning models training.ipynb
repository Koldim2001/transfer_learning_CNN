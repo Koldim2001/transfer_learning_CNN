{
 "cells": [
  {
   "cell_type": "markdown",
   "id": "543cf7a9",
   "metadata": {},
   "source": [
    "### Стадия инициализации и обучения нейронных сетей"
   ]
  },
  {
   "cell_type": "code",
   "execution_count": 1,
   "id": "d1cdc118",
   "metadata": {},
   "outputs": [],
   "source": [
    "import pandas as pd\n",
    "import numpy as np\n",
    "from torch.utils.data import Dataset, DataLoader\n",
    "import os\n",
    "import random\n",
    "import seaborn as sns\n",
    "import torch,torchvision\n",
    "from  matplotlib import pyplot as plt\n",
    "%matplotlib inline"
   ]
  },
  {
   "cell_type": "code",
   "execution_count": 2,
   "id": "aec5e791",
   "metadata": {},
   "outputs": [],
   "source": [
    "# Для воспроизводимости результатов зафиксируем сиды:\n",
    "random.seed(42)\n",
    "np.random.seed(42)\n",
    "torch.manual_seed(42)\n",
    "torch.cuda.manual_seed(42)\n",
    "torch.backends.cudnn.deterministic = True"
   ]
  },
  {
   "cell_type": "code",
   "execution_count": 3,
   "id": "307ac8ec",
   "metadata": {},
   "outputs": [
    {
     "name": "stdout",
     "output_type": "stream",
     "text": [
      "Текущее расположение репозитория D:\\Python_notebooks\\repository_Koldim2001\\transfer_learning_CNN\n"
     ]
    }
   ],
   "source": [
    "pwd = os.getcwd()\n",
    "print('Текущее расположение репозитория', pwd)"
   ]
  },
  {
   "cell_type": "code",
   "execution_count": 13,
   "id": "3ca2b271",
   "metadata": {},
   "outputs": [
    {
     "name": "stdout",
     "output_type": "stream",
     "text": [
      "Загруженные на компьютер датасеты найдены\n",
      "Список файлов ['dataset_test.pth', 'dataset_train.pth', 'dataset_val.pth']\n"
     ]
    }
   ],
   "source": [
    "directory = pwd + '\\preprocessed_data'\n",
    "if not os.path.exists(directory):\n",
    "    print('Отсутвуют датасеты, так что требуется запустить файл data_preprocessing.ipynb')\n",
    "else:\n",
    "    print('Загруженные на компьютер датасеты найдены')\n",
    "    list_files = os.listdir('preprocessed_data')\n",
    "    print('Список файлов', list_files)"
   ]
  },
  {
   "cell_type": "markdown",
   "id": "49e19529",
   "metadata": {},
   "source": [
    "Загрузим предобработанные датасеты. Заново преопределим класс MakeDataset и зададим посчитанные ранее значения среднего и ско по трейновому датасету"
   ]
  },
  {
   "cell_type": "code",
   "execution_count": 5,
   "id": "8c72811d",
   "metadata": {},
   "outputs": [],
   "source": [
    "class MakeDataset(Dataset):\n",
    "    def __init__(self, df, transform=None):\n",
    "        df = df.to_numpy()\n",
    "        self.x = df[:,0]\n",
    "        self.y = df[:,2]\n",
    "        self.n_samples = df.shape[0]\n",
    "        self.transform = transform\n",
    "        \n",
    "    def __getitem__(self, index):\n",
    "        sample = self.x[index]/225 #привел значения тензоров к дапазону от 0 до 1\n",
    "        sample = torch.tensor(np.expand_dims(sample, axis=0)) #добавил канал 1 \n",
    "        # теперь данные - тензор 1 х H x W\n",
    "        \n",
    "        if self.transform is not None:\n",
    "            sample = self.transform(sample)\n",
    "        return (sample,  torch.tensor([self.y[index]]))\n",
    "        \n",
    "    def __len__(self):\n",
    "        return self.n_samples"
   ]
  },
  {
   "cell_type": "code",
   "execution_count": 6,
   "id": "f42461ba",
   "metadata": {},
   "outputs": [],
   "source": [
    "mean_nums = torch.tensor([0.5461])\n",
    "std_nums = torch.tensor([0.2567])"
   ]
  },
  {
   "cell_type": "code",
   "execution_count": null,
   "id": "6c9b1d7d",
   "metadata": {},
   "outputs": [],
   "source": [
    "dataset_train = torch.load(os.path.join(directory, 'dataset_train.pth'))"
   ]
  },
  {
   "cell_type": "code",
   "execution_count": null,
   "id": "7364f213",
   "metadata": {},
   "outputs": [],
   "source": [
    "dataset_test = torch.load(os.path.join(directory, 'dataset_test.pth'))"
   ]
  },
  {
   "cell_type": "code",
   "execution_count": null,
   "id": "8d7e6024",
   "metadata": {},
   "outputs": [],
   "source": [
    "dataset_val = torch.load(os.path.join(directory, 'dataset_val.pth'))"
   ]
  },
  {
   "cell_type": "markdown",
   "id": "b99fc3a5",
   "metadata": {},
   "source": [
    "Зададим вычислительное устройство:"
   ]
  },
  {
   "cell_type": "code",
   "execution_count": null,
   "id": "d641d179",
   "metadata": {},
   "outputs": [],
   "source": [
    "device = torch.device(\"cuda\") if torch.cuda.is_available() else torch.device(\"cpu\")"
   ]
  },
  {
   "cell_type": "code",
   "execution_count": null,
   "id": "a51c6d50",
   "metadata": {},
   "outputs": [],
   "source": [
    "batch_size = 8 # зададим размер батча"
   ]
  },
  {
   "cell_type": "code",
   "execution_count": null,
   "id": "db38bbd7",
   "metadata": {},
   "outputs": [],
   "source": [
    "Проверим правильность загруженных данных:"
   ]
  },
  {
   "cell_type": "code",
   "execution_count": null,
   "id": "1efff0d0",
   "metadata": {},
   "outputs": [],
   "source": [
    "def imshow(img):\n",
    "    img = img *std_nums + mean_nums  \n",
    "    img = img.cpu().numpy()\n",
    "    plt.imshow(np.transpose(img, (1, 2, 0)))  \n",
    "    plt.show()"
   ]
  },
  {
   "cell_type": "code",
   "execution_count": null,
   "id": "1d788ef3",
   "metadata": {},
   "outputs": [],
   "source": [
    "dataloader_test = DataLoader(dataset=dataset_test, batch_size=batch_size, shuffle=True, num_workers=0)"
   ]
  },
  {
   "cell_type": "code",
   "execution_count": null,
   "id": "0a5f9cd8",
   "metadata": {},
   "outputs": [],
   "source": [
    "classes = ['norm','pneumonia']\n",
    "image_batch, label_batch = next(iter(dataloader_test))\n",
    "image_batch, label_batch = image_batch.to(device), label_batch.to(device)\n",
    "print('test:')\n",
    "plt.figure(figsize=(15, 9), dpi=80)\n",
    "# выводим изображения в батче\n",
    "imshow(torchvision.utils.make_grid(image_batch))\n",
    "print('GroundTruth: ', ',  '.join( classes[int(label_batch[j])] for j in range(batch_size)))"
   ]
  },
  {
   "cell_type": "code",
   "execution_count": null,
   "id": "476f3c3d",
   "metadata": {},
   "outputs": [],
   "source": [
    "dataloader_train = DataLoader(dataset=dataset_train, batch_size=batch_size, shuffle=True, num_workers=0)"
   ]
  },
  {
   "cell_type": "code",
   "execution_count": null,
   "id": "292f2db8",
   "metadata": {},
   "outputs": [],
   "source": [
    "image_batch, label_batch = next(iter(dataloader_test))\n",
    "image_batch, label_batch = image_batch.to(device), label_batch.to(device)\n",
    "print('train:')\n",
    "plt.figure(figsize=(15, 9), dpi=80)\n",
    "# выводим изображения в батче\n",
    "imshow(torchvision.utils.make_grid(image_batch))\n",
    "print('GroundTruth: ', ',  '.join( classes[int(label_batch[j])] for j in range(batch_size)))"
   ]
  },
  {
   "cell_type": "code",
   "execution_count": null,
   "id": "8e96f6b5",
   "metadata": {},
   "outputs": [],
   "source": [
    " "
   ]
  }
 ],
 "metadata": {
  "kernelspec": {
   "display_name": "Python 3 (ipykernel)",
   "language": "python",
   "name": "python3"
  },
  "language_info": {
   "codemirror_mode": {
    "name": "ipython",
    "version": 3
   },
   "file_extension": ".py",
   "mimetype": "text/x-python",
   "name": "python",
   "nbconvert_exporter": "python",
   "pygments_lexer": "ipython3",
   "version": "3.9.7"
  }
 },
 "nbformat": 4,
 "nbformat_minor": 5
}
