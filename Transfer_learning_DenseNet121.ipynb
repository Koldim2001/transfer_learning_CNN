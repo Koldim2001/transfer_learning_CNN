{
 "cells": [
  {
   "cell_type": "markdown",
   "id": "cee99c7e",
   "metadata": {},
   "source": [
    "_python notebook №3_"
   ]
  },
  {
   "cell_type": "markdown",
   "id": "543cf7a9",
   "metadata": {},
   "source": [
    "## Стадия обученяи сетей DenseNet 121 с применением Transfer learning"
   ]
  },
  {
   "cell_type": "code",
   "execution_count": 1,
   "id": "7ffec6de",
   "metadata": {},
   "outputs": [],
   "source": [
    "import nbimporter\n",
    "import datasets_bilder # загрузка datasets_bilder.py из репозитория"
   ]
  },
  {
   "cell_type": "code",
   "execution_count": 2,
   "id": "d1cdc118",
   "metadata": {},
   "outputs": [],
   "source": [
    "import pandas as pd\n",
    "import numpy as np\n",
    "from torch.utils.data import Dataset, DataLoader\n",
    "import os\n",
    "import random\n",
    "import seaborn as sns\n",
    "import torch,torchvision\n",
    "from  matplotlib import pyplot as plt\n",
    "import torch.nn as nn\n",
    "import torch.nn.functional as F\n",
    "import torch.optim as optim\n",
    "import time\n",
    "from tqdm import tqdm\n",
    "from sklearn.metrics import confusion_matrix\n",
    "from sklearn.metrics import classification_report\n",
    "import itertools\n",
    "import torchvision.utils as vutils\n",
    "%matplotlib inline"
   ]
  },
  {
   "cell_type": "code",
   "execution_count": 3,
   "id": "aec5e791",
   "metadata": {},
   "outputs": [],
   "source": [
    "# Для воспроизводимости результатов зафиксируем сиды:\n",
    "random.seed(42)\n",
    "np.random.seed(42)\n",
    "torch.manual_seed(42)\n",
    "torch.cuda.manual_seed(42)\n",
    "torch.backends.cudnn.deterministic = True"
   ]
  },
  {
   "cell_type": "markdown",
   "id": "9b1013a9",
   "metadata": {},
   "source": [
    "Функция для отображения картинок"
   ]
  },
  {
   "cell_type": "code",
   "execution_count": 5,
   "id": "1efff0d0",
   "metadata": {},
   "outputs": [],
   "source": [
    "def imshow(img):\n",
    "    img = img *std_nums[0] + mean_nums[0]  \n",
    "    img = img.cpu().numpy()\n",
    "    plt.imshow(np.transpose(img, (1, 2, 0)))  \n",
    "    plt.show()"
   ]
  },
  {
   "cell_type": "markdown",
   "id": "30955718",
   "metadata": {},
   "source": [
    "Функция для визуализации confusion_matrix:"
   ]
  },
  {
   "cell_type": "code",
   "execution_count": 6,
   "id": "4a696bef",
   "metadata": {},
   "outputs": [],
   "source": [
    "def plot_confusion_matrix(cm,\n",
    "                          target_names,\n",
    "                          title='Confusion matrix',\n",
    "                          cmap=None,\n",
    "                          normalize=True):\n",
    "    accuracy = np.trace(cm) / float(np.sum(cm))\n",
    "    misclass = 1 - accuracy\n",
    "\n",
    "    if cmap is None:\n",
    "        cmap = plt.get_cmap('Blues')\n",
    "\n",
    "    plt.figure(figsize=(8, 6))\n",
    "    plt.imshow(cm, interpolation='nearest', cmap=cmap)\n",
    "    plt.title(title)\n",
    "    plt.colorbar()\n",
    "\n",
    "    if target_names is not None:\n",
    "        tick_marks = np.arange(len(target_names))\n",
    "        plt.xticks(tick_marks, target_names, rotation=45)\n",
    "        plt.yticks(tick_marks, target_names)\n",
    "\n",
    "    if normalize:\n",
    "        cm = cm.astype('float') / cm.sum(axis=1)[:, np.newaxis]\n",
    "\n",
    "\n",
    "    thresh = cm.max() / 1.5 if normalize else cm.max() / 2\n",
    "    for i, j in itertools.product(range(cm.shape[0]), range(cm.shape[1])):\n",
    "        if normalize:\n",
    "            plt.text(j, i, \"{:0.4f}\".format(cm[i, j]),\n",
    "                     horizontalalignment=\"center\",\n",
    "                     color=\"white\" if cm[i, j] > thresh else \"black\")\n",
    "        else:\n",
    "            plt.text(j, i, \"{:,}\".format(cm[i, j]),\n",
    "                     horizontalalignment=\"center\",\n",
    "                     color=\"white\" if cm[i, j] > thresh else \"black\")\n",
    "\n",
    "\n",
    "    plt.tight_layout()\n",
    "    plt.ylabel('True label')\n",
    "    plt.xlabel('Predicted label\\naccuracy={:0.4f}; misclass={:0.4f}'.format(accuracy, misclass))\n",
    "    plt.show()"
   ]
  },
  {
   "cell_type": "markdown",
   "id": "1543ca73",
   "metadata": {},
   "source": [
    "## DenseNet121"
   ]
  },
  {
   "cell_type": "markdown",
   "id": "698ea416",
   "metadata": {},
   "source": [
    "Загрузим предобученную модель. DenseNet архитектура состоит из четырех плотных блоков с разным количеством слоев.В случае DenseNet-121 [6,12,24,16] слоев в четырех плотных блоках"
   ]
  },
  {
   "cell_type": "code",
   "execution_count": 39,
   "id": "2e39af27",
   "metadata": {},
   "outputs": [
    {
     "name": "stderr",
     "output_type": "stream",
     "text": [
      "Using cache found in C:\\Users\\User/.cache\\torch\\hub\\pytorch_vision_v0.10.0\n"
     ]
    }
   ],
   "source": [
    "model = torch.hub.load('pytorch/vision:v0.10.0', 'densenet121', pretrained=True)"
   ]
  },
  {
   "cell_type": "code",
   "execution_count": 40,
   "id": "e74126eb",
   "metadata": {},
   "outputs": [
    {
     "name": "stdout",
     "output_type": "stream",
     "text": [
      "DenseNet(\n",
      "  (features): Sequential(\n",
      "    (conv0): Conv2d(3, 64, kernel_size=(7, 7), stride=(2, 2), padding=(3, 3), bias=False)\n",
      "    (norm0): BatchNorm2d(64, eps=1e-05, momentum=0.1, affine=True, track_running_stats=True)\n",
      "    (relu0): ReLU(inplace=True)\n",
      "    (pool0): MaxPool2d(kernel_size=3, stride=2, padding=1, dilation=1, ceil_mode=False)\n",
      "    (denseblock1): _DenseBlock(\n",
      "      (denselayer1): _DenseLayer(\n",
      "        (norm1): BatchNorm2d(64, eps=1e-05, momentum=0.1, affine=True, track_running_stats=True)\n",
      "        (relu1): ReLU(inplace=True)\n",
      "        (conv1): Conv2d(64, 128, kernel_size=(1, 1), stride=(1, 1), bias=False)\n",
      "        (norm2): BatchNorm2d(128, eps=1e-05, momentum=0.1, affine=True, track_running_stats=True)\n",
      "        (relu2): ReLU(inplace=True)\n",
      "        (conv2): Conv2d(128, 32, kernel_size=(3, 3), stride=(1, 1), padding=(1, 1), bias=False)\n",
      "      )\n",
      "      (denselayer2): _DenseLayer(\n",
      "        (norm1): BatchNorm2d(96, eps=1e-05, momentum=0.1, affine=True, track_running_stats=True)\n",
      "        (relu1): ReLU(inplace=True)\n",
      "        (conv1): Conv2d(96, 128, kernel_size=(1, 1), stride=(1, 1), bias=False)\n",
      "        (norm2): BatchNorm2d(128, eps=1e-05, momentum=0.1, affine=True, track_running_stats=True)\n",
      "        (relu2): ReLU(inplace=True)\n",
      "        (conv2): Conv2d(128, 32, kernel_size=(3, 3), stride=(1, 1), padding=(1, 1), bias=False)\n",
      "      )\n",
      "      (denselayer3): _DenseLayer(\n",
      "        (norm1): BatchNorm2d(128, eps=1e-05, momentum=0.1, affine=True, track_running_stats=True)\n",
      "        (relu1): ReLU(inplace=True)\n",
      "        (conv1): Conv2d(128, 128, kernel_size=(1, 1), stride=(1, 1), bias=False)\n",
      "        (norm2): BatchNorm2d(128, eps=1e-05, momentum=0.1, affine=True, track_running_stats=True)\n",
      "        (relu2): ReLU(inplace=True)\n",
      "        (conv2): Conv2d(128, 32, kernel_size=(3, 3), stride=(1, 1), padding=(1, 1), bias=False)\n",
      "      )\n",
      "      (denselayer4): _DenseLayer(\n",
      "        (norm1): BatchNorm2d(160, eps=1e-05, momentum=0.1, affine=True, track_running_stats=True)\n",
      "        (relu1): ReLU(inplace=True)\n",
      "        (conv1): Conv2d(160, 128, kernel_size=(1, 1), stride=(1, 1), bias=False)\n",
      "        (norm2): BatchNorm2d(128, eps=1e-05, momentum=0.1, affine=True, track_running_stats=True)\n",
      "        (relu2): ReLU(inplace=True)\n",
      "        (conv2): Conv2d(128, 32, kernel_size=(3, 3), stride=(1, 1), padding=(1, 1), bias=False)\n",
      "      )\n",
      "      (denselayer5): _DenseLayer(\n",
      "        (norm1): BatchNorm2d(192, eps=1e-05, momentum=0.1, affine=True, track_running_stats=True)\n",
      "        (relu1): ReLU(inplace=True)\n",
      "        (conv1): Conv2d(192, 128, kernel_size=(1, 1), stride=(1, 1), bias=False)\n",
      "        (norm2): BatchNorm2d(128, eps=1e-05, momentum=0.1, affine=True, track_running_stats=True)\n",
      "        (relu2): ReLU(inplace=True)\n",
      "        (conv2): Conv2d(128, 32, kernel_size=(3, 3), stride=(1, 1), padding=(1, 1), bias=False)\n",
      "      )\n",
      "      (denselayer6): _DenseLayer(\n",
      "        (norm1): BatchNorm2d(224, eps=1e-05, momentum=0.1, affine=True, track_running_stats=True)\n",
      "        (relu1): ReLU(inplace=True)\n",
      "        (conv1): Conv2d(224, 128, kernel_size=(1, 1), stride=(1, 1), bias=False)\n",
      "        (norm2): BatchNorm2d(128, eps=1e-05, momentum=0.1, affine=True, track_running_stats=True)\n",
      "        (relu2): ReLU(inplace=True)\n",
      "        (conv2): Conv2d(128, 32, kernel_size=(3, 3), stride=(1, 1), padding=(1, 1), bias=False)\n",
      "      )\n",
      "    )\n",
      "    (transition1): _Transition(\n",
      "      (norm): BatchNorm2d(256, eps=1e-05, momentum=0.1, affine=True, track_running_stats=True)\n",
      "      (relu): ReLU(inplace=True)\n",
      "      (conv): Conv2d(256, 128, kernel_size=(1, 1), stride=(1, 1), bias=False)\n",
      "      (pool): AvgPool2d(kernel_size=2, stride=2, padding=0)\n",
      "    )\n",
      "    (denseblock2): _DenseBlock(\n",
      "      (denselayer1): _DenseLayer(\n",
      "        (norm1): BatchNorm2d(128, eps=1e-05, momentum=0.1, affine=True, track_running_stats=True)\n",
      "        (relu1): ReLU(inplace=True)\n",
      "        (conv1): Conv2d(128, 128, kernel_size=(1, 1), stride=(1, 1), bias=False)\n",
      "        (norm2): BatchNorm2d(128, eps=1e-05, momentum=0.1, affine=True, track_running_stats=True)\n",
      "        (relu2): ReLU(inplace=True)\n",
      "        (conv2): Conv2d(128, 32, kernel_size=(3, 3), stride=(1, 1), padding=(1, 1), bias=False)\n",
      "      )\n",
      "      (denselayer2): _DenseLayer(\n",
      "        (norm1): BatchNorm2d(160, eps=1e-05, momentum=0.1, affine=True, track_running_stats=True)\n",
      "        (relu1): ReLU(inplace=True)\n",
      "        (conv1): Conv2d(160, 128, kernel_size=(1, 1), stride=(1, 1), bias=False)\n",
      "        (norm2): BatchNorm2d(128, eps=1e-05, momentum=0.1, affine=True, track_running_stats=True)\n",
      "        (relu2): ReLU(inplace=True)\n",
      "        (conv2): Conv2d(128, 32, kernel_size=(3, 3), stride=(1, 1), padding=(1, 1), bias=False)\n",
      "      )\n",
      "      (denselayer3): _DenseLayer(\n",
      "        (norm1): BatchNorm2d(192, eps=1e-05, momentum=0.1, affine=True, track_running_stats=True)\n",
      "        (relu1): ReLU(inplace=True)\n",
      "        (conv1): Conv2d(192, 128, kernel_size=(1, 1), stride=(1, 1), bias=False)\n",
      "        (norm2): BatchNorm2d(128, eps=1e-05, momentum=0.1, affine=True, track_running_stats=True)\n",
      "        (relu2): ReLU(inplace=True)\n",
      "        (conv2): Conv2d(128, 32, kernel_size=(3, 3), stride=(1, 1), padding=(1, 1), bias=False)\n",
      "      )\n",
      "      (denselayer4): _DenseLayer(\n",
      "        (norm1): BatchNorm2d(224, eps=1e-05, momentum=0.1, affine=True, track_running_stats=True)\n",
      "        (relu1): ReLU(inplace=True)\n",
      "        (conv1): Conv2d(224, 128, kernel_size=(1, 1), stride=(1, 1), bias=False)\n",
      "        (norm2): BatchNorm2d(128, eps=1e-05, momentum=0.1, affine=True, track_running_stats=True)\n",
      "        (relu2): ReLU(inplace=True)\n",
      "        (conv2): Conv2d(128, 32, kernel_size=(3, 3), stride=(1, 1), padding=(1, 1), bias=False)\n",
      "      )\n",
      "      (denselayer5): _DenseLayer(\n",
      "        (norm1): BatchNorm2d(256, eps=1e-05, momentum=0.1, affine=True, track_running_stats=True)\n",
      "        (relu1): ReLU(inplace=True)\n",
      "        (conv1): Conv2d(256, 128, kernel_size=(1, 1), stride=(1, 1), bias=False)\n",
      "        (norm2): BatchNorm2d(128, eps=1e-05, momentum=0.1, affine=True, track_running_stats=True)\n",
      "        (relu2): ReLU(inplace=True)\n",
      "        (conv2): Conv2d(128, 32, kernel_size=(3, 3), stride=(1, 1), padding=(1, 1), bias=False)\n",
      "      )\n",
      "      (denselayer6): _DenseLayer(\n",
      "        (norm1): BatchNorm2d(288, eps=1e-05, momentum=0.1, affine=True, track_running_stats=True)\n",
      "        (relu1): ReLU(inplace=True)\n",
      "        (conv1): Conv2d(288, 128, kernel_size=(1, 1), stride=(1, 1), bias=False)\n",
      "        (norm2): BatchNorm2d(128, eps=1e-05, momentum=0.1, affine=True, track_running_stats=True)\n",
      "        (relu2): ReLU(inplace=True)\n",
      "        (conv2): Conv2d(128, 32, kernel_size=(3, 3), stride=(1, 1), padding=(1, 1), bias=False)\n",
      "      )\n",
      "      (denselayer7): _DenseLayer(\n",
      "        (norm1): BatchNorm2d(320, eps=1e-05, momentum=0.1, affine=True, track_running_stats=True)\n",
      "        (relu1): ReLU(inplace=True)\n",
      "        (conv1): Conv2d(320, 128, kernel_size=(1, 1), stride=(1, 1), bias=False)\n",
      "        (norm2): BatchNorm2d(128, eps=1e-05, momentum=0.1, affine=True, track_running_stats=True)\n",
      "        (relu2): ReLU(inplace=True)\n",
      "        (conv2): Conv2d(128, 32, kernel_size=(3, 3), stride=(1, 1), padding=(1, 1), bias=False)\n",
      "      )\n",
      "      (denselayer8): _DenseLayer(\n",
      "        (norm1): BatchNorm2d(352, eps=1e-05, momentum=0.1, affine=True, track_running_stats=True)\n",
      "        (relu1): ReLU(inplace=True)\n",
      "        (conv1): Conv2d(352, 128, kernel_size=(1, 1), stride=(1, 1), bias=False)\n",
      "        (norm2): BatchNorm2d(128, eps=1e-05, momentum=0.1, affine=True, track_running_stats=True)\n",
      "        (relu2): ReLU(inplace=True)\n",
      "        (conv2): Conv2d(128, 32, kernel_size=(3, 3), stride=(1, 1), padding=(1, 1), bias=False)\n",
      "      )\n",
      "      (denselayer9): _DenseLayer(\n",
      "        (norm1): BatchNorm2d(384, eps=1e-05, momentum=0.1, affine=True, track_running_stats=True)\n",
      "        (relu1): ReLU(inplace=True)\n",
      "        (conv1): Conv2d(384, 128, kernel_size=(1, 1), stride=(1, 1), bias=False)\n",
      "        (norm2): BatchNorm2d(128, eps=1e-05, momentum=0.1, affine=True, track_running_stats=True)\n",
      "        (relu2): ReLU(inplace=True)\n",
      "        (conv2): Conv2d(128, 32, kernel_size=(3, 3), stride=(1, 1), padding=(1, 1), bias=False)\n",
      "      )\n",
      "      (denselayer10): _DenseLayer(\n",
      "        (norm1): BatchNorm2d(416, eps=1e-05, momentum=0.1, affine=True, track_running_stats=True)\n",
      "        (relu1): ReLU(inplace=True)\n",
      "        (conv1): Conv2d(416, 128, kernel_size=(1, 1), stride=(1, 1), bias=False)\n",
      "        (norm2): BatchNorm2d(128, eps=1e-05, momentum=0.1, affine=True, track_running_stats=True)\n",
      "        (relu2): ReLU(inplace=True)\n",
      "        (conv2): Conv2d(128, 32, kernel_size=(3, 3), stride=(1, 1), padding=(1, 1), bias=False)\n",
      "      )\n",
      "      (denselayer11): _DenseLayer(\n",
      "        (norm1): BatchNorm2d(448, eps=1e-05, momentum=0.1, affine=True, track_running_stats=True)\n",
      "        (relu1): ReLU(inplace=True)\n",
      "        (conv1): Conv2d(448, 128, kernel_size=(1, 1), stride=(1, 1), bias=False)\n",
      "        (norm2): BatchNorm2d(128, eps=1e-05, momentum=0.1, affine=True, track_running_stats=True)\n",
      "        (relu2): ReLU(inplace=True)\n",
      "        (conv2): Conv2d(128, 32, kernel_size=(3, 3), stride=(1, 1), padding=(1, 1), bias=False)\n",
      "      )\n",
      "      (denselayer12): _DenseLayer(\n",
      "        (norm1): BatchNorm2d(480, eps=1e-05, momentum=0.1, affine=True, track_running_stats=True)\n",
      "        (relu1): ReLU(inplace=True)\n",
      "        (conv1): Conv2d(480, 128, kernel_size=(1, 1), stride=(1, 1), bias=False)\n",
      "        (norm2): BatchNorm2d(128, eps=1e-05, momentum=0.1, affine=True, track_running_stats=True)\n",
      "        (relu2): ReLU(inplace=True)\n",
      "        (conv2): Conv2d(128, 32, kernel_size=(3, 3), stride=(1, 1), padding=(1, 1), bias=False)\n",
      "      )\n",
      "    )\n",
      "    (transition2): _Transition(\n",
      "      (norm): BatchNorm2d(512, eps=1e-05, momentum=0.1, affine=True, track_running_stats=True)\n",
      "      (relu): ReLU(inplace=True)\n",
      "      (conv): Conv2d(512, 256, kernel_size=(1, 1), stride=(1, 1), bias=False)\n",
      "      (pool): AvgPool2d(kernel_size=2, stride=2, padding=0)\n",
      "    )\n",
      "    (denseblock3): _DenseBlock(\n",
      "      (denselayer1): _DenseLayer(\n",
      "        (norm1): BatchNorm2d(256, eps=1e-05, momentum=0.1, affine=True, track_running_stats=True)\n",
      "        (relu1): ReLU(inplace=True)\n",
      "        (conv1): Conv2d(256, 128, kernel_size=(1, 1), stride=(1, 1), bias=False)\n",
      "        (norm2): BatchNorm2d(128, eps=1e-05, momentum=0.1, affine=True, track_running_stats=True)\n",
      "        (relu2): ReLU(inplace=True)\n",
      "        (conv2): Conv2d(128, 32, kernel_size=(3, 3), stride=(1, 1), padding=(1, 1), bias=False)\n",
      "      )\n",
      "      (denselayer2): _DenseLayer(\n",
      "        (norm1): BatchNorm2d(288, eps=1e-05, momentum=0.1, affine=True, track_running_stats=True)\n",
      "        (relu1): ReLU(inplace=True)\n",
      "        (conv1): Conv2d(288, 128, kernel_size=(1, 1), stride=(1, 1), bias=False)\n",
      "        (norm2): BatchNorm2d(128, eps=1e-05, momentum=0.1, affine=True, track_running_stats=True)\n",
      "        (relu2): ReLU(inplace=True)\n",
      "        (conv2): Conv2d(128, 32, kernel_size=(3, 3), stride=(1, 1), padding=(1, 1), bias=False)\n",
      "      )\n",
      "      (denselayer3): _DenseLayer(\n",
      "        (norm1): BatchNorm2d(320, eps=1e-05, momentum=0.1, affine=True, track_running_stats=True)\n",
      "        (relu1): ReLU(inplace=True)\n",
      "        (conv1): Conv2d(320, 128, kernel_size=(1, 1), stride=(1, 1), bias=False)\n",
      "        (norm2): BatchNorm2d(128, eps=1e-05, momentum=0.1, affine=True, track_running_stats=True)\n",
      "        (relu2): ReLU(inplace=True)\n",
      "        (conv2): Conv2d(128, 32, kernel_size=(3, 3), stride=(1, 1), padding=(1, 1), bias=False)\n",
      "      )\n",
      "      (denselayer4): _DenseLayer(\n",
      "        (norm1): BatchNorm2d(352, eps=1e-05, momentum=0.1, affine=True, track_running_stats=True)\n",
      "        (relu1): ReLU(inplace=True)\n",
      "        (conv1): Conv2d(352, 128, kernel_size=(1, 1), stride=(1, 1), bias=False)\n",
      "        (norm2): BatchNorm2d(128, eps=1e-05, momentum=0.1, affine=True, track_running_stats=True)\n",
      "        (relu2): ReLU(inplace=True)\n",
      "        (conv2): Conv2d(128, 32, kernel_size=(3, 3), stride=(1, 1), padding=(1, 1), bias=False)\n",
      "      )\n",
      "      (denselayer5): _DenseLayer(\n",
      "        (norm1): BatchNorm2d(384, eps=1e-05, momentum=0.1, affine=True, track_running_stats=True)\n",
      "        (relu1): ReLU(inplace=True)\n",
      "        (conv1): Conv2d(384, 128, kernel_size=(1, 1), stride=(1, 1), bias=False)\n",
      "        (norm2): BatchNorm2d(128, eps=1e-05, momentum=0.1, affine=True, track_running_stats=True)\n",
      "        (relu2): ReLU(inplace=True)\n",
      "        (conv2): Conv2d(128, 32, kernel_size=(3, 3), stride=(1, 1), padding=(1, 1), bias=False)\n",
      "      )\n",
      "      (denselayer6): _DenseLayer(\n",
      "        (norm1): BatchNorm2d(416, eps=1e-05, momentum=0.1, affine=True, track_running_stats=True)\n",
      "        (relu1): ReLU(inplace=True)\n",
      "        (conv1): Conv2d(416, 128, kernel_size=(1, 1), stride=(1, 1), bias=False)\n",
      "        (norm2): BatchNorm2d(128, eps=1e-05, momentum=0.1, affine=True, track_running_stats=True)\n",
      "        (relu2): ReLU(inplace=True)\n",
      "        (conv2): Conv2d(128, 32, kernel_size=(3, 3), stride=(1, 1), padding=(1, 1), bias=False)\n",
      "      )\n",
      "      (denselayer7): _DenseLayer(\n",
      "        (norm1): BatchNorm2d(448, eps=1e-05, momentum=0.1, affine=True, track_running_stats=True)\n",
      "        (relu1): ReLU(inplace=True)\n",
      "        (conv1): Conv2d(448, 128, kernel_size=(1, 1), stride=(1, 1), bias=False)\n",
      "        (norm2): BatchNorm2d(128, eps=1e-05, momentum=0.1, affine=True, track_running_stats=True)\n",
      "        (relu2): ReLU(inplace=True)\n",
      "        (conv2): Conv2d(128, 32, kernel_size=(3, 3), stride=(1, 1), padding=(1, 1), bias=False)\n",
      "      )\n",
      "      (denselayer8): _DenseLayer(\n",
      "        (norm1): BatchNorm2d(480, eps=1e-05, momentum=0.1, affine=True, track_running_stats=True)\n",
      "        (relu1): ReLU(inplace=True)\n",
      "        (conv1): Conv2d(480, 128, kernel_size=(1, 1), stride=(1, 1), bias=False)\n",
      "        (norm2): BatchNorm2d(128, eps=1e-05, momentum=0.1, affine=True, track_running_stats=True)\n",
      "        (relu2): ReLU(inplace=True)\n",
      "        (conv2): Conv2d(128, 32, kernel_size=(3, 3), stride=(1, 1), padding=(1, 1), bias=False)\n",
      "      )\n",
      "      (denselayer9): _DenseLayer(\n",
      "        (norm1): BatchNorm2d(512, eps=1e-05, momentum=0.1, affine=True, track_running_stats=True)\n",
      "        (relu1): ReLU(inplace=True)\n",
      "        (conv1): Conv2d(512, 128, kernel_size=(1, 1), stride=(1, 1), bias=False)\n",
      "        (norm2): BatchNorm2d(128, eps=1e-05, momentum=0.1, affine=True, track_running_stats=True)\n",
      "        (relu2): ReLU(inplace=True)\n",
      "        (conv2): Conv2d(128, 32, kernel_size=(3, 3), stride=(1, 1), padding=(1, 1), bias=False)\n",
      "      )\n",
      "      (denselayer10): _DenseLayer(\n",
      "        (norm1): BatchNorm2d(544, eps=1e-05, momentum=0.1, affine=True, track_running_stats=True)\n",
      "        (relu1): ReLU(inplace=True)\n",
      "        (conv1): Conv2d(544, 128, kernel_size=(1, 1), stride=(1, 1), bias=False)\n",
      "        (norm2): BatchNorm2d(128, eps=1e-05, momentum=0.1, affine=True, track_running_stats=True)\n",
      "        (relu2): ReLU(inplace=True)\n",
      "        (conv2): Conv2d(128, 32, kernel_size=(3, 3), stride=(1, 1), padding=(1, 1), bias=False)\n",
      "      )\n",
      "      (denselayer11): _DenseLayer(\n",
      "        (norm1): BatchNorm2d(576, eps=1e-05, momentum=0.1, affine=True, track_running_stats=True)\n",
      "        (relu1): ReLU(inplace=True)\n",
      "        (conv1): Conv2d(576, 128, kernel_size=(1, 1), stride=(1, 1), bias=False)\n",
      "        (norm2): BatchNorm2d(128, eps=1e-05, momentum=0.1, affine=True, track_running_stats=True)\n",
      "        (relu2): ReLU(inplace=True)\n",
      "        (conv2): Conv2d(128, 32, kernel_size=(3, 3), stride=(1, 1), padding=(1, 1), bias=False)\n",
      "      )\n",
      "      (denselayer12): _DenseLayer(\n",
      "        (norm1): BatchNorm2d(608, eps=1e-05, momentum=0.1, affine=True, track_running_stats=True)\n",
      "        (relu1): ReLU(inplace=True)\n",
      "        (conv1): Conv2d(608, 128, kernel_size=(1, 1), stride=(1, 1), bias=False)\n",
      "        (norm2): BatchNorm2d(128, eps=1e-05, momentum=0.1, affine=True, track_running_stats=True)\n",
      "        (relu2): ReLU(inplace=True)\n",
      "        (conv2): Conv2d(128, 32, kernel_size=(3, 3), stride=(1, 1), padding=(1, 1), bias=False)\n",
      "      )\n",
      "      (denselayer13): _DenseLayer(\n",
      "        (norm1): BatchNorm2d(640, eps=1e-05, momentum=0.1, affine=True, track_running_stats=True)\n",
      "        (relu1): ReLU(inplace=True)\n",
      "        (conv1): Conv2d(640, 128, kernel_size=(1, 1), stride=(1, 1), bias=False)\n",
      "        (norm2): BatchNorm2d(128, eps=1e-05, momentum=0.1, affine=True, track_running_stats=True)\n",
      "        (relu2): ReLU(inplace=True)\n",
      "        (conv2): Conv2d(128, 32, kernel_size=(3, 3), stride=(1, 1), padding=(1, 1), bias=False)\n",
      "      )\n",
      "      (denselayer14): _DenseLayer(\n",
      "        (norm1): BatchNorm2d(672, eps=1e-05, momentum=0.1, affine=True, track_running_stats=True)\n",
      "        (relu1): ReLU(inplace=True)\n",
      "        (conv1): Conv2d(672, 128, kernel_size=(1, 1), stride=(1, 1), bias=False)\n",
      "        (norm2): BatchNorm2d(128, eps=1e-05, momentum=0.1, affine=True, track_running_stats=True)\n",
      "        (relu2): ReLU(inplace=True)\n",
      "        (conv2): Conv2d(128, 32, kernel_size=(3, 3), stride=(1, 1), padding=(1, 1), bias=False)\n",
      "      )\n",
      "      (denselayer15): _DenseLayer(\n",
      "        (norm1): BatchNorm2d(704, eps=1e-05, momentum=0.1, affine=True, track_running_stats=True)\n",
      "        (relu1): ReLU(inplace=True)\n",
      "        (conv1): Conv2d(704, 128, kernel_size=(1, 1), stride=(1, 1), bias=False)\n",
      "        (norm2): BatchNorm2d(128, eps=1e-05, momentum=0.1, affine=True, track_running_stats=True)\n",
      "        (relu2): ReLU(inplace=True)\n",
      "        (conv2): Conv2d(128, 32, kernel_size=(3, 3), stride=(1, 1), padding=(1, 1), bias=False)\n",
      "      )\n",
      "      (denselayer16): _DenseLayer(\n",
      "        (norm1): BatchNorm2d(736, eps=1e-05, momentum=0.1, affine=True, track_running_stats=True)\n",
      "        (relu1): ReLU(inplace=True)\n",
      "        (conv1): Conv2d(736, 128, kernel_size=(1, 1), stride=(1, 1), bias=False)\n",
      "        (norm2): BatchNorm2d(128, eps=1e-05, momentum=0.1, affine=True, track_running_stats=True)\n",
      "        (relu2): ReLU(inplace=True)\n",
      "        (conv2): Conv2d(128, 32, kernel_size=(3, 3), stride=(1, 1), padding=(1, 1), bias=False)\n",
      "      )\n",
      "      (denselayer17): _DenseLayer(\n",
      "        (norm1): BatchNorm2d(768, eps=1e-05, momentum=0.1, affine=True, track_running_stats=True)\n",
      "        (relu1): ReLU(inplace=True)\n",
      "        (conv1): Conv2d(768, 128, kernel_size=(1, 1), stride=(1, 1), bias=False)\n",
      "        (norm2): BatchNorm2d(128, eps=1e-05, momentum=0.1, affine=True, track_running_stats=True)\n",
      "        (relu2): ReLU(inplace=True)\n",
      "        (conv2): Conv2d(128, 32, kernel_size=(3, 3), stride=(1, 1), padding=(1, 1), bias=False)\n",
      "      )\n",
      "      (denselayer18): _DenseLayer(\n",
      "        (norm1): BatchNorm2d(800, eps=1e-05, momentum=0.1, affine=True, track_running_stats=True)\n",
      "        (relu1): ReLU(inplace=True)\n",
      "        (conv1): Conv2d(800, 128, kernel_size=(1, 1), stride=(1, 1), bias=False)\n",
      "        (norm2): BatchNorm2d(128, eps=1e-05, momentum=0.1, affine=True, track_running_stats=True)\n",
      "        (relu2): ReLU(inplace=True)\n",
      "        (conv2): Conv2d(128, 32, kernel_size=(3, 3), stride=(1, 1), padding=(1, 1), bias=False)\n",
      "      )\n",
      "      (denselayer19): _DenseLayer(\n",
      "        (norm1): BatchNorm2d(832, eps=1e-05, momentum=0.1, affine=True, track_running_stats=True)\n",
      "        (relu1): ReLU(inplace=True)\n",
      "        (conv1): Conv2d(832, 128, kernel_size=(1, 1), stride=(1, 1), bias=False)\n",
      "        (norm2): BatchNorm2d(128, eps=1e-05, momentum=0.1, affine=True, track_running_stats=True)\n",
      "        (relu2): ReLU(inplace=True)\n",
      "        (conv2): Conv2d(128, 32, kernel_size=(3, 3), stride=(1, 1), padding=(1, 1), bias=False)\n",
      "      )\n",
      "      (denselayer20): _DenseLayer(\n",
      "        (norm1): BatchNorm2d(864, eps=1e-05, momentum=0.1, affine=True, track_running_stats=True)\n",
      "        (relu1): ReLU(inplace=True)\n",
      "        (conv1): Conv2d(864, 128, kernel_size=(1, 1), stride=(1, 1), bias=False)\n",
      "        (norm2): BatchNorm2d(128, eps=1e-05, momentum=0.1, affine=True, track_running_stats=True)\n",
      "        (relu2): ReLU(inplace=True)\n",
      "        (conv2): Conv2d(128, 32, kernel_size=(3, 3), stride=(1, 1), padding=(1, 1), bias=False)\n",
      "      )\n",
      "      (denselayer21): _DenseLayer(\n",
      "        (norm1): BatchNorm2d(896, eps=1e-05, momentum=0.1, affine=True, track_running_stats=True)\n",
      "        (relu1): ReLU(inplace=True)\n",
      "        (conv1): Conv2d(896, 128, kernel_size=(1, 1), stride=(1, 1), bias=False)\n",
      "        (norm2): BatchNorm2d(128, eps=1e-05, momentum=0.1, affine=True, track_running_stats=True)\n",
      "        (relu2): ReLU(inplace=True)\n",
      "        (conv2): Conv2d(128, 32, kernel_size=(3, 3), stride=(1, 1), padding=(1, 1), bias=False)\n",
      "      )\n",
      "      (denselayer22): _DenseLayer(\n",
      "        (norm1): BatchNorm2d(928, eps=1e-05, momentum=0.1, affine=True, track_running_stats=True)\n",
      "        (relu1): ReLU(inplace=True)\n",
      "        (conv1): Conv2d(928, 128, kernel_size=(1, 1), stride=(1, 1), bias=False)\n",
      "        (norm2): BatchNorm2d(128, eps=1e-05, momentum=0.1, affine=True, track_running_stats=True)\n",
      "        (relu2): ReLU(inplace=True)\n",
      "        (conv2): Conv2d(128, 32, kernel_size=(3, 3), stride=(1, 1), padding=(1, 1), bias=False)\n",
      "      )\n",
      "      (denselayer23): _DenseLayer(\n",
      "        (norm1): BatchNorm2d(960, eps=1e-05, momentum=0.1, affine=True, track_running_stats=True)\n",
      "        (relu1): ReLU(inplace=True)\n",
      "        (conv1): Conv2d(960, 128, kernel_size=(1, 1), stride=(1, 1), bias=False)\n",
      "        (norm2): BatchNorm2d(128, eps=1e-05, momentum=0.1, affine=True, track_running_stats=True)\n",
      "        (relu2): ReLU(inplace=True)\n",
      "        (conv2): Conv2d(128, 32, kernel_size=(3, 3), stride=(1, 1), padding=(1, 1), bias=False)\n",
      "      )\n",
      "      (denselayer24): _DenseLayer(\n",
      "        (norm1): BatchNorm2d(992, eps=1e-05, momentum=0.1, affine=True, track_running_stats=True)\n",
      "        (relu1): ReLU(inplace=True)\n",
      "        (conv1): Conv2d(992, 128, kernel_size=(1, 1), stride=(1, 1), bias=False)\n",
      "        (norm2): BatchNorm2d(128, eps=1e-05, momentum=0.1, affine=True, track_running_stats=True)\n",
      "        (relu2): ReLU(inplace=True)\n",
      "        (conv2): Conv2d(128, 32, kernel_size=(3, 3), stride=(1, 1), padding=(1, 1), bias=False)\n",
      "      )\n",
      "    )\n",
      "    (transition3): _Transition(\n",
      "      (norm): BatchNorm2d(1024, eps=1e-05, momentum=0.1, affine=True, track_running_stats=True)\n",
      "      (relu): ReLU(inplace=True)\n",
      "      (conv): Conv2d(1024, 512, kernel_size=(1, 1), stride=(1, 1), bias=False)\n",
      "      (pool): AvgPool2d(kernel_size=2, stride=2, padding=0)\n",
      "    )\n",
      "    (denseblock4): _DenseBlock(\n",
      "      (denselayer1): _DenseLayer(\n",
      "        (norm1): BatchNorm2d(512, eps=1e-05, momentum=0.1, affine=True, track_running_stats=True)\n",
      "        (relu1): ReLU(inplace=True)\n",
      "        (conv1): Conv2d(512, 128, kernel_size=(1, 1), stride=(1, 1), bias=False)\n",
      "        (norm2): BatchNorm2d(128, eps=1e-05, momentum=0.1, affine=True, track_running_stats=True)\n",
      "        (relu2): ReLU(inplace=True)\n",
      "        (conv2): Conv2d(128, 32, kernel_size=(3, 3), stride=(1, 1), padding=(1, 1), bias=False)\n",
      "      )\n",
      "      (denselayer2): _DenseLayer(\n",
      "        (norm1): BatchNorm2d(544, eps=1e-05, momentum=0.1, affine=True, track_running_stats=True)\n",
      "        (relu1): ReLU(inplace=True)\n",
      "        (conv1): Conv2d(544, 128, kernel_size=(1, 1), stride=(1, 1), bias=False)\n",
      "        (norm2): BatchNorm2d(128, eps=1e-05, momentum=0.1, affine=True, track_running_stats=True)\n",
      "        (relu2): ReLU(inplace=True)\n",
      "        (conv2): Conv2d(128, 32, kernel_size=(3, 3), stride=(1, 1), padding=(1, 1), bias=False)\n",
      "      )\n",
      "      (denselayer3): _DenseLayer(\n",
      "        (norm1): BatchNorm2d(576, eps=1e-05, momentum=0.1, affine=True, track_running_stats=True)\n",
      "        (relu1): ReLU(inplace=True)\n",
      "        (conv1): Conv2d(576, 128, kernel_size=(1, 1), stride=(1, 1), bias=False)\n",
      "        (norm2): BatchNorm2d(128, eps=1e-05, momentum=0.1, affine=True, track_running_stats=True)\n",
      "        (relu2): ReLU(inplace=True)\n",
      "        (conv2): Conv2d(128, 32, kernel_size=(3, 3), stride=(1, 1), padding=(1, 1), bias=False)\n",
      "      )\n",
      "      (denselayer4): _DenseLayer(\n",
      "        (norm1): BatchNorm2d(608, eps=1e-05, momentum=0.1, affine=True, track_running_stats=True)\n",
      "        (relu1): ReLU(inplace=True)\n",
      "        (conv1): Conv2d(608, 128, kernel_size=(1, 1), stride=(1, 1), bias=False)\n",
      "        (norm2): BatchNorm2d(128, eps=1e-05, momentum=0.1, affine=True, track_running_stats=True)\n",
      "        (relu2): ReLU(inplace=True)\n",
      "        (conv2): Conv2d(128, 32, kernel_size=(3, 3), stride=(1, 1), padding=(1, 1), bias=False)\n",
      "      )\n",
      "      (denselayer5): _DenseLayer(\n",
      "        (norm1): BatchNorm2d(640, eps=1e-05, momentum=0.1, affine=True, track_running_stats=True)\n",
      "        (relu1): ReLU(inplace=True)\n",
      "        (conv1): Conv2d(640, 128, kernel_size=(1, 1), stride=(1, 1), bias=False)\n",
      "        (norm2): BatchNorm2d(128, eps=1e-05, momentum=0.1, affine=True, track_running_stats=True)\n",
      "        (relu2): ReLU(inplace=True)\n",
      "        (conv2): Conv2d(128, 32, kernel_size=(3, 3), stride=(1, 1), padding=(1, 1), bias=False)\n",
      "      )\n",
      "      (denselayer6): _DenseLayer(\n",
      "        (norm1): BatchNorm2d(672, eps=1e-05, momentum=0.1, affine=True, track_running_stats=True)\n",
      "        (relu1): ReLU(inplace=True)\n",
      "        (conv1): Conv2d(672, 128, kernel_size=(1, 1), stride=(1, 1), bias=False)\n",
      "        (norm2): BatchNorm2d(128, eps=1e-05, momentum=0.1, affine=True, track_running_stats=True)\n",
      "        (relu2): ReLU(inplace=True)\n",
      "        (conv2): Conv2d(128, 32, kernel_size=(3, 3), stride=(1, 1), padding=(1, 1), bias=False)\n",
      "      )\n",
      "      (denselayer7): _DenseLayer(\n",
      "        (norm1): BatchNorm2d(704, eps=1e-05, momentum=0.1, affine=True, track_running_stats=True)\n",
      "        (relu1): ReLU(inplace=True)\n",
      "        (conv1): Conv2d(704, 128, kernel_size=(1, 1), stride=(1, 1), bias=False)\n",
      "        (norm2): BatchNorm2d(128, eps=1e-05, momentum=0.1, affine=True, track_running_stats=True)\n",
      "        (relu2): ReLU(inplace=True)\n",
      "        (conv2): Conv2d(128, 32, kernel_size=(3, 3), stride=(1, 1), padding=(1, 1), bias=False)\n",
      "      )\n",
      "      (denselayer8): _DenseLayer(\n",
      "        (norm1): BatchNorm2d(736, eps=1e-05, momentum=0.1, affine=True, track_running_stats=True)\n",
      "        (relu1): ReLU(inplace=True)\n",
      "        (conv1): Conv2d(736, 128, kernel_size=(1, 1), stride=(1, 1), bias=False)\n",
      "        (norm2): BatchNorm2d(128, eps=1e-05, momentum=0.1, affine=True, track_running_stats=True)\n",
      "        (relu2): ReLU(inplace=True)\n",
      "        (conv2): Conv2d(128, 32, kernel_size=(3, 3), stride=(1, 1), padding=(1, 1), bias=False)\n",
      "      )\n",
      "      (denselayer9): _DenseLayer(\n",
      "        (norm1): BatchNorm2d(768, eps=1e-05, momentum=0.1, affine=True, track_running_stats=True)\n",
      "        (relu1): ReLU(inplace=True)\n",
      "        (conv1): Conv2d(768, 128, kernel_size=(1, 1), stride=(1, 1), bias=False)\n",
      "        (norm2): BatchNorm2d(128, eps=1e-05, momentum=0.1, affine=True, track_running_stats=True)\n",
      "        (relu2): ReLU(inplace=True)\n",
      "        (conv2): Conv2d(128, 32, kernel_size=(3, 3), stride=(1, 1), padding=(1, 1), bias=False)\n",
      "      )\n",
      "      (denselayer10): _DenseLayer(\n",
      "        (norm1): BatchNorm2d(800, eps=1e-05, momentum=0.1, affine=True, track_running_stats=True)\n",
      "        (relu1): ReLU(inplace=True)\n",
      "        (conv1): Conv2d(800, 128, kernel_size=(1, 1), stride=(1, 1), bias=False)\n",
      "        (norm2): BatchNorm2d(128, eps=1e-05, momentum=0.1, affine=True, track_running_stats=True)\n",
      "        (relu2): ReLU(inplace=True)\n",
      "        (conv2): Conv2d(128, 32, kernel_size=(3, 3), stride=(1, 1), padding=(1, 1), bias=False)\n",
      "      )\n",
      "      (denselayer11): _DenseLayer(\n",
      "        (norm1): BatchNorm2d(832, eps=1e-05, momentum=0.1, affine=True, track_running_stats=True)\n",
      "        (relu1): ReLU(inplace=True)\n",
      "        (conv1): Conv2d(832, 128, kernel_size=(1, 1), stride=(1, 1), bias=False)\n",
      "        (norm2): BatchNorm2d(128, eps=1e-05, momentum=0.1, affine=True, track_running_stats=True)\n",
      "        (relu2): ReLU(inplace=True)\n",
      "        (conv2): Conv2d(128, 32, kernel_size=(3, 3), stride=(1, 1), padding=(1, 1), bias=False)\n",
      "      )\n",
      "      (denselayer12): _DenseLayer(\n",
      "        (norm1): BatchNorm2d(864, eps=1e-05, momentum=0.1, affine=True, track_running_stats=True)\n",
      "        (relu1): ReLU(inplace=True)\n",
      "        (conv1): Conv2d(864, 128, kernel_size=(1, 1), stride=(1, 1), bias=False)\n",
      "        (norm2): BatchNorm2d(128, eps=1e-05, momentum=0.1, affine=True, track_running_stats=True)\n",
      "        (relu2): ReLU(inplace=True)\n",
      "        (conv2): Conv2d(128, 32, kernel_size=(3, 3), stride=(1, 1), padding=(1, 1), bias=False)\n",
      "      )\n",
      "      (denselayer13): _DenseLayer(\n",
      "        (norm1): BatchNorm2d(896, eps=1e-05, momentum=0.1, affine=True, track_running_stats=True)\n",
      "        (relu1): ReLU(inplace=True)\n",
      "        (conv1): Conv2d(896, 128, kernel_size=(1, 1), stride=(1, 1), bias=False)\n",
      "        (norm2): BatchNorm2d(128, eps=1e-05, momentum=0.1, affine=True, track_running_stats=True)\n",
      "        (relu2): ReLU(inplace=True)\n",
      "        (conv2): Conv2d(128, 32, kernel_size=(3, 3), stride=(1, 1), padding=(1, 1), bias=False)\n",
      "      )\n",
      "      (denselayer14): _DenseLayer(\n",
      "        (norm1): BatchNorm2d(928, eps=1e-05, momentum=0.1, affine=True, track_running_stats=True)\n",
      "        (relu1): ReLU(inplace=True)\n",
      "        (conv1): Conv2d(928, 128, kernel_size=(1, 1), stride=(1, 1), bias=False)\n",
      "        (norm2): BatchNorm2d(128, eps=1e-05, momentum=0.1, affine=True, track_running_stats=True)\n",
      "        (relu2): ReLU(inplace=True)\n",
      "        (conv2): Conv2d(128, 32, kernel_size=(3, 3), stride=(1, 1), padding=(1, 1), bias=False)\n",
      "      )\n",
      "      (denselayer15): _DenseLayer(\n",
      "        (norm1): BatchNorm2d(960, eps=1e-05, momentum=0.1, affine=True, track_running_stats=True)\n",
      "        (relu1): ReLU(inplace=True)\n",
      "        (conv1): Conv2d(960, 128, kernel_size=(1, 1), stride=(1, 1), bias=False)\n",
      "        (norm2): BatchNorm2d(128, eps=1e-05, momentum=0.1, affine=True, track_running_stats=True)\n",
      "        (relu2): ReLU(inplace=True)\n",
      "        (conv2): Conv2d(128, 32, kernel_size=(3, 3), stride=(1, 1), padding=(1, 1), bias=False)\n",
      "      )\n",
      "      (denselayer16): _DenseLayer(\n",
      "        (norm1): BatchNorm2d(992, eps=1e-05, momentum=0.1, affine=True, track_running_stats=True)\n",
      "        (relu1): ReLU(inplace=True)\n",
      "        (conv1): Conv2d(992, 128, kernel_size=(1, 1), stride=(1, 1), bias=False)\n",
      "        (norm2): BatchNorm2d(128, eps=1e-05, momentum=0.1, affine=True, track_running_stats=True)\n",
      "        (relu2): ReLU(inplace=True)\n",
      "        (conv2): Conv2d(128, 32, kernel_size=(3, 3), stride=(1, 1), padding=(1, 1), bias=False)\n",
      "      )\n",
      "    )\n",
      "    (norm5): BatchNorm2d(1024, eps=1e-05, momentum=0.1, affine=True, track_running_stats=True)\n",
      "  )\n",
      "  (classifier): Linear(in_features=1024, out_features=1000, bias=True)\n",
      ")\n"
     ]
    }
   ],
   "source": [
    "print(model)"
   ]
  },
  {
   "cell_type": "markdown",
   "id": "085a32e0",
   "metadata": {},
   "source": [
    "У данной сети представлен лишь 1 слой полносвязный под названием classifier с выходным числом нейронов равным 1000. В нашем случае решается задача бинарной классификации, так что данный слой будет иметь по 2 нейрона на выходе."
   ]
  },
  {
   "cell_type": "markdown",
   "id": "4eac9bf0",
   "metadata": {},
   "source": [
    "## _Рассмотрим какие эксперименты мы будем проводить с данной сетью:_"
   ]
  },
  {
   "cell_type": "markdown",
   "id": "8f8e2bcf",
   "metadata": {},
   "source": [
    "__1) Зафиксируем полностью все сверточные слои и лишь обучим полносвязные слои.__ <br>При этом я поменяю архитектуру полносвязного слоя fc. Я сделаю один скрытый слой с числом нейронов, которое будет в качестве подбираемого гиперпараметра.  Лучший гиперпараметр определим по результатам accuracy на валидационной выборке. <br>Так как фотки исходные чб, то при создании датасетов буду включать параметр RGB_presentation = True, который сделает входные фотки размером (3, 224, 224)"
   ]
  },
  {
   "cell_type": "markdown",
   "id": "963ee324",
   "metadata": {},
   "source": [
    "__2) Зафиксируем все сверточные слои кроме первого входного, в котором установим число входных каналов равным 1 вместо 3 + обучим полносвязные слои.__<br>\n",
    "При этом я поменяю архитектуру полносвязного слоя fc. Я сделаю один скрытый слой с числом нейронов, которое будет в качестве подбираемого гиперпараметра. Лучший гиперпараметр определим по результатам accuracy на валидационной выборке. <br>Так как я поменяю чило каналов на входе сети, поэтому могу обучать на чб снимках, размером (1, 224, 224).\n"
   ]
  },
  {
   "cell_type": "markdown",
   "id": "e1e51a3c",
   "metadata": {},
   "source": [
    "__3) Полностью обучим сеть, ничего в ней не меняя (кроме выходного числа нейронов в полносвязной части).__<br>\n",
    "Так как фотки исходные чб, то при создании датасетов буду включать параметр RGB_presentation = True, который сделает входные фотки размером (3, 224, 224)"
   ]
  },
  {
   "cell_type": "markdown",
   "id": "a9b855d5",
   "metadata": {},
   "source": [
    "## №1"
   ]
  },
  {
   "cell_type": "code",
   "execution_count": 41,
   "id": "600642d7",
   "metadata": {},
   "outputs": [
    {
     "data": {
      "text/plain": [
       "1024"
      ]
     },
     "execution_count": 41,
     "metadata": {},
     "output_type": "execute_result"
    }
   ],
   "source": [
    "model.classifier.in_features"
   ]
  },
  {
   "cell_type": "code",
   "execution_count": 42,
   "id": "0b1875a9",
   "metadata": {},
   "outputs": [],
   "source": [
    "n_neurons = 10\n",
    "# Переопредлим полносвязные слои:\n",
    "fc_new =  nn.Sequential(\n",
    "            nn.Dropout(0.2),\n",
    "            nn.Linear(1024, n_neurons),\n",
    "            nn.ReLU(),\n",
    "            nn.Linear(n_neurons, 2))"
   ]
  },
  {
   "cell_type": "markdown",
   "id": "23c2316c",
   "metadata": {},
   "source": [
    "В таком виде переопределим сеть:"
   ]
  },
  {
   "cell_type": "code",
   "execution_count": 43,
   "id": "8a6b0c6c",
   "metadata": {},
   "outputs": [
    {
     "data": {
      "text/plain": [
       "DenseNet(\n",
       "  (features): Sequential(\n",
       "    (conv0): Conv2d(3, 64, kernel_size=(7, 7), stride=(2, 2), padding=(3, 3), bias=False)\n",
       "    (norm0): BatchNorm2d(64, eps=1e-05, momentum=0.1, affine=True, track_running_stats=True)\n",
       "    (relu0): ReLU(inplace=True)\n",
       "    (pool0): MaxPool2d(kernel_size=3, stride=2, padding=1, dilation=1, ceil_mode=False)\n",
       "    (denseblock1): _DenseBlock(\n",
       "      (denselayer1): _DenseLayer(\n",
       "        (norm1): BatchNorm2d(64, eps=1e-05, momentum=0.1, affine=True, track_running_stats=True)\n",
       "        (relu1): ReLU(inplace=True)\n",
       "        (conv1): Conv2d(64, 128, kernel_size=(1, 1), stride=(1, 1), bias=False)\n",
       "        (norm2): BatchNorm2d(128, eps=1e-05, momentum=0.1, affine=True, track_running_stats=True)\n",
       "        (relu2): ReLU(inplace=True)\n",
       "        (conv2): Conv2d(128, 32, kernel_size=(3, 3), stride=(1, 1), padding=(1, 1), bias=False)\n",
       "      )\n",
       "      (denselayer2): _DenseLayer(\n",
       "        (norm1): BatchNorm2d(96, eps=1e-05, momentum=0.1, affine=True, track_running_stats=True)\n",
       "        (relu1): ReLU(inplace=True)\n",
       "        (conv1): Conv2d(96, 128, kernel_size=(1, 1), stride=(1, 1), bias=False)\n",
       "        (norm2): BatchNorm2d(128, eps=1e-05, momentum=0.1, affine=True, track_running_stats=True)\n",
       "        (relu2): ReLU(inplace=True)\n",
       "        (conv2): Conv2d(128, 32, kernel_size=(3, 3), stride=(1, 1), padding=(1, 1), bias=False)\n",
       "      )\n",
       "      (denselayer3): _DenseLayer(\n",
       "        (norm1): BatchNorm2d(128, eps=1e-05, momentum=0.1, affine=True, track_running_stats=True)\n",
       "        (relu1): ReLU(inplace=True)\n",
       "        (conv1): Conv2d(128, 128, kernel_size=(1, 1), stride=(1, 1), bias=False)\n",
       "        (norm2): BatchNorm2d(128, eps=1e-05, momentum=0.1, affine=True, track_running_stats=True)\n",
       "        (relu2): ReLU(inplace=True)\n",
       "        (conv2): Conv2d(128, 32, kernel_size=(3, 3), stride=(1, 1), padding=(1, 1), bias=False)\n",
       "      )\n",
       "      (denselayer4): _DenseLayer(\n",
       "        (norm1): BatchNorm2d(160, eps=1e-05, momentum=0.1, affine=True, track_running_stats=True)\n",
       "        (relu1): ReLU(inplace=True)\n",
       "        (conv1): Conv2d(160, 128, kernel_size=(1, 1), stride=(1, 1), bias=False)\n",
       "        (norm2): BatchNorm2d(128, eps=1e-05, momentum=0.1, affine=True, track_running_stats=True)\n",
       "        (relu2): ReLU(inplace=True)\n",
       "        (conv2): Conv2d(128, 32, kernel_size=(3, 3), stride=(1, 1), padding=(1, 1), bias=False)\n",
       "      )\n",
       "      (denselayer5): _DenseLayer(\n",
       "        (norm1): BatchNorm2d(192, eps=1e-05, momentum=0.1, affine=True, track_running_stats=True)\n",
       "        (relu1): ReLU(inplace=True)\n",
       "        (conv1): Conv2d(192, 128, kernel_size=(1, 1), stride=(1, 1), bias=False)\n",
       "        (norm2): BatchNorm2d(128, eps=1e-05, momentum=0.1, affine=True, track_running_stats=True)\n",
       "        (relu2): ReLU(inplace=True)\n",
       "        (conv2): Conv2d(128, 32, kernel_size=(3, 3), stride=(1, 1), padding=(1, 1), bias=False)\n",
       "      )\n",
       "      (denselayer6): _DenseLayer(\n",
       "        (norm1): BatchNorm2d(224, eps=1e-05, momentum=0.1, affine=True, track_running_stats=True)\n",
       "        (relu1): ReLU(inplace=True)\n",
       "        (conv1): Conv2d(224, 128, kernel_size=(1, 1), stride=(1, 1), bias=False)\n",
       "        (norm2): BatchNorm2d(128, eps=1e-05, momentum=0.1, affine=True, track_running_stats=True)\n",
       "        (relu2): ReLU(inplace=True)\n",
       "        (conv2): Conv2d(128, 32, kernel_size=(3, 3), stride=(1, 1), padding=(1, 1), bias=False)\n",
       "      )\n",
       "    )\n",
       "    (transition1): _Transition(\n",
       "      (norm): BatchNorm2d(256, eps=1e-05, momentum=0.1, affine=True, track_running_stats=True)\n",
       "      (relu): ReLU(inplace=True)\n",
       "      (conv): Conv2d(256, 128, kernel_size=(1, 1), stride=(1, 1), bias=False)\n",
       "      (pool): AvgPool2d(kernel_size=2, stride=2, padding=0)\n",
       "    )\n",
       "    (denseblock2): _DenseBlock(\n",
       "      (denselayer1): _DenseLayer(\n",
       "        (norm1): BatchNorm2d(128, eps=1e-05, momentum=0.1, affine=True, track_running_stats=True)\n",
       "        (relu1): ReLU(inplace=True)\n",
       "        (conv1): Conv2d(128, 128, kernel_size=(1, 1), stride=(1, 1), bias=False)\n",
       "        (norm2): BatchNorm2d(128, eps=1e-05, momentum=0.1, affine=True, track_running_stats=True)\n",
       "        (relu2): ReLU(inplace=True)\n",
       "        (conv2): Conv2d(128, 32, kernel_size=(3, 3), stride=(1, 1), padding=(1, 1), bias=False)\n",
       "      )\n",
       "      (denselayer2): _DenseLayer(\n",
       "        (norm1): BatchNorm2d(160, eps=1e-05, momentum=0.1, affine=True, track_running_stats=True)\n",
       "        (relu1): ReLU(inplace=True)\n",
       "        (conv1): Conv2d(160, 128, kernel_size=(1, 1), stride=(1, 1), bias=False)\n",
       "        (norm2): BatchNorm2d(128, eps=1e-05, momentum=0.1, affine=True, track_running_stats=True)\n",
       "        (relu2): ReLU(inplace=True)\n",
       "        (conv2): Conv2d(128, 32, kernel_size=(3, 3), stride=(1, 1), padding=(1, 1), bias=False)\n",
       "      )\n",
       "      (denselayer3): _DenseLayer(\n",
       "        (norm1): BatchNorm2d(192, eps=1e-05, momentum=0.1, affine=True, track_running_stats=True)\n",
       "        (relu1): ReLU(inplace=True)\n",
       "        (conv1): Conv2d(192, 128, kernel_size=(1, 1), stride=(1, 1), bias=False)\n",
       "        (norm2): BatchNorm2d(128, eps=1e-05, momentum=0.1, affine=True, track_running_stats=True)\n",
       "        (relu2): ReLU(inplace=True)\n",
       "        (conv2): Conv2d(128, 32, kernel_size=(3, 3), stride=(1, 1), padding=(1, 1), bias=False)\n",
       "      )\n",
       "      (denselayer4): _DenseLayer(\n",
       "        (norm1): BatchNorm2d(224, eps=1e-05, momentum=0.1, affine=True, track_running_stats=True)\n",
       "        (relu1): ReLU(inplace=True)\n",
       "        (conv1): Conv2d(224, 128, kernel_size=(1, 1), stride=(1, 1), bias=False)\n",
       "        (norm2): BatchNorm2d(128, eps=1e-05, momentum=0.1, affine=True, track_running_stats=True)\n",
       "        (relu2): ReLU(inplace=True)\n",
       "        (conv2): Conv2d(128, 32, kernel_size=(3, 3), stride=(1, 1), padding=(1, 1), bias=False)\n",
       "      )\n",
       "      (denselayer5): _DenseLayer(\n",
       "        (norm1): BatchNorm2d(256, eps=1e-05, momentum=0.1, affine=True, track_running_stats=True)\n",
       "        (relu1): ReLU(inplace=True)\n",
       "        (conv1): Conv2d(256, 128, kernel_size=(1, 1), stride=(1, 1), bias=False)\n",
       "        (norm2): BatchNorm2d(128, eps=1e-05, momentum=0.1, affine=True, track_running_stats=True)\n",
       "        (relu2): ReLU(inplace=True)\n",
       "        (conv2): Conv2d(128, 32, kernel_size=(3, 3), stride=(1, 1), padding=(1, 1), bias=False)\n",
       "      )\n",
       "      (denselayer6): _DenseLayer(\n",
       "        (norm1): BatchNorm2d(288, eps=1e-05, momentum=0.1, affine=True, track_running_stats=True)\n",
       "        (relu1): ReLU(inplace=True)\n",
       "        (conv1): Conv2d(288, 128, kernel_size=(1, 1), stride=(1, 1), bias=False)\n",
       "        (norm2): BatchNorm2d(128, eps=1e-05, momentum=0.1, affine=True, track_running_stats=True)\n",
       "        (relu2): ReLU(inplace=True)\n",
       "        (conv2): Conv2d(128, 32, kernel_size=(3, 3), stride=(1, 1), padding=(1, 1), bias=False)\n",
       "      )\n",
       "      (denselayer7): _DenseLayer(\n",
       "        (norm1): BatchNorm2d(320, eps=1e-05, momentum=0.1, affine=True, track_running_stats=True)\n",
       "        (relu1): ReLU(inplace=True)\n",
       "        (conv1): Conv2d(320, 128, kernel_size=(1, 1), stride=(1, 1), bias=False)\n",
       "        (norm2): BatchNorm2d(128, eps=1e-05, momentum=0.1, affine=True, track_running_stats=True)\n",
       "        (relu2): ReLU(inplace=True)\n",
       "        (conv2): Conv2d(128, 32, kernel_size=(3, 3), stride=(1, 1), padding=(1, 1), bias=False)\n",
       "      )\n",
       "      (denselayer8): _DenseLayer(\n",
       "        (norm1): BatchNorm2d(352, eps=1e-05, momentum=0.1, affine=True, track_running_stats=True)\n",
       "        (relu1): ReLU(inplace=True)\n",
       "        (conv1): Conv2d(352, 128, kernel_size=(1, 1), stride=(1, 1), bias=False)\n",
       "        (norm2): BatchNorm2d(128, eps=1e-05, momentum=0.1, affine=True, track_running_stats=True)\n",
       "        (relu2): ReLU(inplace=True)\n",
       "        (conv2): Conv2d(128, 32, kernel_size=(3, 3), stride=(1, 1), padding=(1, 1), bias=False)\n",
       "      )\n",
       "      (denselayer9): _DenseLayer(\n",
       "        (norm1): BatchNorm2d(384, eps=1e-05, momentum=0.1, affine=True, track_running_stats=True)\n",
       "        (relu1): ReLU(inplace=True)\n",
       "        (conv1): Conv2d(384, 128, kernel_size=(1, 1), stride=(1, 1), bias=False)\n",
       "        (norm2): BatchNorm2d(128, eps=1e-05, momentum=0.1, affine=True, track_running_stats=True)\n",
       "        (relu2): ReLU(inplace=True)\n",
       "        (conv2): Conv2d(128, 32, kernel_size=(3, 3), stride=(1, 1), padding=(1, 1), bias=False)\n",
       "      )\n",
       "      (denselayer10): _DenseLayer(\n",
       "        (norm1): BatchNorm2d(416, eps=1e-05, momentum=0.1, affine=True, track_running_stats=True)\n",
       "        (relu1): ReLU(inplace=True)\n",
       "        (conv1): Conv2d(416, 128, kernel_size=(1, 1), stride=(1, 1), bias=False)\n",
       "        (norm2): BatchNorm2d(128, eps=1e-05, momentum=0.1, affine=True, track_running_stats=True)\n",
       "        (relu2): ReLU(inplace=True)\n",
       "        (conv2): Conv2d(128, 32, kernel_size=(3, 3), stride=(1, 1), padding=(1, 1), bias=False)\n",
       "      )\n",
       "      (denselayer11): _DenseLayer(\n",
       "        (norm1): BatchNorm2d(448, eps=1e-05, momentum=0.1, affine=True, track_running_stats=True)\n",
       "        (relu1): ReLU(inplace=True)\n",
       "        (conv1): Conv2d(448, 128, kernel_size=(1, 1), stride=(1, 1), bias=False)\n",
       "        (norm2): BatchNorm2d(128, eps=1e-05, momentum=0.1, affine=True, track_running_stats=True)\n",
       "        (relu2): ReLU(inplace=True)\n",
       "        (conv2): Conv2d(128, 32, kernel_size=(3, 3), stride=(1, 1), padding=(1, 1), bias=False)\n",
       "      )\n",
       "      (denselayer12): _DenseLayer(\n",
       "        (norm1): BatchNorm2d(480, eps=1e-05, momentum=0.1, affine=True, track_running_stats=True)\n",
       "        (relu1): ReLU(inplace=True)\n",
       "        (conv1): Conv2d(480, 128, kernel_size=(1, 1), stride=(1, 1), bias=False)\n",
       "        (norm2): BatchNorm2d(128, eps=1e-05, momentum=0.1, affine=True, track_running_stats=True)\n",
       "        (relu2): ReLU(inplace=True)\n",
       "        (conv2): Conv2d(128, 32, kernel_size=(3, 3), stride=(1, 1), padding=(1, 1), bias=False)\n",
       "      )\n",
       "    )\n",
       "    (transition2): _Transition(\n",
       "      (norm): BatchNorm2d(512, eps=1e-05, momentum=0.1, affine=True, track_running_stats=True)\n",
       "      (relu): ReLU(inplace=True)\n",
       "      (conv): Conv2d(512, 256, kernel_size=(1, 1), stride=(1, 1), bias=False)\n",
       "      (pool): AvgPool2d(kernel_size=2, stride=2, padding=0)\n",
       "    )\n",
       "    (denseblock3): _DenseBlock(\n",
       "      (denselayer1): _DenseLayer(\n",
       "        (norm1): BatchNorm2d(256, eps=1e-05, momentum=0.1, affine=True, track_running_stats=True)\n",
       "        (relu1): ReLU(inplace=True)\n",
       "        (conv1): Conv2d(256, 128, kernel_size=(1, 1), stride=(1, 1), bias=False)\n",
       "        (norm2): BatchNorm2d(128, eps=1e-05, momentum=0.1, affine=True, track_running_stats=True)\n",
       "        (relu2): ReLU(inplace=True)\n",
       "        (conv2): Conv2d(128, 32, kernel_size=(3, 3), stride=(1, 1), padding=(1, 1), bias=False)\n",
       "      )\n",
       "      (denselayer2): _DenseLayer(\n",
       "        (norm1): BatchNorm2d(288, eps=1e-05, momentum=0.1, affine=True, track_running_stats=True)\n",
       "        (relu1): ReLU(inplace=True)\n",
       "        (conv1): Conv2d(288, 128, kernel_size=(1, 1), stride=(1, 1), bias=False)\n",
       "        (norm2): BatchNorm2d(128, eps=1e-05, momentum=0.1, affine=True, track_running_stats=True)\n",
       "        (relu2): ReLU(inplace=True)\n",
       "        (conv2): Conv2d(128, 32, kernel_size=(3, 3), stride=(1, 1), padding=(1, 1), bias=False)\n",
       "      )\n",
       "      (denselayer3): _DenseLayer(\n",
       "        (norm1): BatchNorm2d(320, eps=1e-05, momentum=0.1, affine=True, track_running_stats=True)\n",
       "        (relu1): ReLU(inplace=True)\n",
       "        (conv1): Conv2d(320, 128, kernel_size=(1, 1), stride=(1, 1), bias=False)\n",
       "        (norm2): BatchNorm2d(128, eps=1e-05, momentum=0.1, affine=True, track_running_stats=True)\n",
       "        (relu2): ReLU(inplace=True)\n",
       "        (conv2): Conv2d(128, 32, kernel_size=(3, 3), stride=(1, 1), padding=(1, 1), bias=False)\n",
       "      )\n",
       "      (denselayer4): _DenseLayer(\n",
       "        (norm1): BatchNorm2d(352, eps=1e-05, momentum=0.1, affine=True, track_running_stats=True)\n",
       "        (relu1): ReLU(inplace=True)\n",
       "        (conv1): Conv2d(352, 128, kernel_size=(1, 1), stride=(1, 1), bias=False)\n",
       "        (norm2): BatchNorm2d(128, eps=1e-05, momentum=0.1, affine=True, track_running_stats=True)\n",
       "        (relu2): ReLU(inplace=True)\n",
       "        (conv2): Conv2d(128, 32, kernel_size=(3, 3), stride=(1, 1), padding=(1, 1), bias=False)\n",
       "      )\n",
       "      (denselayer5): _DenseLayer(\n",
       "        (norm1): BatchNorm2d(384, eps=1e-05, momentum=0.1, affine=True, track_running_stats=True)\n",
       "        (relu1): ReLU(inplace=True)\n",
       "        (conv1): Conv2d(384, 128, kernel_size=(1, 1), stride=(1, 1), bias=False)\n",
       "        (norm2): BatchNorm2d(128, eps=1e-05, momentum=0.1, affine=True, track_running_stats=True)\n",
       "        (relu2): ReLU(inplace=True)\n",
       "        (conv2): Conv2d(128, 32, kernel_size=(3, 3), stride=(1, 1), padding=(1, 1), bias=False)\n",
       "      )\n",
       "      (denselayer6): _DenseLayer(\n",
       "        (norm1): BatchNorm2d(416, eps=1e-05, momentum=0.1, affine=True, track_running_stats=True)\n",
       "        (relu1): ReLU(inplace=True)\n",
       "        (conv1): Conv2d(416, 128, kernel_size=(1, 1), stride=(1, 1), bias=False)\n",
       "        (norm2): BatchNorm2d(128, eps=1e-05, momentum=0.1, affine=True, track_running_stats=True)\n",
       "        (relu2): ReLU(inplace=True)\n",
       "        (conv2): Conv2d(128, 32, kernel_size=(3, 3), stride=(1, 1), padding=(1, 1), bias=False)\n",
       "      )\n",
       "      (denselayer7): _DenseLayer(\n",
       "        (norm1): BatchNorm2d(448, eps=1e-05, momentum=0.1, affine=True, track_running_stats=True)\n",
       "        (relu1): ReLU(inplace=True)\n",
       "        (conv1): Conv2d(448, 128, kernel_size=(1, 1), stride=(1, 1), bias=False)\n",
       "        (norm2): BatchNorm2d(128, eps=1e-05, momentum=0.1, affine=True, track_running_stats=True)\n",
       "        (relu2): ReLU(inplace=True)\n",
       "        (conv2): Conv2d(128, 32, kernel_size=(3, 3), stride=(1, 1), padding=(1, 1), bias=False)\n",
       "      )\n",
       "      (denselayer8): _DenseLayer(\n",
       "        (norm1): BatchNorm2d(480, eps=1e-05, momentum=0.1, affine=True, track_running_stats=True)\n",
       "        (relu1): ReLU(inplace=True)\n",
       "        (conv1): Conv2d(480, 128, kernel_size=(1, 1), stride=(1, 1), bias=False)\n",
       "        (norm2): BatchNorm2d(128, eps=1e-05, momentum=0.1, affine=True, track_running_stats=True)\n",
       "        (relu2): ReLU(inplace=True)\n",
       "        (conv2): Conv2d(128, 32, kernel_size=(3, 3), stride=(1, 1), padding=(1, 1), bias=False)\n",
       "      )\n",
       "      (denselayer9): _DenseLayer(\n",
       "        (norm1): BatchNorm2d(512, eps=1e-05, momentum=0.1, affine=True, track_running_stats=True)\n",
       "        (relu1): ReLU(inplace=True)\n",
       "        (conv1): Conv2d(512, 128, kernel_size=(1, 1), stride=(1, 1), bias=False)\n",
       "        (norm2): BatchNorm2d(128, eps=1e-05, momentum=0.1, affine=True, track_running_stats=True)\n",
       "        (relu2): ReLU(inplace=True)\n",
       "        (conv2): Conv2d(128, 32, kernel_size=(3, 3), stride=(1, 1), padding=(1, 1), bias=False)\n",
       "      )\n",
       "      (denselayer10): _DenseLayer(\n",
       "        (norm1): BatchNorm2d(544, eps=1e-05, momentum=0.1, affine=True, track_running_stats=True)\n",
       "        (relu1): ReLU(inplace=True)\n",
       "        (conv1): Conv2d(544, 128, kernel_size=(1, 1), stride=(1, 1), bias=False)\n",
       "        (norm2): BatchNorm2d(128, eps=1e-05, momentum=0.1, affine=True, track_running_stats=True)\n",
       "        (relu2): ReLU(inplace=True)\n",
       "        (conv2): Conv2d(128, 32, kernel_size=(3, 3), stride=(1, 1), padding=(1, 1), bias=False)\n",
       "      )\n",
       "      (denselayer11): _DenseLayer(\n",
       "        (norm1): BatchNorm2d(576, eps=1e-05, momentum=0.1, affine=True, track_running_stats=True)\n",
       "        (relu1): ReLU(inplace=True)\n",
       "        (conv1): Conv2d(576, 128, kernel_size=(1, 1), stride=(1, 1), bias=False)\n",
       "        (norm2): BatchNorm2d(128, eps=1e-05, momentum=0.1, affine=True, track_running_stats=True)\n",
       "        (relu2): ReLU(inplace=True)\n",
       "        (conv2): Conv2d(128, 32, kernel_size=(3, 3), stride=(1, 1), padding=(1, 1), bias=False)\n",
       "      )\n",
       "      (denselayer12): _DenseLayer(\n",
       "        (norm1): BatchNorm2d(608, eps=1e-05, momentum=0.1, affine=True, track_running_stats=True)\n",
       "        (relu1): ReLU(inplace=True)\n",
       "        (conv1): Conv2d(608, 128, kernel_size=(1, 1), stride=(1, 1), bias=False)\n",
       "        (norm2): BatchNorm2d(128, eps=1e-05, momentum=0.1, affine=True, track_running_stats=True)\n",
       "        (relu2): ReLU(inplace=True)\n",
       "        (conv2): Conv2d(128, 32, kernel_size=(3, 3), stride=(1, 1), padding=(1, 1), bias=False)\n",
       "      )\n",
       "      (denselayer13): _DenseLayer(\n",
       "        (norm1): BatchNorm2d(640, eps=1e-05, momentum=0.1, affine=True, track_running_stats=True)\n",
       "        (relu1): ReLU(inplace=True)\n",
       "        (conv1): Conv2d(640, 128, kernel_size=(1, 1), stride=(1, 1), bias=False)\n",
       "        (norm2): BatchNorm2d(128, eps=1e-05, momentum=0.1, affine=True, track_running_stats=True)\n",
       "        (relu2): ReLU(inplace=True)\n",
       "        (conv2): Conv2d(128, 32, kernel_size=(3, 3), stride=(1, 1), padding=(1, 1), bias=False)\n",
       "      )\n",
       "      (denselayer14): _DenseLayer(\n",
       "        (norm1): BatchNorm2d(672, eps=1e-05, momentum=0.1, affine=True, track_running_stats=True)\n",
       "        (relu1): ReLU(inplace=True)\n",
       "        (conv1): Conv2d(672, 128, kernel_size=(1, 1), stride=(1, 1), bias=False)\n",
       "        (norm2): BatchNorm2d(128, eps=1e-05, momentum=0.1, affine=True, track_running_stats=True)\n",
       "        (relu2): ReLU(inplace=True)\n",
       "        (conv2): Conv2d(128, 32, kernel_size=(3, 3), stride=(1, 1), padding=(1, 1), bias=False)\n",
       "      )\n",
       "      (denselayer15): _DenseLayer(\n",
       "        (norm1): BatchNorm2d(704, eps=1e-05, momentum=0.1, affine=True, track_running_stats=True)\n",
       "        (relu1): ReLU(inplace=True)\n",
       "        (conv1): Conv2d(704, 128, kernel_size=(1, 1), stride=(1, 1), bias=False)\n",
       "        (norm2): BatchNorm2d(128, eps=1e-05, momentum=0.1, affine=True, track_running_stats=True)\n",
       "        (relu2): ReLU(inplace=True)\n",
       "        (conv2): Conv2d(128, 32, kernel_size=(3, 3), stride=(1, 1), padding=(1, 1), bias=False)\n",
       "      )\n",
       "      (denselayer16): _DenseLayer(\n",
       "        (norm1): BatchNorm2d(736, eps=1e-05, momentum=0.1, affine=True, track_running_stats=True)\n",
       "        (relu1): ReLU(inplace=True)\n",
       "        (conv1): Conv2d(736, 128, kernel_size=(1, 1), stride=(1, 1), bias=False)\n",
       "        (norm2): BatchNorm2d(128, eps=1e-05, momentum=0.1, affine=True, track_running_stats=True)\n",
       "        (relu2): ReLU(inplace=True)\n",
       "        (conv2): Conv2d(128, 32, kernel_size=(3, 3), stride=(1, 1), padding=(1, 1), bias=False)\n",
       "      )\n",
       "      (denselayer17): _DenseLayer(\n",
       "        (norm1): BatchNorm2d(768, eps=1e-05, momentum=0.1, affine=True, track_running_stats=True)\n",
       "        (relu1): ReLU(inplace=True)\n",
       "        (conv1): Conv2d(768, 128, kernel_size=(1, 1), stride=(1, 1), bias=False)\n",
       "        (norm2): BatchNorm2d(128, eps=1e-05, momentum=0.1, affine=True, track_running_stats=True)\n",
       "        (relu2): ReLU(inplace=True)\n",
       "        (conv2): Conv2d(128, 32, kernel_size=(3, 3), stride=(1, 1), padding=(1, 1), bias=False)\n",
       "      )\n",
       "      (denselayer18): _DenseLayer(\n",
       "        (norm1): BatchNorm2d(800, eps=1e-05, momentum=0.1, affine=True, track_running_stats=True)\n",
       "        (relu1): ReLU(inplace=True)\n",
       "        (conv1): Conv2d(800, 128, kernel_size=(1, 1), stride=(1, 1), bias=False)\n",
       "        (norm2): BatchNorm2d(128, eps=1e-05, momentum=0.1, affine=True, track_running_stats=True)\n",
       "        (relu2): ReLU(inplace=True)\n",
       "        (conv2): Conv2d(128, 32, kernel_size=(3, 3), stride=(1, 1), padding=(1, 1), bias=False)\n",
       "      )\n",
       "      (denselayer19): _DenseLayer(\n",
       "        (norm1): BatchNorm2d(832, eps=1e-05, momentum=0.1, affine=True, track_running_stats=True)\n",
       "        (relu1): ReLU(inplace=True)\n",
       "        (conv1): Conv2d(832, 128, kernel_size=(1, 1), stride=(1, 1), bias=False)\n",
       "        (norm2): BatchNorm2d(128, eps=1e-05, momentum=0.1, affine=True, track_running_stats=True)\n",
       "        (relu2): ReLU(inplace=True)\n",
       "        (conv2): Conv2d(128, 32, kernel_size=(3, 3), stride=(1, 1), padding=(1, 1), bias=False)\n",
       "      )\n",
       "      (denselayer20): _DenseLayer(\n",
       "        (norm1): BatchNorm2d(864, eps=1e-05, momentum=0.1, affine=True, track_running_stats=True)\n",
       "        (relu1): ReLU(inplace=True)\n",
       "        (conv1): Conv2d(864, 128, kernel_size=(1, 1), stride=(1, 1), bias=False)\n",
       "        (norm2): BatchNorm2d(128, eps=1e-05, momentum=0.1, affine=True, track_running_stats=True)\n",
       "        (relu2): ReLU(inplace=True)\n",
       "        (conv2): Conv2d(128, 32, kernel_size=(3, 3), stride=(1, 1), padding=(1, 1), bias=False)\n",
       "      )\n",
       "      (denselayer21): _DenseLayer(\n",
       "        (norm1): BatchNorm2d(896, eps=1e-05, momentum=0.1, affine=True, track_running_stats=True)\n",
       "        (relu1): ReLU(inplace=True)\n",
       "        (conv1): Conv2d(896, 128, kernel_size=(1, 1), stride=(1, 1), bias=False)\n",
       "        (norm2): BatchNorm2d(128, eps=1e-05, momentum=0.1, affine=True, track_running_stats=True)\n",
       "        (relu2): ReLU(inplace=True)\n",
       "        (conv2): Conv2d(128, 32, kernel_size=(3, 3), stride=(1, 1), padding=(1, 1), bias=False)\n",
       "      )\n",
       "      (denselayer22): _DenseLayer(\n",
       "        (norm1): BatchNorm2d(928, eps=1e-05, momentum=0.1, affine=True, track_running_stats=True)\n",
       "        (relu1): ReLU(inplace=True)\n",
       "        (conv1): Conv2d(928, 128, kernel_size=(1, 1), stride=(1, 1), bias=False)\n",
       "        (norm2): BatchNorm2d(128, eps=1e-05, momentum=0.1, affine=True, track_running_stats=True)\n",
       "        (relu2): ReLU(inplace=True)\n",
       "        (conv2): Conv2d(128, 32, kernel_size=(3, 3), stride=(1, 1), padding=(1, 1), bias=False)\n",
       "      )\n",
       "      (denselayer23): _DenseLayer(\n",
       "        (norm1): BatchNorm2d(960, eps=1e-05, momentum=0.1, affine=True, track_running_stats=True)\n",
       "        (relu1): ReLU(inplace=True)\n",
       "        (conv1): Conv2d(960, 128, kernel_size=(1, 1), stride=(1, 1), bias=False)\n",
       "        (norm2): BatchNorm2d(128, eps=1e-05, momentum=0.1, affine=True, track_running_stats=True)\n",
       "        (relu2): ReLU(inplace=True)\n",
       "        (conv2): Conv2d(128, 32, kernel_size=(3, 3), stride=(1, 1), padding=(1, 1), bias=False)\n",
       "      )\n",
       "      (denselayer24): _DenseLayer(\n",
       "        (norm1): BatchNorm2d(992, eps=1e-05, momentum=0.1, affine=True, track_running_stats=True)\n",
       "        (relu1): ReLU(inplace=True)\n",
       "        (conv1): Conv2d(992, 128, kernel_size=(1, 1), stride=(1, 1), bias=False)\n",
       "        (norm2): BatchNorm2d(128, eps=1e-05, momentum=0.1, affine=True, track_running_stats=True)\n",
       "        (relu2): ReLU(inplace=True)\n",
       "        (conv2): Conv2d(128, 32, kernel_size=(3, 3), stride=(1, 1), padding=(1, 1), bias=False)\n",
       "      )\n",
       "    )\n",
       "    (transition3): _Transition(\n",
       "      (norm): BatchNorm2d(1024, eps=1e-05, momentum=0.1, affine=True, track_running_stats=True)\n",
       "      (relu): ReLU(inplace=True)\n",
       "      (conv): Conv2d(1024, 512, kernel_size=(1, 1), stride=(1, 1), bias=False)\n",
       "      (pool): AvgPool2d(kernel_size=2, stride=2, padding=0)\n",
       "    )\n",
       "    (denseblock4): _DenseBlock(\n",
       "      (denselayer1): _DenseLayer(\n",
       "        (norm1): BatchNorm2d(512, eps=1e-05, momentum=0.1, affine=True, track_running_stats=True)\n",
       "        (relu1): ReLU(inplace=True)\n",
       "        (conv1): Conv2d(512, 128, kernel_size=(1, 1), stride=(1, 1), bias=False)\n",
       "        (norm2): BatchNorm2d(128, eps=1e-05, momentum=0.1, affine=True, track_running_stats=True)\n",
       "        (relu2): ReLU(inplace=True)\n",
       "        (conv2): Conv2d(128, 32, kernel_size=(3, 3), stride=(1, 1), padding=(1, 1), bias=False)\n",
       "      )\n",
       "      (denselayer2): _DenseLayer(\n",
       "        (norm1): BatchNorm2d(544, eps=1e-05, momentum=0.1, affine=True, track_running_stats=True)\n",
       "        (relu1): ReLU(inplace=True)\n",
       "        (conv1): Conv2d(544, 128, kernel_size=(1, 1), stride=(1, 1), bias=False)\n",
       "        (norm2): BatchNorm2d(128, eps=1e-05, momentum=0.1, affine=True, track_running_stats=True)\n",
       "        (relu2): ReLU(inplace=True)\n",
       "        (conv2): Conv2d(128, 32, kernel_size=(3, 3), stride=(1, 1), padding=(1, 1), bias=False)\n",
       "      )\n",
       "      (denselayer3): _DenseLayer(\n",
       "        (norm1): BatchNorm2d(576, eps=1e-05, momentum=0.1, affine=True, track_running_stats=True)\n",
       "        (relu1): ReLU(inplace=True)\n",
       "        (conv1): Conv2d(576, 128, kernel_size=(1, 1), stride=(1, 1), bias=False)\n",
       "        (norm2): BatchNorm2d(128, eps=1e-05, momentum=0.1, affine=True, track_running_stats=True)\n",
       "        (relu2): ReLU(inplace=True)\n",
       "        (conv2): Conv2d(128, 32, kernel_size=(3, 3), stride=(1, 1), padding=(1, 1), bias=False)\n",
       "      )\n",
       "      (denselayer4): _DenseLayer(\n",
       "        (norm1): BatchNorm2d(608, eps=1e-05, momentum=0.1, affine=True, track_running_stats=True)\n",
       "        (relu1): ReLU(inplace=True)\n",
       "        (conv1): Conv2d(608, 128, kernel_size=(1, 1), stride=(1, 1), bias=False)\n",
       "        (norm2): BatchNorm2d(128, eps=1e-05, momentum=0.1, affine=True, track_running_stats=True)\n",
       "        (relu2): ReLU(inplace=True)\n",
       "        (conv2): Conv2d(128, 32, kernel_size=(3, 3), stride=(1, 1), padding=(1, 1), bias=False)\n",
       "      )\n",
       "      (denselayer5): _DenseLayer(\n",
       "        (norm1): BatchNorm2d(640, eps=1e-05, momentum=0.1, affine=True, track_running_stats=True)\n",
       "        (relu1): ReLU(inplace=True)\n",
       "        (conv1): Conv2d(640, 128, kernel_size=(1, 1), stride=(1, 1), bias=False)\n",
       "        (norm2): BatchNorm2d(128, eps=1e-05, momentum=0.1, affine=True, track_running_stats=True)\n",
       "        (relu2): ReLU(inplace=True)\n",
       "        (conv2): Conv2d(128, 32, kernel_size=(3, 3), stride=(1, 1), padding=(1, 1), bias=False)\n",
       "      )\n",
       "      (denselayer6): _DenseLayer(\n",
       "        (norm1): BatchNorm2d(672, eps=1e-05, momentum=0.1, affine=True, track_running_stats=True)\n",
       "        (relu1): ReLU(inplace=True)\n",
       "        (conv1): Conv2d(672, 128, kernel_size=(1, 1), stride=(1, 1), bias=False)\n",
       "        (norm2): BatchNorm2d(128, eps=1e-05, momentum=0.1, affine=True, track_running_stats=True)\n",
       "        (relu2): ReLU(inplace=True)\n",
       "        (conv2): Conv2d(128, 32, kernel_size=(3, 3), stride=(1, 1), padding=(1, 1), bias=False)\n",
       "      )\n",
       "      (denselayer7): _DenseLayer(\n",
       "        (norm1): BatchNorm2d(704, eps=1e-05, momentum=0.1, affine=True, track_running_stats=True)\n",
       "        (relu1): ReLU(inplace=True)\n",
       "        (conv1): Conv2d(704, 128, kernel_size=(1, 1), stride=(1, 1), bias=False)\n",
       "        (norm2): BatchNorm2d(128, eps=1e-05, momentum=0.1, affine=True, track_running_stats=True)\n",
       "        (relu2): ReLU(inplace=True)\n",
       "        (conv2): Conv2d(128, 32, kernel_size=(3, 3), stride=(1, 1), padding=(1, 1), bias=False)\n",
       "      )\n",
       "      (denselayer8): _DenseLayer(\n",
       "        (norm1): BatchNorm2d(736, eps=1e-05, momentum=0.1, affine=True, track_running_stats=True)\n",
       "        (relu1): ReLU(inplace=True)\n",
       "        (conv1): Conv2d(736, 128, kernel_size=(1, 1), stride=(1, 1), bias=False)\n",
       "        (norm2): BatchNorm2d(128, eps=1e-05, momentum=0.1, affine=True, track_running_stats=True)\n",
       "        (relu2): ReLU(inplace=True)\n",
       "        (conv2): Conv2d(128, 32, kernel_size=(3, 3), stride=(1, 1), padding=(1, 1), bias=False)\n",
       "      )\n",
       "      (denselayer9): _DenseLayer(\n",
       "        (norm1): BatchNorm2d(768, eps=1e-05, momentum=0.1, affine=True, track_running_stats=True)\n",
       "        (relu1): ReLU(inplace=True)\n",
       "        (conv1): Conv2d(768, 128, kernel_size=(1, 1), stride=(1, 1), bias=False)\n",
       "        (norm2): BatchNorm2d(128, eps=1e-05, momentum=0.1, affine=True, track_running_stats=True)\n",
       "        (relu2): ReLU(inplace=True)\n",
       "        (conv2): Conv2d(128, 32, kernel_size=(3, 3), stride=(1, 1), padding=(1, 1), bias=False)\n",
       "      )\n",
       "      (denselayer10): _DenseLayer(\n",
       "        (norm1): BatchNorm2d(800, eps=1e-05, momentum=0.1, affine=True, track_running_stats=True)\n",
       "        (relu1): ReLU(inplace=True)\n",
       "        (conv1): Conv2d(800, 128, kernel_size=(1, 1), stride=(1, 1), bias=False)\n",
       "        (norm2): BatchNorm2d(128, eps=1e-05, momentum=0.1, affine=True, track_running_stats=True)\n",
       "        (relu2): ReLU(inplace=True)\n",
       "        (conv2): Conv2d(128, 32, kernel_size=(3, 3), stride=(1, 1), padding=(1, 1), bias=False)\n",
       "      )\n",
       "      (denselayer11): _DenseLayer(\n",
       "        (norm1): BatchNorm2d(832, eps=1e-05, momentum=0.1, affine=True, track_running_stats=True)\n",
       "        (relu1): ReLU(inplace=True)\n",
       "        (conv1): Conv2d(832, 128, kernel_size=(1, 1), stride=(1, 1), bias=False)\n",
       "        (norm2): BatchNorm2d(128, eps=1e-05, momentum=0.1, affine=True, track_running_stats=True)\n",
       "        (relu2): ReLU(inplace=True)\n",
       "        (conv2): Conv2d(128, 32, kernel_size=(3, 3), stride=(1, 1), padding=(1, 1), bias=False)\n",
       "      )\n",
       "      (denselayer12): _DenseLayer(\n",
       "        (norm1): BatchNorm2d(864, eps=1e-05, momentum=0.1, affine=True, track_running_stats=True)\n",
       "        (relu1): ReLU(inplace=True)\n",
       "        (conv1): Conv2d(864, 128, kernel_size=(1, 1), stride=(1, 1), bias=False)\n",
       "        (norm2): BatchNorm2d(128, eps=1e-05, momentum=0.1, affine=True, track_running_stats=True)\n",
       "        (relu2): ReLU(inplace=True)\n",
       "        (conv2): Conv2d(128, 32, kernel_size=(3, 3), stride=(1, 1), padding=(1, 1), bias=False)\n",
       "      )\n",
       "      (denselayer13): _DenseLayer(\n",
       "        (norm1): BatchNorm2d(896, eps=1e-05, momentum=0.1, affine=True, track_running_stats=True)\n",
       "        (relu1): ReLU(inplace=True)\n",
       "        (conv1): Conv2d(896, 128, kernel_size=(1, 1), stride=(1, 1), bias=False)\n",
       "        (norm2): BatchNorm2d(128, eps=1e-05, momentum=0.1, affine=True, track_running_stats=True)\n",
       "        (relu2): ReLU(inplace=True)\n",
       "        (conv2): Conv2d(128, 32, kernel_size=(3, 3), stride=(1, 1), padding=(1, 1), bias=False)\n",
       "      )\n",
       "      (denselayer14): _DenseLayer(\n",
       "        (norm1): BatchNorm2d(928, eps=1e-05, momentum=0.1, affine=True, track_running_stats=True)\n",
       "        (relu1): ReLU(inplace=True)\n",
       "        (conv1): Conv2d(928, 128, kernel_size=(1, 1), stride=(1, 1), bias=False)\n",
       "        (norm2): BatchNorm2d(128, eps=1e-05, momentum=0.1, affine=True, track_running_stats=True)\n",
       "        (relu2): ReLU(inplace=True)\n",
       "        (conv2): Conv2d(128, 32, kernel_size=(3, 3), stride=(1, 1), padding=(1, 1), bias=False)\n",
       "      )\n",
       "      (denselayer15): _DenseLayer(\n",
       "        (norm1): BatchNorm2d(960, eps=1e-05, momentum=0.1, affine=True, track_running_stats=True)\n",
       "        (relu1): ReLU(inplace=True)\n",
       "        (conv1): Conv2d(960, 128, kernel_size=(1, 1), stride=(1, 1), bias=False)\n",
       "        (norm2): BatchNorm2d(128, eps=1e-05, momentum=0.1, affine=True, track_running_stats=True)\n",
       "        (relu2): ReLU(inplace=True)\n",
       "        (conv2): Conv2d(128, 32, kernel_size=(3, 3), stride=(1, 1), padding=(1, 1), bias=False)\n",
       "      )\n",
       "      (denselayer16): _DenseLayer(\n",
       "        (norm1): BatchNorm2d(992, eps=1e-05, momentum=0.1, affine=True, track_running_stats=True)\n",
       "        (relu1): ReLU(inplace=True)\n",
       "        (conv1): Conv2d(992, 128, kernel_size=(1, 1), stride=(1, 1), bias=False)\n",
       "        (norm2): BatchNorm2d(128, eps=1e-05, momentum=0.1, affine=True, track_running_stats=True)\n",
       "        (relu2): ReLU(inplace=True)\n",
       "        (conv2): Conv2d(128, 32, kernel_size=(3, 3), stride=(1, 1), padding=(1, 1), bias=False)\n",
       "      )\n",
       "    )\n",
       "    (norm5): BatchNorm2d(1024, eps=1e-05, momentum=0.1, affine=True, track_running_stats=True)\n",
       "  )\n",
       "  (classifier): Sequential(\n",
       "    (0): Dropout(p=0.2, inplace=False)\n",
       "    (1): Linear(in_features=1024, out_features=10, bias=True)\n",
       "    (2): ReLU()\n",
       "    (3): Linear(in_features=10, out_features=2, bias=True)\n",
       "  )\n",
       ")"
      ]
     },
     "execution_count": 43,
     "metadata": {},
     "output_type": "execute_result"
    }
   ],
   "source": [
    "model.classifier = fc_new\n",
    "model.eval()"
   ]
  },
  {
   "cell_type": "markdown",
   "id": "37c62033",
   "metadata": {},
   "source": [
    "Создадим папку, куда загрузим модели:"
   ]
  },
  {
   "cell_type": "code",
   "execution_count": 122,
   "id": "c0aef01d",
   "metadata": {},
   "outputs": [],
   "source": [
    "directory = os.getcwd() + '\\models'\n",
    "if not os.path.exists(directory):\n",
    "    os.makedirs(directory)"
   ]
  },
  {
   "cell_type": "markdown",
   "id": "57c72b6e",
   "metadata": {},
   "source": [
    "__Проведем обучение 10 эпох для каждого значения подбираемого гиперпараметра:__"
   ]
  },
  {
   "cell_type": "markdown",
   "id": "33e825aa",
   "metadata": {},
   "source": [
    "Я сделаю один скрытый слой в новом classifier layer с числом нейронов, которое будет в качестве подбираемого гиперпараметра. Лучший гиперпараметр определю по результатам accuracy на валидационной выборке + построю графики изменения метрик accuracy и loss в процессе обучения для каждого значения гиперпараметра. <br> Значения пербираемые n_neurons = 10, 100 и 500"
   ]
  },
  {
   "cell_type": "code",
   "execution_count": 8,
   "id": "933dd913",
   "metadata": {},
   "outputs": [],
   "source": [
    "n_neurons_list = [10, 100, 500]"
   ]
  },
  {
   "cell_type": "code",
   "execution_count": 9,
   "id": "1c61b221",
   "metadata": {},
   "outputs": [],
   "source": [
    "data = datasets_bilder.preprocessing_func(RGB_presentation=True, easy=True)\n",
    "dataset_test = data.test\n",
    "dataset_train = data.train\n",
    "dataset_val = data.val\n",
    "mean_nums = data.mean_nums\n",
    "std_nums = data.std_nums\n",
    "batch_size = 10 \n",
    "train_dataloader = DataLoader(dataset=dataset_train, batch_size=batch_size, shuffle=True, num_workers=0)\n",
    "test_dataloader = DataLoader(dataset=dataset_test, batch_size=batch_size, shuffle=True, num_workers=0)\n",
    "val_dataloader = DataLoader(dataset=dataset_val, batch_size=batch_size, shuffle=True, num_workers=0)"
   ]
  },
  {
   "cell_type": "code",
   "execution_count": 13,
   "id": "c077a107",
   "metadata": {},
   "outputs": [],
   "source": [
    "directory = os.getcwd() + '\\models'\n",
    "device = torch.device(\"cuda\") if torch.cuda.is_available() else torch.device(\"cpu\")\n",
    "\n",
    "def accuracy(output,labels):\n",
    "    predictions = torch.argmax(output,dim=1)\n",
    "    correct = (predictions == labels).sum().cpu().numpy()\n",
    "    return correct / len(labels)"
   ]
  },
  {
   "cell_type": "code",
   "execution_count": null,
   "id": "b2795f89",
   "metadata": {},
   "outputs": [
    {
     "name": "stdout",
     "output_type": "stream",
     "text": [
      "НАЧИНАЕТСЯ ОБУЧЕНИЕ МОДЕЛИ С n_neurons = 10 :\n"
     ]
    },
    {
     "name": "stderr",
     "output_type": "stream",
     "text": [
      "100%|██████████████████████████████████████████████████████████████████████████████████████████████| 537/537 [23:05<00:00,  2.58s/it]\n"
     ]
    },
    {
     "name": "stdout",
     "output_type": "stream",
     "text": [
      "[epoch 1] loss: 0.307, acc: 0.881\n",
      "Validation accuracy - 0.8843749999999999\n"
     ]
    },
    {
     "name": "stderr",
     "output_type": "stream",
     "text": [
      "100%|██████████████████████████████████████████████████████████████████████████████████████████████| 537/537 [23:09<00:00,  2.59s/it]\n"
     ]
    },
    {
     "name": "stdout",
     "output_type": "stream",
     "text": [
      "[epoch 2] loss: 0.219, acc: 0.918\n",
      "Validation accuracy - 0.871875\n"
     ]
    },
    {
     "name": "stderr",
     "output_type": "stream",
     "text": [
      "100%|██████████████████████████████████████████████████████████████████████████████████████████████| 537/537 [23:00<00:00,  2.57s/it]\n"
     ]
    },
    {
     "name": "stdout",
     "output_type": "stream",
     "text": [
      "[epoch 3] loss: 0.205, acc: 0.921\n",
      "Validation accuracy - 0.8875\n"
     ]
    },
    {
     "name": "stderr",
     "output_type": "stream",
     "text": [
      "100%|██████████████████████████████████████████████████████████████████████████████████████████████| 537/537 [23:01<00:00,  2.57s/it]\n"
     ]
    },
    {
     "name": "stdout",
     "output_type": "stream",
     "text": [
      "[epoch 4] loss: 0.199, acc: 0.92\n",
      "Validation accuracy - 0.8625\n"
     ]
    },
    {
     "name": "stderr",
     "output_type": "stream",
     "text": [
      "100%|██████████████████████████████████████████████████████████████████████████████████████████████| 537/537 [23:03<00:00,  2.58s/it]\n"
     ]
    },
    {
     "name": "stdout",
     "output_type": "stream",
     "text": [
      "[epoch 5] loss: 0.195, acc: 0.922\n",
      "Validation accuracy - 0.896875\n"
     ]
    },
    {
     "name": "stderr",
     "output_type": "stream",
     "text": [
      "100%|██████████████████████████████████████████████████████████████████████████████████████████████| 537/537 [22:54<00:00,  2.56s/it]\n"
     ]
    },
    {
     "name": "stdout",
     "output_type": "stream",
     "text": [
      "[epoch 6] loss: 0.171, acc: 0.934\n",
      "Validation accuracy - 0.878125\n"
     ]
    },
    {
     "name": "stderr",
     "output_type": "stream",
     "text": [
      "100%|██████████████████████████████████████████████████████████████████████████████████████████████| 537/537 [22:41<00:00,  2.53s/it]\n"
     ]
    },
    {
     "name": "stdout",
     "output_type": "stream",
     "text": [
      "[epoch 7] loss: 0.163, acc: 0.936\n",
      "Validation accuracy - 0.8656250000000001\n"
     ]
    },
    {
     "name": "stderr",
     "output_type": "stream",
     "text": [
      "100%|██████████████████████████████████████████████████████████████████████████████████████████████| 537/537 [22:42<00:00,  2.54s/it]\n"
     ]
    },
    {
     "name": "stdout",
     "output_type": "stream",
     "text": [
      "[epoch 8] loss: 0.167, acc: 0.934\n",
      "Validation accuracy - 0.846875\n"
     ]
    },
    {
     "name": "stderr",
     "output_type": "stream",
     "text": [
      "100%|██████████████████████████████████████████████████████████████████████████████████████████████| 537/537 [22:40<00:00,  2.53s/it]\n"
     ]
    },
    {
     "name": "stdout",
     "output_type": "stream",
     "text": [
      "[epoch 9] loss: 0.165, acc: 0.933\n",
      "Validation accuracy - 0.853125\n"
     ]
    },
    {
     "name": "stderr",
     "output_type": "stream",
     "text": [
      "100%|██████████████████████████████████████████████████████████████████████████████████████████████| 537/537 [22:35<00:00,  2.52s/it]\n"
     ]
    },
    {
     "name": "stdout",
     "output_type": "stream",
     "text": [
      "[epoch 10] loss: 0.178, acc: 0.929\n",
      "Validation accuracy - 0.8531249999999999\n",
      "ЗАВЕРШИЛОСЬ ОБУЧЕНИЕ МОДЕЛИ С n_neurons = 10\n",
      "НАЧИНАЕТСЯ ОБУЧЕНИЕ МОДЕЛИ С n_neurons = 100 :\n"
     ]
    },
    {
     "name": "stderr",
     "output_type": "stream",
     "text": [
      "100%|██████████████████████████████████████████████████████████████████████████████████████████████| 537/537 [22:42<00:00,  2.54s/it]\n"
     ]
    },
    {
     "name": "stdout",
     "output_type": "stream",
     "text": [
      "[epoch 1] loss: 0.269, acc: 0.891\n",
      "Validation accuracy - 0.89375\n"
     ]
    },
    {
     "name": "stderr",
     "output_type": "stream",
     "text": [
      "100%|██████████████████████████████████████████████████████████████████████████████████████████████| 537/537 [22:42<00:00,  2.54s/it]\n"
     ]
    },
    {
     "name": "stdout",
     "output_type": "stream",
     "text": [
      "[epoch 2] loss: 0.228, acc: 0.909\n",
      "Validation accuracy - 0.865625\n"
     ]
    },
    {
     "name": "stderr",
     "output_type": "stream",
     "text": [
      "100%|██████████████████████████████████████████████████████████████████████████████████████████████| 537/537 [22:41<00:00,  2.54s/it]\n"
     ]
    },
    {
     "name": "stdout",
     "output_type": "stream",
     "text": [
      "[epoch 3] loss: 0.192, acc: 0.922\n",
      "Validation accuracy - 0.86875\n"
     ]
    },
    {
     "name": "stderr",
     "output_type": "stream",
     "text": [
      "100%|██████████████████████████████████████████████████████████████████████████████████████████████| 537/537 [22:44<00:00,  2.54s/it]\n"
     ]
    },
    {
     "name": "stdout",
     "output_type": "stream",
     "text": [
      "[epoch 4] loss: 0.195, acc: 0.922\n",
      "Validation accuracy - 0.8593749999999999\n"
     ]
    },
    {
     "name": "stderr",
     "output_type": "stream",
     "text": [
      "100%|██████████████████████████████████████████████████████████████████████████████████████████████| 537/537 [22:40<00:00,  2.53s/it]\n"
     ]
    },
    {
     "name": "stdout",
     "output_type": "stream",
     "text": [
      "[epoch 5] loss: 0.191, acc: 0.926\n",
      "Validation accuracy - 0.81875\n"
     ]
    },
    {
     "name": "stderr",
     "output_type": "stream",
     "text": [
      "100%|██████████████████████████████████████████████████████████████████████████████████████████████| 537/537 [22:40<00:00,  2.53s/it]\n"
     ]
    },
    {
     "name": "stdout",
     "output_type": "stream",
     "text": [
      "[epoch 6] loss: 0.161, acc: 0.936\n",
      "Validation accuracy - 0.86875\n"
     ]
    },
    {
     "name": "stderr",
     "output_type": "stream",
     "text": [
      "100%|██████████████████████████████████████████████████████████████████████████████████████████████| 537/537 [22:40<00:00,  2.53s/it]\n"
     ]
    },
    {
     "name": "stdout",
     "output_type": "stream",
     "text": [
      "[epoch 7] loss: 0.144, acc: 0.943\n",
      "Validation accuracy - 0.859375\n"
     ]
    },
    {
     "name": "stderr",
     "output_type": "stream",
     "text": [
      "100%|██████████████████████████████████████████████████████████████████████████████████████████████| 537/537 [22:45<00:00,  2.54s/it]\n"
     ]
    },
    {
     "name": "stdout",
     "output_type": "stream",
     "text": [
      "[epoch 8] loss: 0.148, acc: 0.94\n",
      "Validation accuracy - 0.8625\n"
     ]
    },
    {
     "name": "stderr",
     "output_type": "stream",
     "text": [
      "100%|██████████████████████████████████████████████████████████████████████████████████████████████| 537/537 [22:41<00:00,  2.54s/it]\n"
     ]
    },
    {
     "name": "stdout",
     "output_type": "stream",
     "text": [
      "[epoch 9] loss: 0.144, acc: 0.942\n",
      "Validation accuracy - 0.865625\n"
     ]
    },
    {
     "name": "stderr",
     "output_type": "stream",
     "text": [
      "100%|██████████████████████████████████████████████████████████████████████████████████████████████| 537/537 [22:42<00:00,  2.54s/it]\n"
     ]
    },
    {
     "name": "stdout",
     "output_type": "stream",
     "text": [
      "[epoch 10] loss: 0.138, acc: 0.946\n",
      "Validation accuracy - 0.871875\n",
      "ЗАВЕРШИЛОСЬ ОБУЧЕНИЕ МОДЕЛИ С n_neurons = 100\n",
      "НАЧИНАЕТСЯ ОБУЧЕНИЕ МОДЕЛИ С n_neurons = 500 :\n"
     ]
    },
    {
     "name": "stderr",
     "output_type": "stream",
     "text": [
      "100%|██████████████████████████████████████████████████████████████████████████████████████████████| 537/537 [22:55<00:00,  2.56s/it]\n"
     ]
    },
    {
     "name": "stdout",
     "output_type": "stream",
     "text": [
      "[epoch 1] loss: 0.274, acc: 0.886\n",
      "Validation accuracy - 0.853125\n"
     ]
    },
    {
     "name": "stderr",
     "output_type": "stream",
     "text": [
      " 88%|███████████████████████████████████████████████████████████████████████████████████▏          | 475/537 [20:19<02:30,  2.43s/it]"
     ]
    }
   ],
   "source": [
    "# Задаим словари для отслеживания метрик accuracy и loss в процессе обучения для каждого значения гиперпараметра.\n",
    "loss_train_dict = {}\n",
    "acc_train_dict = {}\n",
    "acc_validation_dict = {}\n",
    "loss_validation_dict = {}\n",
    "\n",
    "n_epoch = 10 #Зададим число эпох обучения\n",
    "start_time = time.time()\n",
    "for n_neurons in n_neurons_list:\n",
    "    model = torch.hub.load('pytorch/vision:v0.10.0', 'densenet121', pretrained=True).to(device)\n",
    "    # Переопредлим полносвязные слои:\n",
    "    fc_new =  nn.Sequential(\n",
    "            nn.Dropout(0.2),\n",
    "            nn.Linear(1024, n_neurons),\n",
    "            nn.ReLU(),\n",
    "            nn.Linear(n_neurons, 2))\n",
    "    \n",
    "    model.classifier = fc_new\n",
    "    # Зафиксируем все слои кроме переназначенного fc\n",
    "    for name, param in model.named_parameters():\n",
    "        if not ('classifier' in name):\n",
    "            param.requires_grad = False\n",
    "    \n",
    "    loss_func = nn.CrossEntropyLoss().to(device) #Функция поторь\n",
    "\n",
    "    opt = optim.Adam(model.parameters(), lr=0.001) # Адам-оптимизатор\n",
    "    scheduler = torch.optim.lr_scheduler.StepLR(optimizer=opt, step_size=5, gamma=0.1)\n",
    "    \n",
    "    # Заведем листы, в которые будем сохранять данные loss и acc эпох обучения\n",
    "    loss_train = []\n",
    "    acc_train = []\n",
    "    acc_validation = []\n",
    "    loss_validation = []\n",
    "    \n",
    "    \n",
    "    maxacc = 0 \n",
    "    print('НАЧИНАЕТСЯ ОБУЧЕНИЕ МОДЕЛИ С n_neurons =', n_neurons, ':')\n",
    "    for epoch in range(n_epoch): # цикл эпох\n",
    "        model.train()\n",
    "        running_loss = 0.0\n",
    "        running_acc = 0.0\n",
    "        for batch in tqdm(train_dataloader):\n",
    "            # получим данные батча\n",
    "            image_batch, label_batch  = batch\n",
    "            image_batch, label_batch = image_batch.to(device), label_batch.to(device)\n",
    "\n",
    "            #Приведу значение label_batch к требуемому виду\n",
    "            label_batch = torch.flatten(label_batch).type(torch.LongTensor) \n",
    "\n",
    "            # обнуление параметров градиента\n",
    "            opt.zero_grad()\n",
    "\n",
    "            # forward + backward + optimize\n",
    "            y_pred = model(image_batch)\n",
    "            loss = loss_func(y_pred, label_batch)\n",
    "\n",
    "            loss.backward()\n",
    "            opt.step()\n",
    "\n",
    "            #среднее по так будем искать (складывать а потом делить число батчей):\n",
    "            running_loss += loss.item() \n",
    "            running_acc += accuracy(y_pred, label_batch)\n",
    "\n",
    "        print(\"[epoch {}] loss: {:.3}, acc: {:.3}\".format(epoch+1, running_loss / len(train_dataloader),\n",
    "                                                          running_acc / len(train_dataloader)))\n",
    "        loss_train.append(running_loss / len(train_dataloader))\n",
    "        acc_train.append(running_acc / len(train_dataloader))\n",
    "        scheduler.step() # шаг для lr_scheduler\n",
    "\n",
    "        model.eval()  #Перевод модели в режим тестирования\n",
    "        acc_val = []\n",
    "        running_loss_val = 0\n",
    "        for itr,data in enumerate(val_dataloader):\n",
    "                imgs = data[0].to(device)\n",
    "                labels = data[1].to(device)   \n",
    "                labels = torch.flatten(labels).type(torch.LongTensor)\n",
    "                y_pred = model(imgs)\n",
    "                acc_val.append(accuracy(y_pred,labels))\n",
    "                running_loss_val += loss.item()\n",
    "        loss_val_ep =  running_loss_val / len(val_dataloader)\n",
    "\n",
    "        acc_val_ep = np.mean(np.array(acc_val))\n",
    "        print(f'Validation accuracy - {acc_val_ep}')\n",
    "        acc_validation.append(acc_val_ep)\n",
    "        loss_validation.append(loss_val_ep)\n",
    "\n",
    "\n",
    "        # Сохраним текущую модель лишь в случае более высокого accuracy на валидации:\n",
    "        if np.mean(np.array(acc_val)) > maxacc:\n",
    "                maxacc = np.mean(np.array(acc_val)) \n",
    "                torch.save(model, directory+'\\model_DenseNet121_1_n='+str(n_neurons)+'.pth')\n",
    "                \n",
    "    print('ЗАВЕРШИЛОСЬ ОБУЧЕНИЕ МОДЕЛИ С n_neurons =', n_neurons)    \n",
    "    \n",
    "    # Добавим в словари значения изменения метрик в процессе обучения для текущего значения гиперпараметра\n",
    "    loss_train_dict[n_neurons] = loss_train\n",
    "    acc_train_dict[n_neurons] = acc_train\n",
    "    acc_validation_dict[n_neurons] = acc_validation\n",
    "    loss_validation_dict[n_neurons] = loss_validation\n",
    "        \n",
    "print('Total time {:.1f} seconds'.format(time.time() - start_time))"
   ]
  },
  {
   "cell_type": "code",
   "execution_count": 56,
   "id": "de289cca",
   "metadata": {},
   "outputs": [
    {
     "data": {
      "image/png": "[encoded data removed]",
      "text/plain": [
       "<Figure size 800x320 with 1 Axes>"
      ]
     },
     "metadata": {
      "needs_background": "light"
     },
     "output_type": "display_data"
    },
    {
     "ename": "KeyError",
     "evalue": "100",
     "output_type": "error",
     "traceback": [
      "\u001b[1;31m---------------------------------------------------------------------------\u001b[0m",
      "\u001b[1;31mKeyError\u001b[0m                                  Traceback (most recent call last)",
      "\u001b[1;32mC:\\Users\\AACE~1\\AppData\\Local\\Temp/ipykernel_3872/3414613043.py\u001b[0m in \u001b[0;36m<module>\u001b[1;34m\u001b[0m\n\u001b[0;32m      1\u001b[0m \u001b[1;32mfor\u001b[0m \u001b[0mi\u001b[0m \u001b[1;32min\u001b[0m \u001b[0mn_neurons_list\u001b[0m\u001b[1;33m:\u001b[0m\u001b[1;33m\u001b[0m\u001b[1;33m\u001b[0m\u001b[0m\n\u001b[1;32m----> 2\u001b[1;33m     \u001b[0macc_validation\u001b[0m \u001b[1;33m=\u001b[0m \u001b[0macc_validation_dict\u001b[0m\u001b[1;33m[\u001b[0m\u001b[0mi\u001b[0m\u001b[1;33m]\u001b[0m\u001b[1;33m\u001b[0m\u001b[1;33m\u001b[0m\u001b[0m\n\u001b[0m\u001b[0;32m      3\u001b[0m     \u001b[0macc_train\u001b[0m \u001b[1;33m=\u001b[0m \u001b[0macc_train_dict\u001b[0m\u001b[1;33m[\u001b[0m\u001b[0mi\u001b[0m\u001b[1;33m]\u001b[0m\u001b[1;33m\u001b[0m\u001b[1;33m\u001b[0m\u001b[0m\n\u001b[0;32m      4\u001b[0m     \u001b[0mplt\u001b[0m\u001b[1;33m.\u001b[0m\u001b[0mfigure\u001b[0m\u001b[1;33m(\u001b[0m\u001b[0mfigsize\u001b[0m\u001b[1;33m=\u001b[0m\u001b[1;33m(\u001b[0m\u001b[1;36m10\u001b[0m\u001b[1;33m,\u001b[0m \u001b[1;36m4\u001b[0m\u001b[1;33m)\u001b[0m\u001b[1;33m,\u001b[0m \u001b[0mdpi\u001b[0m\u001b[1;33m=\u001b[0m\u001b[1;36m80\u001b[0m\u001b[1;33m)\u001b[0m\u001b[1;33m\u001b[0m\u001b[1;33m\u001b[0m\u001b[0m\n\u001b[0;32m      5\u001b[0m     \u001b[0mplt\u001b[0m\u001b[1;33m.\u001b[0m\u001b[0mtitle\u001b[0m\u001b[1;33m(\u001b[0m\u001b[1;34m'Accuracy changing during the training with n_neurons = '\u001b[0m \u001b[1;33m+\u001b[0m \u001b[0mstr\u001b[0m\u001b[1;33m(\u001b[0m\u001b[0mi\u001b[0m\u001b[1;33m)\u001b[0m\u001b[1;33m)\u001b[0m\u001b[1;33m\u001b[0m\u001b[1;33m\u001b[0m\u001b[0m\n",
      "\u001b[1;31mKeyError\u001b[0m: 100"
     ]
    }
   ],
   "source": [
    "for i in n_neurons_list:\n",
    "    acc_validation = acc_validation_dict[i]\n",
    "    acc_train = acc_train_dict[i]\n",
    "    plt.figure(figsize=(10, 4), dpi=80)\n",
    "    plt.title('Accuracy changing during the training with n_neurons = ' + str(i))  \n",
    "    plt.plot(list(range(1, n_epoch+1)), acc_validation, label='acc_validation')\n",
    "    plt.plot(list(range(1, n_epoch+1)), acc_train, label='acc_train')\n",
    "    plt.xlabel('epochs')\n",
    "    plt.ylabel('accuracy')\n",
    "    plt.legend(loc='best')  \n",
    "    plt.show()"
   ]
  },
  {
   "cell_type": "code",
   "execution_count": null,
   "id": "5b1465ed",
   "metadata": {},
   "outputs": [],
   "source": [
    "for i in n_neurons_list:\n",
    "    loss_validation = loss_validation_dict[i]\n",
    "    loss_train = loss_train_dict[i]\n",
    "    plt.figure(figsize=(10, 4), dpi=80)\n",
    "    plt.title('Cross Entropy Loss changing during the training with n_neurons = ' + str(i))  \n",
    "    plt.plot(list(range(1, n_epoch+1)), loss_validation, label='loss_validation')\n",
    "    plt.plot(list(range(1, n_epoch+1)), loss_train, label='loss_train')\n",
    "    plt.xlabel('epochs')\n",
    "    plt.ylabel('loss')\n",
    "    plt.legend(loc='best')  \n",
    "    plt.show()"
   ]
  },
  {
   "cell_type": "code",
   "execution_count": null,
   "id": "c7c5fe0a",
   "metadata": {},
   "outputs": [],
   "source": [
    "plt.figure(figsize=(10, 5), dpi=80)\n",
    "plt.title('Validation accuracy changing during the training')  \n",
    "plt.xlabel('epochs')\n",
    "plt.ylabel('accuracy score')\n",
    "\n",
    "for i in n_neurons_list:\n",
    "    acc_validation = acc_validation_dict[i]\n",
    "    plt.plot(list(range(1, n_epoch+1)), acc_validation, label='accuracy validation with n_neurons = ' + str(i))\n",
    "plt.legend(loc='best')  \n",
    "plt.show()"
   ]
  },
  {
   "cell_type": "code",
   "execution_count": 57,
   "id": "9aa58273",
   "metadata": {},
   "outputs": [
    {
     "ename": "KeyError",
     "evalue": "100",
     "output_type": "error",
     "traceback": [
      "\u001b[1;31m---------------------------------------------------------------------------\u001b[0m",
      "\u001b[1;31mKeyError\u001b[0m                                  Traceback (most recent call last)",
      "\u001b[1;32mC:\\Users\\AACE~1\\AppData\\Local\\Temp/ipykernel_3872/1967850712.py\u001b[0m in \u001b[0;36m<module>\u001b[1;34m\u001b[0m\n\u001b[0;32m      5\u001b[0m \u001b[1;33m\u001b[0m\u001b[0m\n\u001b[0;32m      6\u001b[0m \u001b[1;32mfor\u001b[0m \u001b[0mi\u001b[0m \u001b[1;32min\u001b[0m \u001b[0mn_neurons_list\u001b[0m\u001b[1;33m:\u001b[0m\u001b[1;33m\u001b[0m\u001b[1;33m\u001b[0m\u001b[0m\n\u001b[1;32m----> 7\u001b[1;33m     \u001b[0macc_val\u001b[0m \u001b[1;33m=\u001b[0m \u001b[0macc_train_dict\u001b[0m\u001b[1;33m[\u001b[0m\u001b[0mi\u001b[0m\u001b[1;33m]\u001b[0m\u001b[1;33m\u001b[0m\u001b[1;33m\u001b[0m\u001b[0m\n\u001b[0m\u001b[0;32m      8\u001b[0m     \u001b[0mplt\u001b[0m\u001b[1;33m.\u001b[0m\u001b[0mplot\u001b[0m\u001b[1;33m(\u001b[0m\u001b[0mlist\u001b[0m\u001b[1;33m(\u001b[0m\u001b[0mrange\u001b[0m\u001b[1;33m(\u001b[0m\u001b[1;36m1\u001b[0m\u001b[1;33m,\u001b[0m \u001b[0mn_epoch\u001b[0m\u001b[1;33m+\u001b[0m\u001b[1;36m1\u001b[0m\u001b[1;33m)\u001b[0m\u001b[1;33m)\u001b[0m\u001b[1;33m,\u001b[0m \u001b[0macc_train\u001b[0m\u001b[1;33m,\u001b[0m \u001b[0mlabel\u001b[0m\u001b[1;33m=\u001b[0m\u001b[1;34m'accuracy validation with n_neurons = '\u001b[0m \u001b[1;33m+\u001b[0m \u001b[0mstr\u001b[0m\u001b[1;33m(\u001b[0m\u001b[0mi\u001b[0m\u001b[1;33m)\u001b[0m\u001b[1;33m)\u001b[0m\u001b[1;33m\u001b[0m\u001b[1;33m\u001b[0m\u001b[0m\n\u001b[0;32m      9\u001b[0m \u001b[0mplt\u001b[0m\u001b[1;33m.\u001b[0m\u001b[0mlegend\u001b[0m\u001b[1;33m(\u001b[0m\u001b[0mloc\u001b[0m\u001b[1;33m=\u001b[0m\u001b[1;34m'best'\u001b[0m\u001b[1;33m)\u001b[0m\u001b[1;33m\u001b[0m\u001b[1;33m\u001b[0m\u001b[0m\n",
      "\u001b[1;31mKeyError\u001b[0m: 100"
     ]
    },
    {
     "data": {
      "image/png": "[encoded data removed]",
      "text/plain": [
       "<Figure size 800x400 with 1 Axes>"
      ]
     },
     "metadata": {
      "needs_background": "light"
     },
     "output_type": "display_data"
    }
   ],
   "source": [
    "plt.figure(figsize=(10, 5), dpi=80)\n",
    "plt.title('Training accuracy changing during the training')  \n",
    "plt.xlabel('epochs')\n",
    "plt.ylabel('accuracy score')\n",
    "\n",
    "for i in n_neurons_list:\n",
    "    acc_val = acc_train_dict[i]\n",
    "    plt.plot(list(range(1, n_epoch+1)), acc_train, label='accuracy validation with n_neurons = ' + str(i))\n",
    "plt.legend(loc='best')  \n",
    "plt.show()"
   ]
  },
  {
   "cell_type": "code",
   "execution_count": 58,
   "id": "4ad01815",
   "metadata": {},
   "outputs": [
    {
     "ename": "KeyError",
     "evalue": "100",
     "output_type": "error",
     "traceback": [
      "\u001b[1;31m---------------------------------------------------------------------------\u001b[0m",
      "\u001b[1;31mKeyError\u001b[0m                                  Traceback (most recent call last)",
      "\u001b[1;32mC:\\Users\\AACE~1\\AppData\\Local\\Temp/ipykernel_3872/272000565.py\u001b[0m in \u001b[0;36m<module>\u001b[1;34m\u001b[0m\n\u001b[0;32m      2\u001b[0m \u001b[0mcolumns\u001b[0m \u001b[1;33m=\u001b[0m \u001b[1;33m[\u001b[0m\u001b[1;34m'epoch'\u001b[0m\u001b[1;33m]\u001b[0m\u001b[1;33m\u001b[0m\u001b[1;33m\u001b[0m\u001b[0m\n\u001b[0;32m      3\u001b[0m \u001b[1;32mfor\u001b[0m \u001b[0mi\u001b[0m\u001b[1;33m,\u001b[0m \u001b[0mval\u001b[0m \u001b[1;32min\u001b[0m \u001b[0menumerate\u001b[0m\u001b[1;33m(\u001b[0m\u001b[0mn_neurons_list\u001b[0m\u001b[1;33m)\u001b[0m\u001b[1;33m:\u001b[0m\u001b[1;33m\u001b[0m\u001b[1;33m\u001b[0m\u001b[0m\n\u001b[1;32m----> 4\u001b[1;33m     \u001b[0mtable\u001b[0m\u001b[1;33m.\u001b[0m\u001b[0mappend\u001b[0m\u001b[1;33m(\u001b[0m\u001b[0macc_validation_dict\u001b[0m\u001b[1;33m[\u001b[0m\u001b[0mval\u001b[0m\u001b[1;33m]\u001b[0m\u001b[1;33m)\u001b[0m\u001b[1;33m\u001b[0m\u001b[1;33m\u001b[0m\u001b[0m\n\u001b[0m\u001b[0;32m      5\u001b[0m     \u001b[0mcolumns\u001b[0m\u001b[1;33m.\u001b[0m\u001b[0mappend\u001b[0m\u001b[1;33m(\u001b[0m\u001b[0mstr\u001b[0m\u001b[1;33m(\u001b[0m\u001b[0mval\u001b[0m\u001b[1;33m)\u001b[0m\u001b[1;33m+\u001b[0m\u001b[1;34m' neurons'\u001b[0m\u001b[1;33m)\u001b[0m\u001b[1;33m\u001b[0m\u001b[1;33m\u001b[0m\u001b[0m\n\u001b[0;32m      6\u001b[0m \u001b[0mtable\u001b[0m \u001b[1;33m=\u001b[0m \u001b[0mnp\u001b[0m\u001b[1;33m.\u001b[0m\u001b[0masarray\u001b[0m\u001b[1;33m(\u001b[0m\u001b[0mtable\u001b[0m\u001b[1;33m)\u001b[0m\u001b[1;33m.\u001b[0m\u001b[0mT\u001b[0m\u001b[1;33m\u001b[0m\u001b[1;33m\u001b[0m\u001b[0m\n",
      "\u001b[1;31mKeyError\u001b[0m: 100"
     ]
    }
   ],
   "source": [
    "table = [list(range(1,n_epoch+1))]\n",
    "columns = ['epoch']\n",
    "for i, val in enumerate(n_neurons_list):\n",
    "    table.append(acc_validation_dict[val])\n",
    "    columns.append(str(val)+' neurons')\n",
    "table = np.asarray(table).T\n",
    "print('Validation accuracy change:')\n",
    "pd.DataFrame(table, columns=columns)"
   ]
  },
  {
   "cell_type": "code",
   "execution_count": 59,
   "id": "85019623",
   "metadata": {},
   "outputs": [],
   "source": [
    "acc_validation_dict_1 = acc_validation_dict\n",
    "acc_train_dict_1 = acc_train_dict"
   ]
  },
  {
   "cell_type": "markdown",
   "id": "d4b9dd09",
   "metadata": {},
   "source": [
    "Самый высокий показатель accuracy на валидации показал гиперпараметр * на * эпохе обучения. Так что загрузим именно эту модель:"
   ]
  },
  {
   "cell_type": "code",
   "execution_count": 27,
   "id": "a918ea99",
   "metadata": {},
   "outputs": [
    {
     "data": {
      "text/plain": [
       "<All keys matched successfully>"
      ]
     },
     "execution_count": 27,
     "metadata": {},
     "output_type": "execute_result"
    }
   ],
   "source": [
    "!!!Испрвь номер !!! wghts = torch.load(directory + '\\model_ResNet18_1_n='+str(100)+'.pth')\n",
    "model.load_state_dict(wghts.state_dict())"
   ]
  },
  {
   "cell_type": "markdown",
   "id": "5e195e5d",
   "metadata": {},
   "source": [
    "Оценим качество этой модели на test:"
   ]
  },
  {
   "cell_type": "code",
   "execution_count": 28,
   "id": "c4219178",
   "metadata": {},
   "outputs": [
    {
     "name": "stdout",
     "output_type": "stream",
     "text": [
      "Точность модели на test: 48.75 %\n"
     ]
    }
   ],
   "source": [
    "model.eval()\n",
    "y_true_list = []\n",
    "y_pred_list = []\n",
    "correct = 0\n",
    "total = 0\n",
    "with torch.no_grad():\n",
    "    for batch in test_dataloader:\n",
    "        image_batch, label_batch = batch\n",
    "        image_batch, label_batch = image_batch.to(device), label_batch.to(device)\n",
    "        label_batch = torch.flatten(label_batch).type(torch.LongTensor)\n",
    "        outputs = model(image_batch)\n",
    "        predicted = torch.argmax(outputs, dim=1)\n",
    "        \n",
    "        y_true_list.append(label_batch.numpy())\n",
    "        y_pred_list.append(predicted.numpy())\n",
    "        \n",
    "        total += labels.size(0)\n",
    "        correct += (predicted == label_batch).sum().item()\n",
    "\n",
    "\n",
    "print(f\"Точность модели на test: {100 * correct / total:.2f} %\")"
   ]
  },
  {
   "cell_type": "code",
   "execution_count": 29,
   "id": "b9d14982",
   "metadata": {},
   "outputs": [
    {
     "name": "stdout",
     "output_type": "stream",
     "text": [
      "              precision    recall  f1-score   support\n",
      "\n",
      "           0       0.38      0.45      0.41       129\n",
      "           1       0.58      0.51      0.54       191\n",
      "\n",
      "    accuracy                           0.49       320\n",
      "   macro avg       0.48      0.48      0.48       320\n",
      "weighted avg       0.50      0.49      0.49       320\n",
      "\n"
     ]
    }
   ],
   "source": [
    "y_pred_list = np.asarray(y_pred_list).flatten()\n",
    "y_true_list = np.asarray(y_true_list).flatten()\n",
    "print(classification_report(y_true_list, y_pred_list))"
   ]
  },
  {
   "cell_type": "code",
   "execution_count": 35,
   "id": "0df7b3bb",
   "metadata": {},
   "outputs": [
    {
     "data": {
      "image/png": "[encoded data removed]",
      "text/plain": [
       "<Figure size 576x432 with 2 Axes>"
      ]
     },
     "metadata": {
      "needs_background": "light"
     },
     "output_type": "display_data"
    }
   ],
   "source": [
    "cm =  confusion_matrix(y_true_list, y_pred_list)\n",
    "\n",
    "plot_confusion_matrix(cm = cm, \n",
    "                      normalize    = False,\n",
    "                      target_names = ['normal','pneumonia'],\n",
    "                      title        = \"Confusion Matrix\")"
   ]
  },
  {
   "cell_type": "code",
   "execution_count": null,
   "id": "fc417b56",
   "metadata": {},
   "outputs": [],
   "source": [
    "image_batch, label_batch = next(iter(test_dataloader))\n",
    "image_batch, label_batch = image_batch.to(device), label_batch.to(device)\n",
    "\n",
    "plt.figure(figsize=(15, 9), dpi=80)\n",
    "imshow(torchvision.utils.make_grid(image_batch, nrow=10))\n",
    "print('GroundTruth: ', ' '.join('%5s' % classes[int(label_batch[j])] for j in range(batch_size)))\n",
    "outputs = model(image_batch)\n",
    "predicted = torch.argmax(outputs, dim=1)\n",
    "\n",
    "print('Прогноз: ',\" \".join(classes[predicted[j]]for j in range(batch_size)))"
   ]
  },
  {
   "cell_type": "markdown",
   "id": "ef239913",
   "metadata": {},
   "source": [
    "---"
   ]
  },
  {
   "cell_type": "code",
   "execution_count": null,
   "id": "b5fb0b88",
   "metadata": {},
   "outputs": [],
   "source": []
  },
  {
   "cell_type": "code",
   "execution_count": null,
   "id": "6cab7ee1",
   "metadata": {},
   "outputs": [],
   "source": []
  },
  {
   "cell_type": "code",
   "execution_count": null,
   "id": "a2ea2e4f",
   "metadata": {},
   "outputs": [],
   "source": []
  },
  {
   "cell_type": "code",
   "execution_count": null,
   "id": "9a41fedb",
   "metadata": {},
   "outputs": [],
   "source": []
  },
  {
   "cell_type": "code",
   "execution_count": null,
   "id": "dab1c54d",
   "metadata": {},
   "outputs": [],
   "source": []
  },
  {
   "cell_type": "code",
   "execution_count": null,
   "id": "9a84701d",
   "metadata": {},
   "outputs": [],
   "source": []
  },
  {
   "cell_type": "code",
   "execution_count": null,
   "id": "20ac1e9a",
   "metadata": {},
   "outputs": [],
   "source": []
  },
  {
   "cell_type": "code",
   "execution_count": null,
   "id": "9b7f4499",
   "metadata": {},
   "outputs": [],
   "source": []
  },
  {
   "cell_type": "code",
   "execution_count": null,
   "id": "7ec286e1",
   "metadata": {},
   "outputs": [],
   "source": []
  },
  {
   "cell_type": "code",
   "execution_count": null,
   "id": "98475b72",
   "metadata": {},
   "outputs": [],
   "source": []
  },
  {
   "cell_type": "code",
   "execution_count": null,
   "id": "1320e106",
   "metadata": {},
   "outputs": [],
   "source": []
  },
  {
   "cell_type": "markdown",
   "id": "676099e6",
   "metadata": {},
   "source": [
    "## №2"
   ]
  },
  {
   "cell_type": "code",
   "execution_count": 37,
   "id": "d1de709e",
   "metadata": {},
   "outputs": [
    {
     "name": "stdout",
     "output_type": "stream",
     "text": [
      "features.norm0.weight\n",
      "features.norm0.bias\n",
      "features.denseblock1.denselayer1.norm1.weight\n",
      "features.denseblock1.denselayer1.norm1.bias\n",
      "features.denseblock1.denselayer1.conv1.weight\n",
      "features.denseblock1.denselayer1.norm2.weight\n",
      "features.denseblock1.denselayer1.norm2.bias\n",
      "features.denseblock1.denselayer1.conv2.weight\n",
      "features.denseblock1.denselayer2.norm1.weight\n",
      "features.denseblock1.denselayer2.norm1.bias\n",
      "features.denseblock1.denselayer2.conv1.weight\n",
      "features.denseblock1.denselayer2.norm2.weight\n",
      "features.denseblock1.denselayer2.norm2.bias\n",
      "features.denseblock1.denselayer2.conv2.weight\n",
      "features.denseblock1.denselayer3.norm1.weight\n",
      "features.denseblock1.denselayer3.norm1.bias\n",
      "features.denseblock1.denselayer3.conv1.weight\n",
      "features.denseblock1.denselayer3.norm2.weight\n",
      "features.denseblock1.denselayer3.norm2.bias\n",
      "features.denseblock1.denselayer3.conv2.weight\n",
      "features.denseblock1.denselayer4.norm1.weight\n",
      "features.denseblock1.denselayer4.norm1.bias\n",
      "features.denseblock1.denselayer4.conv1.weight\n",
      "features.denseblock1.denselayer4.norm2.weight\n",
      "features.denseblock1.denselayer4.norm2.bias\n",
      "features.denseblock1.denselayer4.conv2.weight\n",
      "features.denseblock1.denselayer5.norm1.weight\n",
      "features.denseblock1.denselayer5.norm1.bias\n",
      "features.denseblock1.denselayer5.conv1.weight\n",
      "features.denseblock1.denselayer5.norm2.weight\n",
      "features.denseblock1.denselayer5.norm2.bias\n",
      "features.denseblock1.denselayer5.conv2.weight\n",
      "features.denseblock1.denselayer6.norm1.weight\n",
      "features.denseblock1.denselayer6.norm1.bias\n",
      "features.denseblock1.denselayer6.conv1.weight\n",
      "features.denseblock1.denselayer6.norm2.weight\n",
      "features.denseblock1.denselayer6.norm2.bias\n",
      "features.denseblock1.denselayer6.conv2.weight\n",
      "features.transition1.norm.weight\n",
      "features.transition1.norm.bias\n",
      "features.transition1.conv.weight\n",
      "features.denseblock2.denselayer1.norm1.weight\n",
      "features.denseblock2.denselayer1.norm1.bias\n",
      "features.denseblock2.denselayer1.conv1.weight\n",
      "features.denseblock2.denselayer1.norm2.weight\n",
      "features.denseblock2.denselayer1.norm2.bias\n",
      "features.denseblock2.denselayer1.conv2.weight\n",
      "features.denseblock2.denselayer2.norm1.weight\n",
      "features.denseblock2.denselayer2.norm1.bias\n",
      "features.denseblock2.denselayer2.conv1.weight\n",
      "features.denseblock2.denselayer2.norm2.weight\n",
      "features.denseblock2.denselayer2.norm2.bias\n",
      "features.denseblock2.denselayer2.conv2.weight\n",
      "features.denseblock2.denselayer3.norm1.weight\n",
      "features.denseblock2.denselayer3.norm1.bias\n",
      "features.denseblock2.denselayer3.conv1.weight\n",
      "features.denseblock2.denselayer3.norm2.weight\n",
      "features.denseblock2.denselayer3.norm2.bias\n",
      "features.denseblock2.denselayer3.conv2.weight\n",
      "features.denseblock2.denselayer4.norm1.weight\n",
      "features.denseblock2.denselayer4.norm1.bias\n",
      "features.denseblock2.denselayer4.conv1.weight\n",
      "features.denseblock2.denselayer4.norm2.weight\n",
      "features.denseblock2.denselayer4.norm2.bias\n",
      "features.denseblock2.denselayer4.conv2.weight\n",
      "features.denseblock2.denselayer5.norm1.weight\n",
      "features.denseblock2.denselayer5.norm1.bias\n",
      "features.denseblock2.denselayer5.conv1.weight\n",
      "features.denseblock2.denselayer5.norm2.weight\n",
      "features.denseblock2.denselayer5.norm2.bias\n",
      "features.denseblock2.denselayer5.conv2.weight\n",
      "features.denseblock2.denselayer6.norm1.weight\n",
      "features.denseblock2.denselayer6.norm1.bias\n",
      "features.denseblock2.denselayer6.conv1.weight\n",
      "features.denseblock2.denselayer6.norm2.weight\n",
      "features.denseblock2.denselayer6.norm2.bias\n",
      "features.denseblock2.denselayer6.conv2.weight\n",
      "features.denseblock2.denselayer7.norm1.weight\n",
      "features.denseblock2.denselayer7.norm1.bias\n",
      "features.denseblock2.denselayer7.conv1.weight\n",
      "features.denseblock2.denselayer7.norm2.weight\n",
      "features.denseblock2.denselayer7.norm2.bias\n",
      "features.denseblock2.denselayer7.conv2.weight\n",
      "features.denseblock2.denselayer8.norm1.weight\n",
      "features.denseblock2.denselayer8.norm1.bias\n",
      "features.denseblock2.denselayer8.conv1.weight\n",
      "features.denseblock2.denselayer8.norm2.weight\n",
      "features.denseblock2.denselayer8.norm2.bias\n",
      "features.denseblock2.denselayer8.conv2.weight\n",
      "features.denseblock2.denselayer9.norm1.weight\n",
      "features.denseblock2.denselayer9.norm1.bias\n",
      "features.denseblock2.denselayer9.conv1.weight\n",
      "features.denseblock2.denselayer9.norm2.weight\n",
      "features.denseblock2.denselayer9.norm2.bias\n",
      "features.denseblock2.denselayer9.conv2.weight\n",
      "features.denseblock2.denselayer10.norm1.weight\n",
      "features.denseblock2.denselayer10.norm1.bias\n",
      "features.denseblock2.denselayer10.conv1.weight\n",
      "features.denseblock2.denselayer10.norm2.weight\n",
      "features.denseblock2.denselayer10.norm2.bias\n",
      "features.denseblock2.denselayer10.conv2.weight\n",
      "features.denseblock2.denselayer11.norm1.weight\n",
      "features.denseblock2.denselayer11.norm1.bias\n",
      "features.denseblock2.denselayer11.conv1.weight\n",
      "features.denseblock2.denselayer11.norm2.weight\n",
      "features.denseblock2.denselayer11.norm2.bias\n",
      "features.denseblock2.denselayer11.conv2.weight\n",
      "features.denseblock2.denselayer12.norm1.weight\n",
      "features.denseblock2.denselayer12.norm1.bias\n",
      "features.denseblock2.denselayer12.conv1.weight\n",
      "features.denseblock2.denselayer12.norm2.weight\n",
      "features.denseblock2.denselayer12.norm2.bias\n",
      "features.denseblock2.denselayer12.conv2.weight\n",
      "features.transition2.norm.weight\n",
      "features.transition2.norm.bias\n",
      "features.transition2.conv.weight\n",
      "features.denseblock3.denselayer1.norm1.weight\n",
      "features.denseblock3.denselayer1.norm1.bias\n",
      "features.denseblock3.denselayer1.conv1.weight\n",
      "features.denseblock3.denselayer1.norm2.weight\n",
      "features.denseblock3.denselayer1.norm2.bias\n",
      "features.denseblock3.denselayer1.conv2.weight\n",
      "features.denseblock3.denselayer2.norm1.weight\n",
      "features.denseblock3.denselayer2.norm1.bias\n",
      "features.denseblock3.denselayer2.conv1.weight\n",
      "features.denseblock3.denselayer2.norm2.weight\n",
      "features.denseblock3.denselayer2.norm2.bias\n",
      "features.denseblock3.denselayer2.conv2.weight\n",
      "features.denseblock3.denselayer3.norm1.weight\n",
      "features.denseblock3.denselayer3.norm1.bias\n",
      "features.denseblock3.denselayer3.conv1.weight\n",
      "features.denseblock3.denselayer3.norm2.weight\n",
      "features.denseblock3.denselayer3.norm2.bias\n",
      "features.denseblock3.denselayer3.conv2.weight\n",
      "features.denseblock3.denselayer4.norm1.weight\n",
      "features.denseblock3.denselayer4.norm1.bias\n",
      "features.denseblock3.denselayer4.conv1.weight\n",
      "features.denseblock3.denselayer4.norm2.weight\n",
      "features.denseblock3.denselayer4.norm2.bias\n",
      "features.denseblock3.denselayer4.conv2.weight\n",
      "features.denseblock3.denselayer5.norm1.weight\n",
      "features.denseblock3.denselayer5.norm1.bias\n",
      "features.denseblock3.denselayer5.conv1.weight\n",
      "features.denseblock3.denselayer5.norm2.weight\n",
      "features.denseblock3.denselayer5.norm2.bias\n",
      "features.denseblock3.denselayer5.conv2.weight\n",
      "features.denseblock3.denselayer6.norm1.weight\n",
      "features.denseblock3.denselayer6.norm1.bias\n",
      "features.denseblock3.denselayer6.conv1.weight\n",
      "features.denseblock3.denselayer6.norm2.weight\n",
      "features.denseblock3.denselayer6.norm2.bias\n",
      "features.denseblock3.denselayer6.conv2.weight\n",
      "features.denseblock3.denselayer7.norm1.weight\n",
      "features.denseblock3.denselayer7.norm1.bias\n",
      "features.denseblock3.denselayer7.conv1.weight\n",
      "features.denseblock3.denselayer7.norm2.weight\n",
      "features.denseblock3.denselayer7.norm2.bias\n",
      "features.denseblock3.denselayer7.conv2.weight\n",
      "features.denseblock3.denselayer8.norm1.weight\n",
      "features.denseblock3.denselayer8.norm1.bias\n",
      "features.denseblock3.denselayer8.conv1.weight\n",
      "features.denseblock3.denselayer8.norm2.weight\n",
      "features.denseblock3.denselayer8.norm2.bias\n",
      "features.denseblock3.denselayer8.conv2.weight\n",
      "features.denseblock3.denselayer9.norm1.weight\n",
      "features.denseblock3.denselayer9.norm1.bias\n",
      "features.denseblock3.denselayer9.conv1.weight\n",
      "features.denseblock3.denselayer9.norm2.weight\n",
      "features.denseblock3.denselayer9.norm2.bias\n",
      "features.denseblock3.denselayer9.conv2.weight\n",
      "features.denseblock3.denselayer10.norm1.weight\n",
      "features.denseblock3.denselayer10.norm1.bias\n",
      "features.denseblock3.denselayer10.conv1.weight\n",
      "features.denseblock3.denselayer10.norm2.weight\n",
      "features.denseblock3.denselayer10.norm2.bias\n",
      "features.denseblock3.denselayer10.conv2.weight\n",
      "features.denseblock3.denselayer11.norm1.weight\n",
      "features.denseblock3.denselayer11.norm1.bias\n",
      "features.denseblock3.denselayer11.conv1.weight\n",
      "features.denseblock3.denselayer11.norm2.weight\n",
      "features.denseblock3.denselayer11.norm2.bias\n",
      "features.denseblock3.denselayer11.conv2.weight\n",
      "features.denseblock3.denselayer12.norm1.weight\n",
      "features.denseblock3.denselayer12.norm1.bias\n",
      "features.denseblock3.denselayer12.conv1.weight\n",
      "features.denseblock3.denselayer12.norm2.weight\n",
      "features.denseblock3.denselayer12.norm2.bias\n",
      "features.denseblock3.denselayer12.conv2.weight\n",
      "features.denseblock3.denselayer13.norm1.weight\n",
      "features.denseblock3.denselayer13.norm1.bias\n",
      "features.denseblock3.denselayer13.conv1.weight\n",
      "features.denseblock3.denselayer13.norm2.weight\n",
      "features.denseblock3.denselayer13.norm2.bias\n",
      "features.denseblock3.denselayer13.conv2.weight\n",
      "features.denseblock3.denselayer14.norm1.weight\n",
      "features.denseblock3.denselayer14.norm1.bias\n",
      "features.denseblock3.denselayer14.conv1.weight\n",
      "features.denseblock3.denselayer14.norm2.weight\n",
      "features.denseblock3.denselayer14.norm2.bias\n",
      "features.denseblock3.denselayer14.conv2.weight\n",
      "features.denseblock3.denselayer15.norm1.weight\n",
      "features.denseblock3.denselayer15.norm1.bias\n",
      "features.denseblock3.denselayer15.conv1.weight\n",
      "features.denseblock3.denselayer15.norm2.weight\n",
      "features.denseblock3.denselayer15.norm2.bias\n",
      "features.denseblock3.denselayer15.conv2.weight\n",
      "features.denseblock3.denselayer16.norm1.weight\n",
      "features.denseblock3.denselayer16.norm1.bias\n",
      "features.denseblock3.denselayer16.conv1.weight\n",
      "features.denseblock3.denselayer16.norm2.weight\n",
      "features.denseblock3.denselayer16.norm2.bias\n",
      "features.denseblock3.denselayer16.conv2.weight\n",
      "features.denseblock3.denselayer17.norm1.weight\n",
      "features.denseblock3.denselayer17.norm1.bias\n",
      "features.denseblock3.denselayer17.conv1.weight\n",
      "features.denseblock3.denselayer17.norm2.weight\n",
      "features.denseblock3.denselayer17.norm2.bias\n",
      "features.denseblock3.denselayer17.conv2.weight\n",
      "features.denseblock3.denselayer18.norm1.weight\n",
      "features.denseblock3.denselayer18.norm1.bias\n",
      "features.denseblock3.denselayer18.conv1.weight\n",
      "features.denseblock3.denselayer18.norm2.weight\n",
      "features.denseblock3.denselayer18.norm2.bias\n",
      "features.denseblock3.denselayer18.conv2.weight\n",
      "features.denseblock3.denselayer19.norm1.weight\n",
      "features.denseblock3.denselayer19.norm1.bias\n",
      "features.denseblock3.denselayer19.conv1.weight\n",
      "features.denseblock3.denselayer19.norm2.weight\n",
      "features.denseblock3.denselayer19.norm2.bias\n",
      "features.denseblock3.denselayer19.conv2.weight\n",
      "features.denseblock3.denselayer20.norm1.weight\n",
      "features.denseblock3.denselayer20.norm1.bias\n",
      "features.denseblock3.denselayer20.conv1.weight\n",
      "features.denseblock3.denselayer20.norm2.weight\n",
      "features.denseblock3.denselayer20.norm2.bias\n",
      "features.denseblock3.denselayer20.conv2.weight\n",
      "features.denseblock3.denselayer21.norm1.weight\n",
      "features.denseblock3.denselayer21.norm1.bias\n",
      "features.denseblock3.denselayer21.conv1.weight\n",
      "features.denseblock3.denselayer21.norm2.weight\n",
      "features.denseblock3.denselayer21.norm2.bias\n",
      "features.denseblock3.denselayer21.conv2.weight\n",
      "features.denseblock3.denselayer22.norm1.weight\n",
      "features.denseblock3.denselayer22.norm1.bias\n",
      "features.denseblock3.denselayer22.conv1.weight\n",
      "features.denseblock3.denselayer22.norm2.weight\n",
      "features.denseblock3.denselayer22.norm2.bias\n",
      "features.denseblock3.denselayer22.conv2.weight\n",
      "features.denseblock3.denselayer23.norm1.weight\n",
      "features.denseblock3.denselayer23.norm1.bias\n",
      "features.denseblock3.denselayer23.conv1.weight\n",
      "features.denseblock3.denselayer23.norm2.weight\n",
      "features.denseblock3.denselayer23.norm2.bias\n",
      "features.denseblock3.denselayer23.conv2.weight\n",
      "features.denseblock3.denselayer24.norm1.weight\n",
      "features.denseblock3.denselayer24.norm1.bias\n",
      "features.denseblock3.denselayer24.conv1.weight\n",
      "features.denseblock3.denselayer24.norm2.weight\n",
      "features.denseblock3.denselayer24.norm2.bias\n",
      "features.denseblock3.denselayer24.conv2.weight\n",
      "features.transition3.norm.weight\n",
      "features.transition3.norm.bias\n",
      "features.transition3.conv.weight\n",
      "features.denseblock4.denselayer1.norm1.weight\n",
      "features.denseblock4.denselayer1.norm1.bias\n",
      "features.denseblock4.denselayer1.conv1.weight\n",
      "features.denseblock4.denselayer1.norm2.weight\n",
      "features.denseblock4.denselayer1.norm2.bias\n",
      "features.denseblock4.denselayer1.conv2.weight\n",
      "features.denseblock4.denselayer2.norm1.weight\n",
      "features.denseblock4.denselayer2.norm1.bias\n",
      "features.denseblock4.denselayer2.conv1.weight\n",
      "features.denseblock4.denselayer2.norm2.weight\n",
      "features.denseblock4.denselayer2.norm2.bias\n",
      "features.denseblock4.denselayer2.conv2.weight\n",
      "features.denseblock4.denselayer3.norm1.weight\n",
      "features.denseblock4.denselayer3.norm1.bias\n",
      "features.denseblock4.denselayer3.conv1.weight\n",
      "features.denseblock4.denselayer3.norm2.weight\n",
      "features.denseblock4.denselayer3.norm2.bias\n",
      "features.denseblock4.denselayer3.conv2.weight\n",
      "features.denseblock4.denselayer4.norm1.weight\n",
      "features.denseblock4.denselayer4.norm1.bias\n",
      "features.denseblock4.denselayer4.conv1.weight\n",
      "features.denseblock4.denselayer4.norm2.weight\n",
      "features.denseblock4.denselayer4.norm2.bias\n",
      "features.denseblock4.denselayer4.conv2.weight\n",
      "features.denseblock4.denselayer5.norm1.weight\n",
      "features.denseblock4.denselayer5.norm1.bias\n",
      "features.denseblock4.denselayer5.conv1.weight\n",
      "features.denseblock4.denselayer5.norm2.weight\n",
      "features.denseblock4.denselayer5.norm2.bias\n",
      "features.denseblock4.denselayer5.conv2.weight\n",
      "features.denseblock4.denselayer6.norm1.weight\n",
      "features.denseblock4.denselayer6.norm1.bias\n",
      "features.denseblock4.denselayer6.conv1.weight\n",
      "features.denseblock4.denselayer6.norm2.weight\n",
      "features.denseblock4.denselayer6.norm2.bias\n",
      "features.denseblock4.denselayer6.conv2.weight\n",
      "features.denseblock4.denselayer7.norm1.weight\n",
      "features.denseblock4.denselayer7.norm1.bias\n",
      "features.denseblock4.denselayer7.conv1.weight\n",
      "features.denseblock4.denselayer7.norm2.weight\n",
      "features.denseblock4.denselayer7.norm2.bias\n",
      "features.denseblock4.denselayer7.conv2.weight\n",
      "features.denseblock4.denselayer8.norm1.weight\n",
      "features.denseblock4.denselayer8.norm1.bias\n",
      "features.denseblock4.denselayer8.conv1.weight\n",
      "features.denseblock4.denselayer8.norm2.weight\n",
      "features.denseblock4.denselayer8.norm2.bias\n",
      "features.denseblock4.denselayer8.conv2.weight\n",
      "features.denseblock4.denselayer9.norm1.weight\n",
      "features.denseblock4.denselayer9.norm1.bias\n",
      "features.denseblock4.denselayer9.conv1.weight\n",
      "features.denseblock4.denselayer9.norm2.weight\n",
      "features.denseblock4.denselayer9.norm2.bias\n",
      "features.denseblock4.denselayer9.conv2.weight\n",
      "features.denseblock4.denselayer10.norm1.weight\n",
      "features.denseblock4.denselayer10.norm1.bias\n",
      "features.denseblock4.denselayer10.conv1.weight\n",
      "features.denseblock4.denselayer10.norm2.weight\n",
      "features.denseblock4.denselayer10.norm2.bias\n",
      "features.denseblock4.denselayer10.conv2.weight\n",
      "features.denseblock4.denselayer11.norm1.weight\n",
      "features.denseblock4.denselayer11.norm1.bias\n",
      "features.denseblock4.denselayer11.conv1.weight\n",
      "features.denseblock4.denselayer11.norm2.weight\n",
      "features.denseblock4.denselayer11.norm2.bias\n",
      "features.denseblock4.denselayer11.conv2.weight\n",
      "features.denseblock4.denselayer12.norm1.weight\n",
      "features.denseblock4.denselayer12.norm1.bias\n",
      "features.denseblock4.denselayer12.conv1.weight\n",
      "features.denseblock4.denselayer12.norm2.weight\n",
      "features.denseblock4.denselayer12.norm2.bias\n",
      "features.denseblock4.denselayer12.conv2.weight\n",
      "features.denseblock4.denselayer13.norm1.weight\n",
      "features.denseblock4.denselayer13.norm1.bias\n",
      "features.denseblock4.denselayer13.conv1.weight\n",
      "features.denseblock4.denselayer13.norm2.weight\n",
      "features.denseblock4.denselayer13.norm2.bias\n",
      "features.denseblock4.denselayer13.conv2.weight\n",
      "features.denseblock4.denselayer14.norm1.weight\n",
      "features.denseblock4.denselayer14.norm1.bias\n",
      "features.denseblock4.denselayer14.conv1.weight\n",
      "features.denseblock4.denselayer14.norm2.weight\n",
      "features.denseblock4.denselayer14.norm2.bias\n",
      "features.denseblock4.denselayer14.conv2.weight\n",
      "features.denseblock4.denselayer15.norm1.weight\n",
      "features.denseblock4.denselayer15.norm1.bias\n",
      "features.denseblock4.denselayer15.conv1.weight\n",
      "features.denseblock4.denselayer15.norm2.weight\n",
      "features.denseblock4.denselayer15.norm2.bias\n",
      "features.denseblock4.denselayer15.conv2.weight\n",
      "features.denseblock4.denselayer16.norm1.weight\n",
      "features.denseblock4.denselayer16.norm1.bias\n",
      "features.denseblock4.denselayer16.conv1.weight\n",
      "features.denseblock4.denselayer16.norm2.weight\n",
      "features.denseblock4.denselayer16.norm2.bias\n",
      "features.denseblock4.denselayer16.conv2.weight\n",
      "features.norm5.weight\n",
      "features.norm5.bias\n"
     ]
    }
   ],
   "source": [
    "    model.features.conv0 =  nn.Conv2d(1, 64, kernel_size=(7, 7), stride=(2, 2), padding=(3, 3), bias=False)    \n",
    "    for name, param in model.named_parameters():\n",
    "        if not (('conv0' in name) or ('classifier' in name)):\n",
    "            param.requires_grad = False\n",
    "            print(name)"
   ]
  },
  {
   "cell_type": "markdown",
   "id": "77e1079d",
   "metadata": {},
   "source": [
    "__Зафиксируем все сверточные слои кроме первого входного, в котором установим число входных каналов равным 1 вместо 3 + обучим полносвязные слои.__<br>\n",
    "При этом я поменяю архитектуру полносвязного слоя classifier. Я сделаю один скрытый слой с числом нейронов, которое будет в качестве подбираемого гиперпараметра. Лучший гиперпараметр определим по результатам accuracy на валидационной выборке. <br>Так как я поменяю чило каналов на входе сети, поэтому могу обучать на чб снимках, размером (1, 224, 224).\n"
   ]
  },
  {
   "cell_type": "code",
   "execution_count": 36,
   "id": "e93297e5",
   "metadata": {},
   "outputs": [],
   "source": [
    "data = datasets_bilder.preprocessing_func(easy=True)\n",
    "dataset_test = data.test\n",
    "dataset_train = data.train\n",
    "dataset_val = data.val\n",
    "mean_nums = data.mean_nums\n",
    "std_nums = data.std_nums\n",
    "batch_size = 10 \n",
    "train_dataloader = DataLoader(dataset=dataset_train, batch_size=batch_size, shuffle=True, num_workers=0)\n",
    "test_dataloader = DataLoader(dataset=dataset_test, batch_size=batch_size, shuffle=True, num_workers=0)\n",
    "val_dataloader = DataLoader(dataset=dataset_val, batch_size=batch_size, shuffle=True, num_workers=0)"
   ]
  },
  {
   "cell_type": "code",
   "execution_count": 37,
   "id": "22de422a",
   "metadata": {},
   "outputs": [],
   "source": [
    "directory = os.getcwd() + '\\models'\n",
    "device = torch.device(\"cuda\") if torch.cuda.is_available() else torch.device(\"cpu\")\n",
    "\n",
    "def accuracy(output,labels):\n",
    "    predictions = torch.argmax(output,dim=1)\n",
    "    correct = (predictions == labels).sum().cpu().numpy()\n",
    "    return correct / len(labels)"
   ]
  },
  {
   "cell_type": "code",
   "execution_count": 38,
   "id": "d03acc41",
   "metadata": {},
   "outputs": [
    {
     "name": "stdout",
     "output_type": "stream",
     "text": [
      "НАЧИНАЕТСЯ ОБУЧЕНИЕ МОДЕЛИ С n_neurons = 10 :\n"
     ]
    },
    {
     "name": "stderr",
     "output_type": "stream",
     "text": [
      "100%|██████████████████████████████████████████████████████████████████████████████████████████████| 269/269 [03:11<00:00,  1.40it/s]\n"
     ]
    },
    {
     "name": "stdout",
     "output_type": "stream",
     "text": [
      "[epoch 1] loss: 0.737, acc: 0.473\n",
      "Validation accuracy - 0.35625\n"
     ]
    },
    {
     "name": "stderr",
     "output_type": "stream",
     "text": [
      "100%|██████████████████████████████████████████████████████████████████████████████████████████████| 269/269 [03:14<00:00,  1.39it/s]\n"
     ]
    },
    {
     "name": "stdout",
     "output_type": "stream",
     "text": [
      "[epoch 2] loss: 0.745, acc: 0.45\n",
      "Validation accuracy - 0.3375\n",
      "ЗАВЕРШИЛОСЬ ОБУЧЕНИЕ МОДЕЛИ С n_neurons = 10\n",
      "НАЧИНАЕТСЯ ОБУЧЕНИЕ МОДЕЛИ С n_neurons = 100 :\n"
     ]
    },
    {
     "name": "stderr",
     "output_type": "stream",
     "text": [
      "100%|██████████████████████████████████████████████████████████████████████████████████████████████| 269/269 [03:15<00:00,  1.38it/s]\n"
     ]
    },
    {
     "name": "stdout",
     "output_type": "stream",
     "text": [
      "[epoch 1] loss: 0.709, acc: 0.496\n",
      "Validation accuracy - 0.49375\n"
     ]
    },
    {
     "name": "stderr",
     "output_type": "stream",
     "text": [
      "100%|██████████████████████████████████████████████████████████████████████████████████████████████| 269/269 [03:14<00:00,  1.38it/s]\n"
     ]
    },
    {
     "name": "stdout",
     "output_type": "stream",
     "text": [
      "[epoch 2] loss: 0.708, acc: 0.497\n",
      "Validation accuracy - 0.49375\n",
      "ЗАВЕРШИЛОСЬ ОБУЧЕНИЕ МОДЕЛИ С n_neurons = 100\n",
      "НАЧИНАЕТСЯ ОБУЧЕНИЕ МОДЕЛИ С n_neurons = 500 :\n"
     ]
    },
    {
     "name": "stderr",
     "output_type": "stream",
     "text": [
      "100%|██████████████████████████████████████████████████████████████████████████████████████████████| 269/269 [03:17<00:00,  1.36it/s]\n"
     ]
    },
    {
     "name": "stdout",
     "output_type": "stream",
     "text": [
      "[epoch 1] loss: 0.763, acc: 0.468\n",
      "Validation accuracy - 0.6\n"
     ]
    },
    {
     "name": "stderr",
     "output_type": "stream",
     "text": [
      "100%|██████████████████████████████████████████████████████████████████████████████████████████████| 269/269 [03:14<00:00,  1.38it/s]\n"
     ]
    },
    {
     "name": "stdout",
     "output_type": "stream",
     "text": [
      "[epoch 2] loss: 0.76, acc: 0.471\n",
      "Validation accuracy - 0.596875\n",
      "ЗАВЕРШИЛОСЬ ОБУЧЕНИЕ МОДЕЛИ С n_neurons = 500\n",
      "Total time 1230.8 seconds\n"
     ]
    }
   ],
   "source": [
    "loss_train_dict = {}\n",
    "acc_train_dict = {}\n",
    "acc_validation_dict = {}\n",
    "loss_validation_dict = {}\n",
    "\n",
    "n_epoch = 10 #Зададим число эпох обучения\n",
    "start_time = time.time()\n",
    "for n_neurons in neurons_list:\n",
    "    \n",
    "    model_2 = torch.hub.load('pytorch/vision:v0.10.0', 'densenet121', pretrained=True).to(device)\n",
    "    \n",
    "    # Переопредлим полносвязные слои:\n",
    "    fc_new =  nn.Sequential(\n",
    "            nn.Dropout(0.2),\n",
    "            nn.Linear(1024, n_neurons),\n",
    "            nn.ReLU(),\n",
    "            nn.Linear(n_neurons, 2))\n",
    "    \n",
    "    model_2.classifier = fc_new\n",
    "    \n",
    "    # Переопределим первый сверточный слой сети, сделав 1 входной канал\n",
    "    model_2.features.conv0 =  nn.Conv2d(1, 64, kernel_size=(7, 7), stride=(2, 2), padding=(3, 3), bias=False)    \n",
    "    \n",
    "    for name, param in model_2.named_parameters():\n",
    "        if not (('conv0' in name) or ('classifier' in name)):\n",
    "            param.requires_grad = False\n",
    "    \n",
    "    loss_func = nn.CrossEntropyLoss().to(device) #Функция поторь\n",
    "\n",
    "    opt = optim.Adam(model_2.parameters(), lr=0.001) # Адам-оптимизатор\n",
    "    scheduler = torch.optim.lr_scheduler.StepLR(optimizer=opt, step_size=5, gamma=0.1)\n",
    "\n",
    "    # Заведем листы, в которые будем сохранять данные loss и acc эпох обучения\n",
    "    loss_train = []\n",
    "    acc_train = []\n",
    "    acc_validation = []\n",
    "    loss_validation = []\n",
    "\n",
    "    maxacc = 0 \n",
    "    print('НАЧИНАЕТСЯ ОБУЧЕНИЕ МОДЕЛИ С n_neurons =', n_neurons, ':')\n",
    "    for epoch in range(n_epoch): # цикл эпох\n",
    "        model_2.train()\n",
    "        running_loss = 0.0\n",
    "        running_acc = 0.0\n",
    "        for batch in tqdm(train_dataloader):\n",
    "            # получим данные батча\n",
    "            image_batch, label_batch  = batch\n",
    "            image_batch, label_batch = image_batch.to(device), label_batch.to(device)\n",
    "\n",
    "            #Приведу значение label_batch к требуемому виду\n",
    "            label_batch = torch.flatten(label_batch).type(torch.LongTensor) \n",
    "\n",
    "            # обнуление параметров градиента\n",
    "            opt.zero_grad()\n",
    "\n",
    "            # forward + backward + optimize\n",
    "            y_pred = model_2(image_batch)\n",
    "            loss = loss_func(y_pred, label_batch)\n",
    "\n",
    "            loss.backward()\n",
    "            opt.step()\n",
    "\n",
    "            #среднее по так будем искать (складывать а потом делить число батчей):\n",
    "            running_loss += loss.item() \n",
    "            running_acc += accuracy(y_pred, label_batch)\n",
    "\n",
    "        print(\"[epoch {}] loss: {:.3}, acc: {:.3}\".format(epoch+1, running_loss / len(train_dataloader),\n",
    "                                                          running_acc / len(train_dataloader)))\n",
    "        loss_train.append(running_loss / len(train_dataloader))\n",
    "        acc_train.append(running_acc / len(train_dataloader))\n",
    "        scheduler.step() # шаг для lr_scheduler\n",
    "\n",
    "        model_2.eval()  #Перевод модели в режим тестирования\n",
    "        acc_val = []\n",
    "        running_loss_val = 0\n",
    "        for itr,data in enumerate(val_dataloader):\n",
    "                imgs = data[0].to(device)\n",
    "                labels = data[1].to(device)   \n",
    "                labels = torch.flatten(labels).type(torch.LongTensor)\n",
    "                y_pred = model_2(imgs)\n",
    "                acc_val.append(accuracy(y_pred,labels))\n",
    "                running_loss_val += loss.item()\n",
    "        loss_val_ep =  running_loss_val / len(val_dataloader)\n",
    "\n",
    "        acc_val_ep = np.mean(np.array(acc_val))\n",
    "        print(f'Validation accuracy - {acc_val_ep}')\n",
    "        acc_validation.append(acc_val_ep)\n",
    "        loss_validation.append(loss_val_ep)\n",
    "\n",
    "\n",
    "        # Сохраним текущую модель лишь в случае более высокого accuracy на валидации:\n",
    "        if np.mean(np.array(acc_val)) > maxacc:\n",
    "                maxacc = np.mean(np.array(acc_val)) \n",
    "                torch.save(model_2, directory+'\\model_DenseNet121_2_n='+str(n_neurons)+'.pth')\n",
    "                \n",
    "    print('ЗАВЕРШИЛОСЬ ОБУЧЕНИЕ МОДЕЛИ С n_neurons =', n_neurons)    \n",
    "    \n",
    "    # Добавим в словари значения изменения метрик в процессе обучения для текущего значения гиперпараметра\n",
    "    loss_train_dict[n_neurons] = loss_train\n",
    "    acc_train_dict[n_neurons] = acc_train\n",
    "    acc_validation_dict[n_neurons] = acc_validation\n",
    "    loss_validation_dict[n_neurons] = loss_validation\n",
    "        \n",
    "print('Total time {:.1f} seconds'.format(time.time() - start_time))"
   ]
  },
  {
   "cell_type": "code",
   "execution_count": 41,
   "id": "375c5494",
   "metadata": {},
   "outputs": [
    {
     "data": {
      "image/png": "[encoded data removed]",
      "text/plain": [
       "<Figure size 800x320 with 1 Axes>"
      ]
     },
     "metadata": {
      "needs_background": "light"
     },
     "output_type": "display_data"
    },
    {
     "data": {
      "image/png": "[encoded data removed]",
      "text/plain": [
       "<Figure size 800x320 with 1 Axes>"
      ]
     },
     "metadata": {
      "needs_background": "light"
     },
     "output_type": "display_data"
    },
    {
     "data": {
      "image/png": "[encoded data removed]",
      "text/plain": [
       "<Figure size 800x320 with 1 Axes>"
      ]
     },
     "metadata": {
      "needs_background": "light"
     },
     "output_type": "display_data"
    }
   ],
   "source": [
    "for i in n_neurons_list:\n",
    "    acc_validation = acc_validation_dict[i]\n",
    "    acc_train = acc_train_dict[i]\n",
    "    plt.figure(figsize=(10, 4), dpi=80)\n",
    "    plt.title('Accuracy changing during the training with n_neurons = ' + str(i))  \n",
    "    plt.plot(list(range(1, n_epoch+1)), acc_validation, label='acc_validation')\n",
    "    plt.plot(list(range(1, n_epoch+1)), acc_train, label='acc_train')\n",
    "    plt.xlabel('epochs')\n",
    "    plt.ylabel('accuracy')\n",
    "    plt.legend(loc='best')  \n",
    "    plt.show()"
   ]
  },
  {
   "cell_type": "code",
   "execution_count": 42,
   "id": "134d075d",
   "metadata": {},
   "outputs": [
    {
     "data": {
      "image/png": "[encoded data removed]",
      "text/plain": [
       "<Figure size 800x320 with 1 Axes>"
      ]
     },
     "metadata": {
      "needs_background": "light"
     },
     "output_type": "display_data"
    },
    {
     "data": {
      "image/png": "[encoded data removed]",
      "text/plain": [
       "<Figure size 800x320 with 1 Axes>"
      ]
     },
     "metadata": {
      "needs_background": "light"
     },
     "output_type": "display_data"
    },
    {
     "data": {
      "image/png": "[encoded data removed]",
      "text/plain": [
       "<Figure size 800x320 with 1 Axes>"
      ]
     },
     "metadata": {
      "needs_background": "light"
     },
     "output_type": "display_data"
    }
   ],
   "source": [
    "for i in n_neurons_list:\n",
    "    loss_validation = loss_validation_dict[i]\n",
    "    loss_train = loss_train_dict[i]\n",
    "    plt.figure(figsize=(10, 4), dpi=80)\n",
    "    plt.title('Cross Entropy Loss changing during the training with n_neurons = ' + str(i))  \n",
    "    plt.plot(list(range(1, n_epoch+1)), loss_validation, label='loss_validation')\n",
    "    plt.plot(list(range(1, n_epoch+1)), loss_train, label='loss_train')\n",
    "    plt.xlabel('epochs')\n",
    "    plt.ylabel('loss')\n",
    "    plt.legend(loc='best')  \n",
    "    plt.show()"
   ]
  },
  {
   "cell_type": "code",
   "execution_count": 43,
   "id": "17f18ba2",
   "metadata": {},
   "outputs": [
    {
     "data": {
      "image/png": "[encoded data removed]",
      "text/plain": [
       "<Figure size 800x320 with 1 Axes>"
      ]
     },
     "metadata": {
      "needs_background": "light"
     },
     "output_type": "display_data"
    }
   ],
   "source": [
    "plt.figure(figsize=(10, 4), dpi=80)\n",
    "plt.title('Validation accuracy changing during the training')  \n",
    "plt.xlabel('epochs')\n",
    "plt.ylabel('accuracy score')\n",
    "\n",
    "for i in n_neurons_list:\n",
    "    acc_validation = acc_validation_dict[i]\n",
    "    plt.plot(list(range(1, n_epoch+1)), acc_validation, label='accuracy validation with n_neurons = ' + str(i))\n",
    "plt.legend(loc='best')  \n",
    "plt.show()"
   ]
  },
  {
   "cell_type": "code",
   "execution_count": 46,
   "id": "6a41760a",
   "metadata": {},
   "outputs": [
    {
     "data": {
      "image/png": "[encoded data removed]",
      "text/plain": [
       "<Figure size 800x320 with 1 Axes>"
      ]
     },
     "metadata": {
      "needs_background": "light"
     },
     "output_type": "display_data"
    }
   ],
   "source": [
    "plt.figure(figsize=(10, 4), dpi=80)\n",
    "plt.title('Training accuracy changing during the training')  \n",
    "plt.xlabel('epochs')\n",
    "plt.ylabel('accuracy score')\n",
    "\n",
    "for i in n_neurons_list:\n",
    "    acc_train = acc_train_dict[i]\n",
    "    plt.plot(list(range(1, n_epoch+1)), acc_train, label='accuracy validation with n_neurons = ' + str(i))\n",
    "plt.legend(loc='best')  \n",
    "plt.show()"
   ]
  },
  {
   "cell_type": "code",
   "execution_count": 47,
   "id": "5e126496",
   "metadata": {},
   "outputs": [
    {
     "name": "stdout",
     "output_type": "stream",
     "text": [
      "Validation accuracy change:\n"
     ]
    },
    {
     "data": {
      "text/html": [
       "<div>\n",
       "<style scoped>\n",
       "    .dataframe tbody tr th:only-of-type {\n",
       "        vertical-align: middle;\n",
       "    }\n",
       "\n",
       "    .dataframe tbody tr th {\n",
       "        vertical-align: top;\n",
       "    }\n",
       "\n",
       "    .dataframe thead th {\n",
       "        text-align: right;\n",
       "    }\n",
       "</style>\n",
       "<table border=\"1\" class=\"dataframe\">\n",
       "  <thead>\n",
       "    <tr style=\"text-align: right;\">\n",
       "      <th></th>\n",
       "      <th>epoch</th>\n",
       "      <th>10 neurons</th>\n",
       "      <th>100 neurons</th>\n",
       "      <th>500 neurons</th>\n",
       "    </tr>\n",
       "  </thead>\n",
       "  <tbody>\n",
       "    <tr>\n",
       "      <th>0</th>\n",
       "      <td>1.0</td>\n",
       "      <td>0.35625</td>\n",
       "      <td>0.49375</td>\n",
       "      <td>0.600000</td>\n",
       "    </tr>\n",
       "    <tr>\n",
       "      <th>1</th>\n",
       "      <td>2.0</td>\n",
       "      <td>0.33750</td>\n",
       "      <td>0.49375</td>\n",
       "      <td>0.596875</td>\n",
       "    </tr>\n",
       "  </tbody>\n",
       "</table>\n",
       "</div>"
      ],
      "text/plain": [
       "   epoch  10 neurons  100 neurons  500 neurons\n",
       "0    1.0     0.35625      0.49375     0.600000\n",
       "1    2.0     0.33750      0.49375     0.596875"
      ]
     },
     "execution_count": 47,
     "metadata": {},
     "output_type": "execute_result"
    }
   ],
   "source": [
    "table = [list(range(1,n_epoch+1))]\n",
    "columns = ['epoch']\n",
    "for i, val in enumerate(n_neurons_list):\n",
    "    table.append(acc_validation_dict[val])\n",
    "    columns.append(str(val)+' neurons')\n",
    "table = np.asarray(table).T\n",
    "print('Validation accuracy change:')\n",
    "pd.DataFrame(table, columns=columns)"
   ]
  },
  {
   "cell_type": "code",
   "execution_count": null,
   "id": "f45207d0",
   "metadata": {},
   "outputs": [],
   "source": []
  },
  {
   "cell_type": "code",
   "execution_count": null,
   "id": "7d746053",
   "metadata": {},
   "outputs": [],
   "source": []
  },
  {
   "cell_type": "code",
   "execution_count": null,
   "id": "06834f09",
   "metadata": {},
   "outputs": [],
   "source": []
  },
  {
   "cell_type": "code",
   "execution_count": null,
   "id": "44d5b6a2",
   "metadata": {},
   "outputs": [],
   "source": []
  },
  {
   "cell_type": "code",
   "execution_count": null,
   "id": "a694e4c6",
   "metadata": {},
   "outputs": [],
   "source": []
  },
  {
   "cell_type": "code",
   "execution_count": null,
   "id": "9fbe32ca",
   "metadata": {},
   "outputs": [],
   "source": []
  },
  {
   "cell_type": "code",
   "execution_count": null,
   "id": "aa8620ea",
   "metadata": {},
   "outputs": [],
   "source": []
  },
  {
   "cell_type": "code",
   "execution_count": null,
   "id": "0f9dc4db",
   "metadata": {},
   "outputs": [],
   "source": []
  },
  {
   "cell_type": "code",
   "execution_count": null,
   "id": "b098f20e",
   "metadata": {},
   "outputs": [],
   "source": []
  },
  {
   "cell_type": "code",
   "execution_count": null,
   "id": "293775b5",
   "metadata": {},
   "outputs": [],
   "source": []
  },
  {
   "cell_type": "code",
   "execution_count": null,
   "id": "c4262f62",
   "metadata": {},
   "outputs": [],
   "source": []
  },
  {
   "cell_type": "markdown",
   "id": "a6bcdca9",
   "metadata": {},
   "source": [
    "## №3"
   ]
  },
  {
   "cell_type": "markdown",
   "id": "01f3c4cc",
   "metadata": {},
   "source": [
    "__Полностью обучим сеть, ничего в ней не меняя (кроме выходного числа нейронов в полносвязной части).__ <br>\n",
    "Так как фотки исходные чб, то при создании датасетов буду включать параметр RGB_presentation = True, который сделает входные фотки размером (3, 224, 224)"
   ]
  },
  {
   "cell_type": "code",
   "execution_count": 48,
   "id": "8fc11dd3",
   "metadata": {},
   "outputs": [],
   "source": [
    "data = datasets_bilder.preprocessing_func(RGB_presentation=True, easy=True)\n",
    "dataset_test = data.test\n",
    "dataset_train = data.train\n",
    "dataset_val = data.val\n",
    "mean_nums = data.mean_nums\n",
    "std_nums = data.std_nums\n",
    "batch_size = 10 \n",
    "train_dataloader = DataLoader(dataset=dataset_train, batch_size=batch_size, shuffle=True, num_workers=0)\n",
    "test_dataloader = DataLoader(dataset=dataset_test, batch_size=batch_size, shuffle=True, num_workers=0)\n",
    "val_dataloader = DataLoader(dataset=dataset_val, batch_size=batch_size, shuffle=True, num_workers=0)"
   ]
  },
  {
   "cell_type": "code",
   "execution_count": 49,
   "id": "c18a8f86",
   "metadata": {},
   "outputs": [],
   "source": [
    "n_epoch = 15"
   ]
  },
  {
   "cell_type": "code",
   "execution_count": 50,
   "id": "fcc958fd",
   "metadata": {},
   "outputs": [],
   "source": [
    "directory = os.getcwd() + '\\models'\n",
    "device = torch.device(\"cuda\") if torch.cuda.is_available() else torch.device(\"cpu\")\n",
    "\n",
    "def accuracy(output,labels):\n",
    "    predictions = torch.argmax(output,dim=1)\n",
    "    correct = (predictions == labels).sum().cpu().numpy()\n",
    "    return correct / len(labels)"
   ]
  },
  {
   "cell_type": "code",
   "execution_count": 51,
   "id": "1935ea15",
   "metadata": {},
   "outputs": [
    {
     "name": "stderr",
     "output_type": "stream",
     "text": [
      "100%|██████████████████████████████████████████████████████████████████████████████████████████████| 269/269 [13:29<00:00,  3.01s/it]\n"
     ]
    },
    {
     "name": "stdout",
     "output_type": "stream",
     "text": [
      "[epoch 1] loss: 0.71, acc: 0.512\n",
      "Validation accuracy - 0.703125\n"
     ]
    },
    {
     "name": "stderr",
     "output_type": "stream",
     "text": [
      "100%|██████████████████████████████████████████████████████████████████████████████████████████████| 269/269 [13:22<00:00,  2.98s/it]\n"
     ]
    },
    {
     "name": "stdout",
     "output_type": "stream",
     "text": [
      "[epoch 2] loss: 0.706, acc: 0.525\n",
      "Validation accuracy - 0.70625\n",
      "Total time 1750.095 seconds\n"
     ]
    }
   ],
   "source": [
    "model_3 = torch.hub.load('pytorch/vision:v0.10.0', 'densenet121', pretrained=True).to(device)\n",
    "\n",
    "# Переопредлим полносвязные слои:\n",
    "fc_new =  nn.Sequential(\n",
    "                nn.Linear(1024, 2))\n",
    "model_3.classifire = fc_new\n",
    "    \n",
    "for name, param in model_3.named_parameters():\n",
    "    param.requires_grad = True\n",
    "\n",
    "loss_func = nn.CrossEntropyLoss().to(device) #Функция поторь\n",
    "\n",
    "opt = optim.Adam(model_3.parameters(), lr=0.001) # Адам-оптимизатор\n",
    "scheduler = torch.optim.lr_scheduler.StepLR(optimizer=opt, step_size=5, gamma=0.1)   \n",
    "\n",
    "# Заведем листы, в которые будем сохранять данные loss и acc эпох обучения\n",
    "loss_train = []\n",
    "acc_train = []\n",
    "acc_validation = []\n",
    "loss_validation = []\n",
    "\n",
    "start_time = time.time()\n",
    "maxacc = 0 \n",
    "for epoch in range(n_epoch): # цикл эпох\n",
    "    model_3.train() # Перевод модели в режим обучения\n",
    "    running_loss = 0.0\n",
    "    running_acc = 0.0\n",
    "    for batch in tqdm(train_dataloader):\n",
    "        # получим данные батча\n",
    "        image_batch, label_batch  = batch\n",
    "        image_batch, label_batch = image_batch.to(device), label_batch.to(device)\n",
    "        \n",
    "        #Приведу значение label_batch к требуемому виду\n",
    "        label_batch = torch.flatten(label_batch).type(torch.LongTensor) \n",
    "        \n",
    "        # обнуление параметров градиента\n",
    "        opt.zero_grad()\n",
    "\n",
    "        # forward + backward + optimize\n",
    "        y_pred = model_3(image_batch)\n",
    "        loss = loss_func(y_pred, label_batch)\n",
    "        \n",
    "        loss.backward()\n",
    "        opt.step()\n",
    "        \n",
    "        #среднее по так будем искать (складывать а потом делить число батчей):\n",
    "        running_loss += loss.item() \n",
    "        running_acc += accuracy(y_pred, label_batch)\n",
    "        \n",
    "    print(\"[epoch {}] loss: {:.3}, acc: {:.3}\".format(epoch+1, running_loss / len(train_dataloader),\n",
    "                                                      running_acc / len(train_dataloader)))\n",
    "    loss_train.append(running_loss / len(train_dataloader))\n",
    "    acc_train.append(running_acc / len(train_dataloader))\n",
    "    scheduler.step() # шаг для lr_scheduler\n",
    "\n",
    "    model_3.eval()  #Перевод модели в режим тестирования\n",
    "    acc_val = []\n",
    "    running_loss_val = 0\n",
    "    for itr,data in enumerate(val_dataloader):\n",
    "            imgs = data[0].to(device)\n",
    "            labels = data[1].to(device)   \n",
    "            labels = torch.flatten(labels).type(torch.LongTensor)\n",
    "            y_pred = model_3(imgs)\n",
    "            acc_val.append(accuracy(y_pred,labels))\n",
    "            running_loss_val += loss.item()\n",
    "    loss_val_ep =  running_loss_val / len(val_dataloader)\n",
    "\n",
    "    acc_val_ep = np.mean(np.array(acc_val))\n",
    "    print(f'Validation accuracy - {acc_val_ep}')\n",
    "    acc_validation.append(acc_val_ep)\n",
    "    loss_validation.append(loss_val_ep)\n",
    "\n",
    "    \n",
    "    # Сохраним текущую модель лишь в случае более высокого accuracy на валидации:\n",
    "    if np.mean(np.array(acc_val)) > maxacc:\n",
    "            maxacc = np.mean(np.array(acc_val)) \n",
    "            torch.save(model_3, directory+'\\model_DenseNet121_full_train.pth')\n",
    "            \n",
    "print('Total time {:.3f} seconds'.format(time.time() - start_time))"
   ]
  },
  {
   "cell_type": "code",
   "execution_count": null,
   "id": "8ec3d1bf",
   "metadata": {},
   "outputs": [],
   "source": []
  }
 ],
 "metadata": {
  "kernelspec": {
   "display_name": "Python 3 (ipykernel)",
   "language": "python",
   "name": "python3"
  },
  "language_info": {
   "codemirror_mode": {
    "name": "ipython",
    "version": 3
   },
   "file_extension": ".py",
   "mimetype": "text/x-python",
   "name": "python",
   "nbconvert_exporter": "python",
   "pygments_lexer": "ipython3",
   "version": "3.9.7"
  }
 },
 "nbformat": 4,
 "nbformat_minor": 5
}
